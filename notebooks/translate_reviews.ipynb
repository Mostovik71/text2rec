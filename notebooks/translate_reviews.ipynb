{
  "cells": [
    {
      "cell_type": "code",
      "execution_count": 1,
      "metadata": {
        "id": "78FCSIOJbpR7"
      },
      "outputs": [],
      "source": [
        "import re\n",
        "import torch\n",
        "import pandas as pd\n",
        "from googletrans import Translator\n",
        "from transformers import AutoTokenizer\n",
        "from transformers.models.xlm_roberta.tokenization_xlm_roberta_fast import XLMRobertaTokenizerFast"
      ]
    },
    {
      "cell_type": "code",
      "execution_count": 2,
      "metadata": {
        "id": "pAdpSs25bxVy"
      },
      "outputs": [
        {
          "data": {
            "text/plain": [
              "'Incredible adventures'"
            ]
          },
          "execution_count": 2,
          "metadata": {},
          "output_type": "execute_result"
        }
      ],
      "source": [
        "translator = Translator()\n",
        "translator.translate(\"Невероятные приключения\", src=\"ru\", dest=\"en\").text"
      ]
    },
    {
      "cell_type": "code",
      "execution_count": 3,
      "metadata": {
        "colab": {
          "base_uri": "https://localhost:8080/",
          "height": 337
        },
        "id": "HuPBJyZSc-h8",
        "outputId": "fa984d5d-75df-4ad4-fe75-fb99be5b4fd1"
      },
      "outputs": [
        {
          "data": {
            "text/html": [
              "<div>\n",
              "<style scoped>\n",
              "    .dataframe tbody tr th:only-of-type {\n",
              "        vertical-align: middle;\n",
              "    }\n",
              "\n",
              "    .dataframe tbody tr th {\n",
              "        vertical-align: top;\n",
              "    }\n",
              "\n",
              "    .dataframe thead th {\n",
              "        text-align: right;\n",
              "    }\n",
              "</style>\n",
              "<table border=\"1\" class=\"dataframe\">\n",
              "  <thead>\n",
              "    <tr style=\"text-align: right;\">\n",
              "      <th></th>\n",
              "      <th>film_id</th>\n",
              "      <th>review_id</th>\n",
              "      <th>type</th>\n",
              "      <th>date</th>\n",
              "      <th>pos</th>\n",
              "      <th>neg</th>\n",
              "      <th>author</th>\n",
              "      <th>title</th>\n",
              "      <th>description</th>\n",
              "    </tr>\n",
              "  </thead>\n",
              "  <tbody>\n",
              "    <tr>\n",
              "      <th>0</th>\n",
              "      <td>435</td>\n",
              "      <td>65581</td>\n",
              "      <td>POSITIVE</td>\n",
              "      <td>2007-06-26T19:47:00</td>\n",
              "      <td>485</td>\n",
              "      <td>63</td>\n",
              "      <td>P.S.SeLeNa</td>\n",
              "      <td>NaN</td>\n",
              "      <td>«Они помогли ему убить себя и так происходит к...</td>\n",
              "    </tr>\n",
              "    <tr>\n",
              "      <th>1</th>\n",
              "      <td>435</td>\n",
              "      <td>151932</td>\n",
              "      <td>POSITIVE</td>\n",
              "      <td>2008-01-25T03:08:00</td>\n",
              "      <td>256</td>\n",
              "      <td>26</td>\n",
              "      <td>Боб</td>\n",
              "      <td>Дорога длинною в жизнь</td>\n",
              "      <td>«Боже, иногда Зеленая миля так длинна… «.  «М...</td>\n",
              "    </tr>\n",
              "    <tr>\n",
              "      <th>2</th>\n",
              "      <td>435</td>\n",
              "      <td>72099</td>\n",
              "      <td>NEUTRAL</td>\n",
              "      <td>2007-05-23T23:34:00</td>\n",
              "      <td>209</td>\n",
              "      <td>24</td>\n",
              "      <td>КиноПоиск</td>\n",
              "      <td>NaN</td>\n",
              "      <td>I. Два творца: Стивен Кинг. Имя, не нуждающеес...</td>\n",
              "    </tr>\n",
              "    <tr>\n",
              "      <th>3</th>\n",
              "      <td>435</td>\n",
              "      <td>114905</td>\n",
              "      <td>POSITIVE</td>\n",
              "      <td>2007-10-21T18:32:00</td>\n",
              "      <td>175</td>\n",
              "      <td>20</td>\n",
              "      <td>Exitlude</td>\n",
              "      <td>NaN</td>\n",
              "      <td>Они помогли ему убить себя. «Они помогли ему у...</td>\n",
              "    </tr>\n",
              "    <tr>\n",
              "      <th>4</th>\n",
              "      <td>435</td>\n",
              "      <td>1715054</td>\n",
              "      <td>NEGATIVE</td>\n",
              "      <td>2013-02-06T17:48:00</td>\n",
              "      <td>148</td>\n",
              "      <td>375</td>\n",
              "      <td>Maria_M</td>\n",
              "      <td>Тот момент, когда десяток отрицательный коммен...</td>\n",
              "      <td>Посмотреть «Зеленую милю» меня заставило, как ...</td>\n",
              "    </tr>\n",
              "  </tbody>\n",
              "</table>\n",
              "</div>"
            ],
            "text/plain": [
              "   film_id  review_id      type                 date  pos  neg      author  \\\n",
              "0      435      65581  POSITIVE  2007-06-26T19:47:00  485   63  P.S.SeLeNa   \n",
              "1      435     151932  POSITIVE  2008-01-25T03:08:00  256   26         Боб   \n",
              "2      435      72099   NEUTRAL  2007-05-23T23:34:00  209   24   КиноПоиск   \n",
              "3      435     114905  POSITIVE  2007-10-21T18:32:00  175   20    Exitlude   \n",
              "4      435    1715054  NEGATIVE  2013-02-06T17:48:00  148  375     Maria_M   \n",
              "\n",
              "                                               title  \\\n",
              "0                                                NaN   \n",
              "1                             Дорога длинною в жизнь   \n",
              "2                                                NaN   \n",
              "3                                                NaN   \n",
              "4  Тот момент, когда десяток отрицательный коммен...   \n",
              "\n",
              "                                         description  \n",
              "0  «Они помогли ему убить себя и так происходит к...  \n",
              "1   «Боже, иногда Зеленая миля так длинна… «.  «М...  \n",
              "2  I. Два творца: Стивен Кинг. Имя, не нуждающеес...  \n",
              "3  Они помогли ему убить себя. «Они помогли ему у...  \n",
              "4  Посмотреть «Зеленую милю» меня заставило, как ...  "
            ]
          },
          "execution_count": 3,
          "metadata": {},
          "output_type": "execute_result"
        }
      ],
      "source": [
        "df = pd.read_csv(\"top_250_films_reviews_filtered.csv\")\n",
        "df.head()"
      ]
    },
    {
      "cell_type": "code",
      "execution_count": 17,
      "metadata": {},
      "outputs": [],
      "source": [
        "MODEL_MAX_LENGTH = 512 # 514\n",
        "model_name = 'unicamp-dl/mMiniLM-L6-v2-mmarco-v2'\n",
        "tokenizer: XLMRobertaTokenizerFast  = AutoTokenizer.from_pretrained(model_name)\n",
        "tokenizer.model_max_length = MODEL_MAX_LENGTH"
      ]
    },
    {
      "cell_type": "code",
      "execution_count": 18,
      "metadata": {},
      "outputs": [],
      "source": [
        "def truncate(text):\n",
        "    inputs = tokenizer(text, return_tensors=\"pt\", padding=True, truncation=True)\n",
        "    output = tokenizer.decode(inputs[\"input_ids\"][0]).lstrip(\"<s> \").rstrip(\"</s>\")\n",
        "    return output"
      ]
    },
    {
      "cell_type": "code",
      "execution_count": 22,
      "metadata": {
        "colab": {
          "base_uri": "https://localhost:8080/",
          "height": 125
        },
        "id": "Oq4J4ujCemF5",
        "outputId": "f2a2aea0-81f1-4fa2-b667-368a3ab1463b"
      },
      "outputs": [
        {
          "name": "stdout",
          "output_type": "stream",
          "text": [
            " «Боже, иногда Зеленая миля так длинна… «.  «Мы все заслужили смерть, все, без исключения. Но ведь тот же Бог так жестоко принес в жертву Джона Коффи, пытавшегося творить добро по-своему, как только ветхозаветный пророк мог принести в жертву беззащитного агнца, …как Авраам пожертвовал бы собственным сыном, если бы ему и впрямь повелели. Я вспоминаю слова Джона, что Уортон убил близняшек Деттерик их любовью друг к другу, и такое происходит каждый день по всему миру. Значит, Бог позволяет, чтобы оно случалось, и, когда мы говорим: «Я не понимаю», Бог отвечает: «Мне все равно». Стивен Кинг («Зеленая миля»). О, не спеши туда, где жизнь светлей и чище! А. Толстой. Сюжет идентичен с книгой Стивена Кинга, поэтому буду краток. Пол Эджкомб работает начальником тюремного блока. Это не простой блок — здесь проводят свои последние недели люди, осужденные на смертную казнь — самые отъявленные уголовники: маньяки, насильники, убийцы. Пол проработал здесь много лет, провел сотни казней и научился быть циником, но так и не научился быть убийцей. Он сумел сохранить в себе человека, как и три его закадычных друга, работающих с ним же. Свои последние шаги в качестве живого человека смертники назвали «зеленой милей», потому что пол длинного коридора, по которому вели заключенного в последний путь был покрыт линолеумом зеленого цвета. Многие прошагали по этой дорожке и Пол вытерпел все. Но вот по зеленой миле должен пройтись человек, обладающий божественной силой, и, как уверен Пол, человек ни в чем не повинный. Он появился в блоке и наделал шороху — огромный, гигантский негр, с мускулами голиафа и силой слона, был кроток и все время плакал. Он был обвинен за убийство и изнасилование двух девочек-близняшек. Негр слабоват умом, но в его руках заложена громадная целительная сила, правда, на зеленой мили от его силы нет никакого толка. Все, что происходит на зеленой миле, на ней и остается. Это закон. И несчастный надзиратель через всю жизнь пронесет воспоминания о тех месяцах, что он провел в тюрьме вместе с гигантом Джоном Коффи. Они навсегда изменили его жизнь! * * *. Фильм поставлен по роману-бестселлеру «короля ужасов» Стивена Кинга. Стивен Кинг не только самый удачливый и богатый писатель в истории мировой литературы, он человек, безусловно, очень талантливый. Мое увлечение произведениями Кинга началось несколько лет назад с великолепной «Безнадеги». В отличие от других королей жанра, например, Лавкрафта, Кинг описывает реально страшные вещи и описывает их очень ярко, эмоционально и талантливо, словно пропуская через себя (кстати, для написания «Мили» он несколько дней провел в камере смертников, и даже пристегивался к электрическому стулу для полноты ощущений). Он не опускает деталей, некоторых стиль Кинга просто шокирует, потому что люди, характеры в его произведениях самые что ни на есть натуральные, и занимаются человеческими делами, и только вмешивающаяся в их жизнь мистика нарушает естественный ход вещей. Кинг автор огромного числе романов и почти все они экранизованы, и нельзя не отметить, что Кинг очень любит кино, частенько сам пишет сценарии, иногда выступает продюсером, а изредка даже мелькает в эпизодах. Это заигрывание с кино не случайно — литературный язык писателя на редкость кинематографичен. Он словно скользит камерой по сюжету своих романов, прям любой хоть бери — готовый сценарий, расписанный до мельчайших подробностей. Правда, на экранизации Кингу очень не везет — уж больно сильны в США каноны традиционных ужастиков, поэтому из романа выкидывают весь смысл, очищают его от всего настоящего и оставляют лишь страшные бессмысленные картинки, по которым часто совершенно отвратительные режиссеры снимают с бездарными телеактерами отстойные фильмы вроде «Оно» или недавней «Безнадеги». Нельзя Кинга экранизовать традиционно и так однобоко! Чтобы снять кино по Кингу, нужно, во-первых, досконально разобрать по полочкам его произведение, а во-вторых, просто полюбить его героев. Фрэнк Дарабонт нередко сам признавался, что любит Стивена Кинга и считает его самым выдающимся писателем современности. Не мне судить Дарабонта, у Кинга на самом деле много чисто конъюнктурных и поделочных романов, но одного у режиссера не отнимешь — он настолько сильно проникся произведениями короля ужасов, что снял по ним уже два безусловных шедевра, и, надеюсь, снял еще один (я еще не видел «Тумана»). Что интересно, Дарабонта мало интересуют романы ужасов, потому что такие книги, во-первых, экранизуются тучами, а во-вторых, за легкостью жанра, делаются быстро и традиционно. А вот такие, как «Зеленая миля» — это экранизовать страшно, не каждый потянет, уж больно сложны герои, больно многогранна книга, больно тяжел смысл. Это вам не детей в лоскуты кромсать — море бутафорской крови и искаженное злобой лицо маньяка. К «Миле» на вездеходе не подкатишь! Однако, Дарабонт чрезвычайно сильный и профессиональный режиссер. Он поразил всех без исключения — и критиков, и зрителей, экранизировав в 1994 небольшой рассказик Кинга «Рита Хейуорд или искупление Шоушенком», получил несколько Оскаров и неплохую кассу. А через несколько лет взялся за лучшее произведение Кинга — «Зеленую милю». У него было два пути — либо изменять книгу ради придания фильму более глянцевого и популярного оттенка, т. е. уродовать Кинга сценарными условностями, либо экранизировать книгу точно, словно перелистывая перед зрителями страницу за страницей. Он избрал второй путь, пожалуй, единственно верный. Ни один Кинг при экранизации не пострадал! Дарабонт не упустил ни одной, даже самой мелкой детали, он был педантичен и точен во всем. Даже диалоги героев максимально приближены к тексту, все точно и ясно. Было лишь несколько малозаметных изменений, но атмосфера романа, атмосфера боли и страха, дух последнего, самого тяжелого пути в жизни преступников, были переданы восхитительно. Дарабонт сумел перенести на экран не только уникальную атмосферу, но и без ущерба смысл книги, характеры всех героев, сумел передать законы эпохи и сумел угодить всем — и зрителям, что подтверждают 286, 8 млн. $ кассовых сборов, и критикам, что подтверждают несколько номинаций на Оскар, и даже Кингу, который назвал «Зеленую милю» своей самой любимой экранизацией. Недостатком многих книг Кинга является их затянутость. Любовь к доскональному изучению подробностей иногда губит его романы, так, я совсем не могу читать «Темную башню» — там слишком много томов — десяток одинаковых книг. Дарабонт мог исправить этот недостаток, добавив фильму драйва музыкой или хотя бы несколькими динамичными сценами, но он этого делать не стал, чтобы не терять ниточку романа. В фильме звучат переливчатые ритмы из фильмов Хэмфри Богарта, а стиль фильма — течение ровной, спокойной, немного сонной реки. Но что удивительно — у фильма гигантский хронометраж — 3 часа! Да на «Властелине колец» я за это время пять раз засыпал и просыпался, но здесь не хотелось спать. Этот фильм, лишенный всех приемов кинозавлекательности, затягивает, безраздельно властвует над зрителем, держит его у экрана все 3 часа. Как я проглотил книгу, так я проглотил фильм — сразу, одни махом. Это поистине чудо прекрасного режиссера. Фильм очень эмоционален, пожалуй, даже сентиментален. Но это не дешевая сентиментальность бразильских сериалов, где все извергают потоки слез, а потом тонут в собственной патоке, придавленные розовыми слонами. Это настоящие, жизненные чувства, которые безумно трогают. Я долго сдерживал себя, но в конце концов все же не выдержал — настолько сильно сделаны некоторые сцены. В них нет фальши. Они искренни и свободны. И нет хэппи-энда, фильм, пожалуй, даже жесток, хотя, подумав, понимаешь — по-другому произойти и не могло. В картине занят изумительный актерский ансамбль — что «Побег из Шоушенка», что «Зеленая миля» — актеры подобраны абсолютно идеально — просто не к чему придраться. Я люблю Тома Хэнкса, хотя немногие его роли вызывают у меня к нему теплые чувства, но здесь он сыграл прекрасно, пожалуй, лучшая его роль из тех, что я видел. Очень ровно, с нужной его герою долей цинизма, без лишних эмоций, без слез и заламываний рук, Хэнкс действительно большой актер, жаль, что не всегда это видно во всяких «Кодах да Винчи» и пафосных «Райанах», где он толком не знает, что делать, и как себя подать. Когда я читал книгу, я сам видел в Джоне Коффи кого-то вроде Майкла Кларка Дункана. И, когда смотрел фильм, увидел его воочию. Да, это был Кффи из моего воображения. Идеальный выбор! Громадный негр с гигантскими мускулами, но очень добрым, немного детским лицом. Дункан смотрелся восхитительно — он был невинен, трогателен и потрясающе искренен. Его за эту роль номинировали на Оскар, и жаль, что не дали — я от него, героя боевиков, такого не ожидал. Потрясающе. Да все, кого не возьмешь — на своем месте, без дураков. Джеймс Кромуэлл в роли начальника тюрьмы, Дэвид Морс в роли Брутиса (очень хорош), Майкл Джетер в роли Делакруа, Даг Хачисон в роли мерзкого Перси…. Прекрасные актеры, настоящие профессионалы, раскрывшие перед нами характеры своих персонажей полностью, по уровню игры этот фильм скорее очень сильная психологическая драма, а не заявленный мистический триллер, да и мистики там кот наплакал. Мне трудно усмотреть какие-то недостатки в этом фильме, потому что редко встречается режиссер, способный перенести объемную и сложную книгу на экран с такой любовью, так точно и без потерь. Я люблю книгу и люблю фильм. Это стоящее кино. Идеальная экранизация гениального романа — один из лучших фильмов последнего десятилетия! Он способен потрясти до глубины души и не оставит равнодушным, а это признак хорошего кино. 10 из 10\n"
          ]
        },
        {
          "data": {
            "text/plain": [
              "'«Боже, иногда Зеленая миля так длинна... «. «Мы все заслужили смерть, все, без исключения. Но ведь тот же Бог так жестоко принес в жертву Джона Коффи, пытавшегося творить добро по-своему, как только ветхозаветный пророк мог принести в жертву беззащитного агнца,...как Авраам пожертвовал бы собственным сыном, если бы ему и впрямь повелели. Я вспоминаю слова Джона, что Уортон убил близняшек Деттерик их любовью друг к другу, и такое происходит каждый день по всему миру. Значит, Бог позволяет, чтобы оно случалось, и, когда мы говорим: «Я не понимаю», Бог отвечает: «Мне все равно». Стивен Кинг («Зеленая миля»). О, не спеши туда, где жизнь светлей и чище! А. Толстой. Сюжет идентичен с книгой Стивена Кинга, поэтому буду краток. Пол Эджкомб работает начальником тюремного блока. Это не простой блок — здесь проводят свои последние недели люди, осужденные на смертную казнь — самые отъявленные уголовники: маньяки, насильники, убийцы. Пол проработал здесь много лет, провел сотни казней и научился быть циником, но так и не научился быть убийцей. Он сумел сохранить в себе человека, как и три его закадычных друга, работающих с ним же. Свои последние шаги в качестве живого человека смертники назвали «зеленой милей», потому что пол длинного коридора, по которому вели заключенного в последний путь был покрыт линолеумом зеленого цвета. Многие прошагали по этой дорожке и Пол вытерпел все. Но вот по зеленой миле должен пройтись человек, обладающий божественной силой, и, как уверен Пол, человек ни в чем не повинный. Он появился в блоке и наделал шороху — огромный, гигантский негр, с мускулами голиафа и силой слона, был кроток и все время плакал. Он был обвинен за убийство и изнасилование двух девочек-близняшек. Негр слабоват умом, но в его руках заложена громадная целительная сила, правда, на зеленой мили от его'"
            ]
          },
          "execution_count": 22,
          "metadata": {},
          "output_type": "execute_result"
        }
      ],
      "source": [
        "data = df.iloc[1][\"description\"]\n",
        "print(data)\n",
        "truncate(data)"
      ]
    },
    {
      "cell_type": "code",
      "execution_count": 5,
      "metadata": {
        "colab": {
          "base_uri": "https://localhost:8080/",
          "height": 125
        },
        "id": "TFWdyPkBpumP",
        "outputId": "4692c3d5-1674-4abb-8778-eb4dd980feeb"
      },
      "outputs": [
        {
          "data": {
            "text/plain": [
              "'“They helped him kill himself and this happens every day all over the world” ... a film that I can safely call a masterpiece. The film that lasts three hours and which fly unnoticed. A film that looks every time in the first. A film that cannot be forgotten and which cannot be ignored. The film, which makes us think about the life that we spend on trifles, amending ourselves with the illusion of immortality, about death, which does not spare anyone. A film about evil, which is not always punishable and about good, which is sometimes powerless to change anything. And you just have to look at how the court rises, on who should not sit on the bench of the defendants. The film that changed my worldview and taught how to treat life differently. 10 out of 10'"
            ]
          },
          "execution_count": 5,
          "metadata": {},
          "output_type": "execute_result"
        }
      ],
      "source": [
        "translated = translator.translate(data, dest=\"en\", src=\"ru\")\n",
        "translated.text"
      ]
    },
    {
      "cell_type": "code",
      "execution_count": 32,
      "metadata": {
        "id": "fAu6A4avsApW"
      },
      "outputs": [],
      "source": [
        "class Test:\n",
        "    def __init__(self):\n",
        "        self.i = 0\n",
        "    def __call__(self, text):\n",
        "        self.i += 1\n",
        "        print(f\"\\r{self.i}\", end=\"\")\n",
        "        text = truncate(text)\n",
        "        translated = translator.translate(text, dest=\"en\", src=\"ru\")\n",
        "        return translated.text"
      ]
    },
    {
      "cell_type": "code",
      "execution_count": 33,
      "metadata": {
        "colab": {
          "base_uri": "https://localhost:8080/",
          "height": 372
        },
        "id": "fQfqH3kMrvp3",
        "outputId": "d2e3b067-6cbb-412b-83e9-63616ddb1957"
      },
      "outputs": [
        {
          "name": "stdout",
          "output_type": "stream",
          "text": [
            "9502"
          ]
        },
        {
          "data": {
            "text/html": [
              "<div>\n",
              "<style scoped>\n",
              "    .dataframe tbody tr th:only-of-type {\n",
              "        vertical-align: middle;\n",
              "    }\n",
              "\n",
              "    .dataframe tbody tr th {\n",
              "        vertical-align: top;\n",
              "    }\n",
              "\n",
              "    .dataframe thead th {\n",
              "        text-align: right;\n",
              "    }\n",
              "</style>\n",
              "<table border=\"1\" class=\"dataframe\">\n",
              "  <thead>\n",
              "    <tr style=\"text-align: right;\">\n",
              "      <th></th>\n",
              "      <th>film_id</th>\n",
              "      <th>review_id</th>\n",
              "      <th>type</th>\n",
              "      <th>date</th>\n",
              "      <th>pos</th>\n",
              "      <th>neg</th>\n",
              "      <th>author</th>\n",
              "      <th>title</th>\n",
              "      <th>description</th>\n",
              "    </tr>\n",
              "  </thead>\n",
              "  <tbody>\n",
              "    <tr>\n",
              "      <th>0</th>\n",
              "      <td>435</td>\n",
              "      <td>65581</td>\n",
              "      <td>POSITIVE</td>\n",
              "      <td>2007-06-26T19:47:00</td>\n",
              "      <td>485</td>\n",
              "      <td>63</td>\n",
              "      <td>P.S.SeLeNa</td>\n",
              "      <td>NaN</td>\n",
              "      <td>“They helped him kill himself and this happens...</td>\n",
              "    </tr>\n",
              "    <tr>\n",
              "      <th>1</th>\n",
              "      <td>435</td>\n",
              "      <td>151932</td>\n",
              "      <td>POSITIVE</td>\n",
              "      <td>2008-01-25T03:08:00</td>\n",
              "      <td>256</td>\n",
              "      <td>26</td>\n",
              "      <td>Боб</td>\n",
              "      <td>Дорога длинною в жизнь</td>\n",
              "      <td>“God, sometimes the green mile is so long ...”...</td>\n",
              "    </tr>\n",
              "    <tr>\n",
              "      <th>2</th>\n",
              "      <td>435</td>\n",
              "      <td>72099</td>\n",
              "      <td>NEUTRAL</td>\n",
              "      <td>2007-05-23T23:34:00</td>\n",
              "      <td>209</td>\n",
              "      <td>24</td>\n",
              "      <td>КиноПоиск</td>\n",
              "      <td>NaN</td>\n",
              "      <td>I. Two creators: Stephen King. A name that doe...</td>\n",
              "    </tr>\n",
              "    <tr>\n",
              "      <th>3</th>\n",
              "      <td>435</td>\n",
              "      <td>114905</td>\n",
              "      <td>POSITIVE</td>\n",
              "      <td>2007-10-21T18:32:00</td>\n",
              "      <td>175</td>\n",
              "      <td>20</td>\n",
              "      <td>Exitlude</td>\n",
              "      <td>NaN</td>\n",
              "      <td>They helped him kill himself. \"They helped him...</td>\n",
              "    </tr>\n",
              "    <tr>\n",
              "      <th>4</th>\n",
              "      <td>435</td>\n",
              "      <td>1715054</td>\n",
              "      <td>NEGATIVE</td>\n",
              "      <td>2013-02-06T17:48:00</td>\n",
              "      <td>148</td>\n",
              "      <td>375</td>\n",
              "      <td>Maria_M</td>\n",
              "      <td>Тот момент, когда десяток отрицательный коммен...</td>\n",
              "      <td>Watching the Green Mile made me like many, the...</td>\n",
              "    </tr>\n",
              "    <tr>\n",
              "      <th>...</th>\n",
              "      <td>...</td>\n",
              "      <td>...</td>\n",
              "      <td>...</td>\n",
              "      <td>...</td>\n",
              "      <td>...</td>\n",
              "      <td>...</td>\n",
              "      <td>...</td>\n",
              "      <td>...</td>\n",
              "      <td>...</td>\n",
              "    </tr>\n",
              "    <tr>\n",
              "      <th>9498</th>\n",
              "      <td>47237</td>\n",
              "      <td>597888</td>\n",
              "      <td>POSITIVE</td>\n",
              "      <td>2009-08-27T15:43:53</td>\n",
              "      <td>25</td>\n",
              "      <td>6</td>\n",
              "      <td>Christian Robson</td>\n",
              "      <td>Легенда: Начало</td>\n",
              "      <td>Rethinking the classic comic. The beginning of...</td>\n",
              "    </tr>\n",
              "    <tr>\n",
              "      <th>9499</th>\n",
              "      <td>47237</td>\n",
              "      <td>369940</td>\n",
              "      <td>POSITIVE</td>\n",
              "      <td>2009-01-31T21:16:39</td>\n",
              "      <td>25</td>\n",
              "      <td>6</td>\n",
              "      <td>Mexoc</td>\n",
              "      <td>Вот он какой - Бэтмен</td>\n",
              "      <td>I watched this film twice and both times this ...</td>\n",
              "    </tr>\n",
              "    <tr>\n",
              "      <th>9500</th>\n",
              "      <td>47237</td>\n",
              "      <td>209524</td>\n",
              "      <td>POSITIVE</td>\n",
              "      <td>2008-06-02T20:11:16</td>\n",
              "      <td>25</td>\n",
              "      <td>3</td>\n",
              "      <td>Paul Freedom</td>\n",
              "      <td>Не предистория, а начало!</td>\n",
              "      <td>First of all, I will say that this film made m...</td>\n",
              "    </tr>\n",
              "    <tr>\n",
              "      <th>9501</th>\n",
              "      <td>47237</td>\n",
              "      <td>54041</td>\n",
              "      <td>POSITIVE</td>\n",
              "      <td>2007-01-29T14:04:21</td>\n",
              "      <td>25</td>\n",
              "      <td>6</td>\n",
              "      <td>2galaxy</td>\n",
              "      <td>NaN</td>\n",
              "      <td>Christian Bale is a real Batman, he managed to...</td>\n",
              "    </tr>\n",
              "    <tr>\n",
              "      <th>9502</th>\n",
              "      <td>47237</td>\n",
              "      <td>669772</td>\n",
              "      <td>POSITIVE</td>\n",
              "      <td>2009-11-05T10:42:02</td>\n",
              "      <td>25</td>\n",
              "      <td>7</td>\n",
              "      <td>оператор</td>\n",
              "      <td>Бэтмен возвращается</td>\n",
              "      <td>Honestly, Batman was (and remained) my beloved...</td>\n",
              "    </tr>\n",
              "  </tbody>\n",
              "</table>\n",
              "<p>9503 rows × 9 columns</p>\n",
              "</div>"
            ],
            "text/plain": [
              "      film_id  review_id      type                 date  pos  neg  \\\n",
              "0         435      65581  POSITIVE  2007-06-26T19:47:00  485   63   \n",
              "1         435     151932  POSITIVE  2008-01-25T03:08:00  256   26   \n",
              "2         435      72099   NEUTRAL  2007-05-23T23:34:00  209   24   \n",
              "3         435     114905  POSITIVE  2007-10-21T18:32:00  175   20   \n",
              "4         435    1715054  NEGATIVE  2013-02-06T17:48:00  148  375   \n",
              "...       ...        ...       ...                  ...  ...  ...   \n",
              "9498    47237     597888  POSITIVE  2009-08-27T15:43:53   25    6   \n",
              "9499    47237     369940  POSITIVE  2009-01-31T21:16:39   25    6   \n",
              "9500    47237     209524  POSITIVE  2008-06-02T20:11:16   25    3   \n",
              "9501    47237      54041  POSITIVE  2007-01-29T14:04:21   25    6   \n",
              "9502    47237     669772  POSITIVE  2009-11-05T10:42:02   25    7   \n",
              "\n",
              "                author                                              title  \\\n",
              "0           P.S.SeLeNa                                                NaN   \n",
              "1                  Боб                             Дорога длинною в жизнь   \n",
              "2            КиноПоиск                                                NaN   \n",
              "3             Exitlude                                                NaN   \n",
              "4              Maria_M  Тот момент, когда десяток отрицательный коммен...   \n",
              "...                ...                                                ...   \n",
              "9498  Christian Robson                                    Легенда: Начало   \n",
              "9499             Mexoc                              Вот он какой - Бэтмен   \n",
              "9500      Paul Freedom                          Не предистория, а начало!   \n",
              "9501           2galaxy                                                NaN   \n",
              "9502          оператор                                Бэтмен возвращается   \n",
              "\n",
              "                                            description  \n",
              "0     “They helped him kill himself and this happens...  \n",
              "1     “God, sometimes the green mile is so long ...”...  \n",
              "2     I. Two creators: Stephen King. A name that doe...  \n",
              "3     They helped him kill himself. \"They helped him...  \n",
              "4     Watching the Green Mile made me like many, the...  \n",
              "...                                                 ...  \n",
              "9498  Rethinking the classic comic. The beginning of...  \n",
              "9499  I watched this film twice and both times this ...  \n",
              "9500  First of all, I will say that this film made m...  \n",
              "9501  Christian Bale is a real Batman, he managed to...  \n",
              "9502  Honestly, Batman was (and remained) my beloved...  \n",
              "\n",
              "[9503 rows x 9 columns]"
            ]
          },
          "execution_count": 33,
          "metadata": {},
          "output_type": "execute_result"
        }
      ],
      "source": [
        "test = Test()\n",
        "dft = df.copy()\n",
        "dft[\"description\"] = dft[\"description\"].apply(test)\n",
        "print(len(dft))\n",
        "dft.to_csv(\"top_250_films_reviews_filtered_en.csv\", index=False)\n",
        "dft"
      ]
    },
    {
      "cell_type": "code",
      "execution_count": null,
      "metadata": {},
      "outputs": [],
      "source": [
        "from easynmt import EasyNMT"
      ]
    },
    {
      "cell_type": "code",
      "execution_count": 8,
      "metadata": {},
      "outputs": [
        {
          "data": {
            "text/plain": [
              "'cuda'"
            ]
          },
          "execution_count": 8,
          "metadata": {},
          "output_type": "execute_result"
        }
      ],
      "source": [
        "model = EasyNMT('opus-mt')\n",
        "model.device"
      ]
    },
    {
      "cell_type": "code",
      "execution_count": 9,
      "metadata": {},
      "outputs": [
        {
          "data": {
            "text/plain": [
              "'«Они помогли ему убить себя и так происходит каждый день во всем мире»… Фильм, который я могу смело назвать шедевром. Фильм, который длится три часа и которые пролетают незаметно. Фильм, который смотрится каждый раз как в первый. Фильм, который нельзя забыть и которым нельзя не проникнуться. Фильм, котрый заставляет задуматься о жизни, которую мы тратим на пустяки, теша себя иллюзией бессмертия, о смерти, которая не щадит никого. Фильм о зле, которое не всегда наказуемо и о добре, которое подчас бессильно что-либо изменить. И тебе остается лишь смотреть на то, как вершится суд, над тем кто не должен сидеть на скамье подсудимых. Фильм, который изменил мое мировоззрение и научил по-другому относиться к жизни. 10 из 10'"
            ]
          },
          "execution_count": 9,
          "metadata": {},
          "output_type": "execute_result"
        }
      ],
      "source": [
        "doc = df.iloc[0][\"description\"]\n",
        "doc"
      ]
    },
    {
      "cell_type": "code",
      "execution_count": 10,
      "metadata": {},
      "outputs": [
        {
          "data": {
            "text/plain": [
              "'\"They helped him kill himself and that\\'s what happens every day in the world\"... a film I can safely call a masterpiece. A film that lasts three hours and it\\'s not visible. A movie that looks like it\\'s the first time. A film that can\\'t be forgotten and can\\'t be ignored. A film that makes you think about the life we spend on nothing, the illusion of immortality, the death that spares no one. A film about evil, which is not always punishable by good, which is sometimes powerless to change anything. And all you have to do is watch the trial, the one who shouldn\\'t sit on the defendant\\'s bench. A film that changed my worldview and taught me a different way of dealing with life. 10 out of 10'"
            ]
          },
          "execution_count": 10,
          "metadata": {},
          "output_type": "execute_result"
        }
      ],
      "source": [
        "translated = model.translate(doc, target_lang=\"en\", source_lang=\"ru\")\n",
        "translated"
      ]
    },
    {
      "cell_type": "code",
      "execution_count": 11,
      "metadata": {},
      "outputs": [
        {
          "name": "stderr",
          "output_type": "stream",
          "text": [
            "  0%|          | 24/256292.0 [01:02<185:15:36,  2.60s/it]\n"
          ]
        },
        {
          "ename": "KeyboardInterrupt",
          "evalue": "",
          "output_type": "error",
          "traceback": [
            "\u001b[1;31m---------------------------------------------------------------------------\u001b[0m",
            "\u001b[1;31mKeyboardInterrupt\u001b[0m                         Traceback (most recent call last)",
            "\u001b[1;32m~\\AppData\\Local\\Temp/ipykernel_19384/3486503217.py\u001b[0m in \u001b[0;36m<module>\u001b[1;34m\u001b[0m\n\u001b[1;32m----> 1\u001b[1;33m \u001b[0mtranslated\u001b[0m \u001b[1;33m=\u001b[0m \u001b[0mmodel\u001b[0m\u001b[1;33m.\u001b[0m\u001b[0mtranslate\u001b[0m\u001b[1;33m(\u001b[0m\u001b[0mdf\u001b[0m\u001b[1;33m[\u001b[0m\u001b[1;34m\"description\"\u001b[0m\u001b[1;33m]\u001b[0m\u001b[1;33m.\u001b[0m\u001b[0mto_list\u001b[0m\u001b[1;33m(\u001b[0m\u001b[1;33m)\u001b[0m\u001b[1;33m,\u001b[0m \u001b[0mtarget_lang\u001b[0m\u001b[1;33m=\u001b[0m\u001b[1;34m\"en\"\u001b[0m\u001b[1;33m,\u001b[0m \u001b[0msource_lang\u001b[0m\u001b[1;33m=\u001b[0m\u001b[1;34m\"ru\"\u001b[0m\u001b[1;33m,\u001b[0m \u001b[0mbatch_size\u001b[0m\u001b[1;33m=\u001b[0m\u001b[1;36m8\u001b[0m\u001b[1;33m,\u001b[0m \u001b[0mshow_progress_bar\u001b[0m\u001b[1;33m=\u001b[0m\u001b[1;32mTrue\u001b[0m\u001b[1;33m)\u001b[0m\u001b[1;33m\u001b[0m\u001b[1;33m\u001b[0m\u001b[0m\n\u001b[0m",
            "\u001b[1;32m~\\AppData\\Roaming\\Python\\Python39\\site-packages\\easynmt\\EasyNMT.py\u001b[0m in \u001b[0;36mtranslate\u001b[1;34m(self, documents, target_lang, source_lang, show_progress_bar, beam_size, batch_size, perform_sentence_splitting, paragraph_split, sentence_splitter, document_language_detection, **kwargs)\u001b[0m\n\u001b[0;32m    179\u001b[0m             \u001b[1;31m#logger.info(\"Translate {} sentences\".format(len(splitted_sentences)))\u001b[0m\u001b[1;33m\u001b[0m\u001b[1;33m\u001b[0m\u001b[1;33m\u001b[0m\u001b[0m\n\u001b[0;32m    180\u001b[0m \u001b[1;33m\u001b[0m\u001b[0m\n\u001b[1;32m--> 181\u001b[1;33m             \u001b[0mtranslated_sentences\u001b[0m \u001b[1;33m=\u001b[0m \u001b[0mself\u001b[0m\u001b[1;33m.\u001b[0m\u001b[0mtranslate_sentences\u001b[0m\u001b[1;33m(\u001b[0m\u001b[0msplitted_sentences\u001b[0m\u001b[1;33m,\u001b[0m \u001b[0mtarget_lang\u001b[0m\u001b[1;33m=\u001b[0m\u001b[0mtarget_lang\u001b[0m\u001b[1;33m,\u001b[0m \u001b[0msource_lang\u001b[0m\u001b[1;33m=\u001b[0m\u001b[0msource_lang\u001b[0m\u001b[1;33m,\u001b[0m \u001b[0mshow_progress_bar\u001b[0m\u001b[1;33m=\u001b[0m\u001b[0mshow_progress_bar\u001b[0m\u001b[1;33m,\u001b[0m \u001b[0mbeam_size\u001b[0m\u001b[1;33m=\u001b[0m\u001b[0mbeam_size\u001b[0m\u001b[1;33m,\u001b[0m \u001b[0mbatch_size\u001b[0m\u001b[1;33m=\u001b[0m\u001b[0mbatch_size\u001b[0m\u001b[1;33m,\u001b[0m \u001b[1;33m**\u001b[0m\u001b[0mkwargs\u001b[0m\u001b[1;33m)\u001b[0m\u001b[1;33m\u001b[0m\u001b[1;33m\u001b[0m\u001b[0m\n\u001b[0m\u001b[0;32m    182\u001b[0m \u001b[1;33m\u001b[0m\u001b[0m\n\u001b[0;32m    183\u001b[0m             \u001b[1;31m# Merge sentences back to documents\u001b[0m\u001b[1;33m\u001b[0m\u001b[1;33m\u001b[0m\u001b[1;33m\u001b[0m\u001b[0m\n",
            "\u001b[1;32m~\\AppData\\Roaming\\Python\\Python39\\site-packages\\easynmt\\EasyNMT.py\u001b[0m in \u001b[0;36mtranslate_sentences\u001b[1;34m(self, sentences, target_lang, source_lang, show_progress_bar, beam_size, batch_size, **kwargs)\u001b[0m\n\u001b[0;32m    276\u001b[0m \u001b[1;33m\u001b[0m\u001b[0m\n\u001b[0;32m    277\u001b[0m             \u001b[1;32mfor\u001b[0m \u001b[0mstart_idx\u001b[0m \u001b[1;32min\u001b[0m \u001b[0miterator\u001b[0m\u001b[1;33m:\u001b[0m\u001b[1;33m\u001b[0m\u001b[1;33m\u001b[0m\u001b[0m\n\u001b[1;32m--> 278\u001b[1;33m                 \u001b[0moutput\u001b[0m\u001b[1;33m.\u001b[0m\u001b[0mextend\u001b[0m\u001b[1;33m(\u001b[0m\u001b[0mself\u001b[0m\u001b[1;33m.\u001b[0m\u001b[0mtranslator\u001b[0m\u001b[1;33m.\u001b[0m\u001b[0mtranslate_sentences\u001b[0m\u001b[1;33m(\u001b[0m\u001b[0msentences_sorted\u001b[0m\u001b[1;33m[\u001b[0m\u001b[0mstart_idx\u001b[0m\u001b[1;33m:\u001b[0m\u001b[0mstart_idx\u001b[0m\u001b[1;33m+\u001b[0m\u001b[0mbatch_size\u001b[0m\u001b[1;33m]\u001b[0m\u001b[1;33m,\u001b[0m \u001b[0msource_lang\u001b[0m\u001b[1;33m=\u001b[0m\u001b[0msource_lang\u001b[0m\u001b[1;33m,\u001b[0m \u001b[0mtarget_lang\u001b[0m\u001b[1;33m=\u001b[0m\u001b[0mtarget_lang\u001b[0m\u001b[1;33m,\u001b[0m \u001b[0mbeam_size\u001b[0m\u001b[1;33m=\u001b[0m\u001b[0mbeam_size\u001b[0m\u001b[1;33m,\u001b[0m \u001b[0mdevice\u001b[0m\u001b[1;33m=\u001b[0m\u001b[0mself\u001b[0m\u001b[1;33m.\u001b[0m\u001b[0mdevice\u001b[0m\u001b[1;33m,\u001b[0m \u001b[1;33m**\u001b[0m\u001b[0mkwargs\u001b[0m\u001b[1;33m)\u001b[0m\u001b[1;33m)\u001b[0m\u001b[1;33m\u001b[0m\u001b[1;33m\u001b[0m\u001b[0m\n\u001b[0m\u001b[0;32m    279\u001b[0m \u001b[1;33m\u001b[0m\u001b[0m\n\u001b[0;32m    280\u001b[0m             \u001b[1;31m#Restore original sorting of sentences\u001b[0m\u001b[1;33m\u001b[0m\u001b[1;33m\u001b[0m\u001b[1;33m\u001b[0m\u001b[0m\n",
            "\u001b[1;32m~\\AppData\\Roaming\\Python\\Python39\\site-packages\\easynmt\\models\\OpusMT.py\u001b[0m in \u001b[0;36mtranslate_sentences\u001b[1;34m(self, sentences, source_lang, target_lang, device, beam_size, **kwargs)\u001b[0m\n\u001b[0;32m     47\u001b[0m \u001b[1;33m\u001b[0m\u001b[0m\n\u001b[0;32m     48\u001b[0m         \u001b[1;32mwith\u001b[0m \u001b[0mtorch\u001b[0m\u001b[1;33m.\u001b[0m\u001b[0mno_grad\u001b[0m\u001b[1;33m(\u001b[0m\u001b[1;33m)\u001b[0m\u001b[1;33m:\u001b[0m\u001b[1;33m\u001b[0m\u001b[1;33m\u001b[0m\u001b[0m\n\u001b[1;32m---> 49\u001b[1;33m             \u001b[0mtranslated\u001b[0m \u001b[1;33m=\u001b[0m \u001b[0mmodel\u001b[0m\u001b[1;33m.\u001b[0m\u001b[0mgenerate\u001b[0m\u001b[1;33m(\u001b[0m\u001b[1;33m**\u001b[0m\u001b[0minputs\u001b[0m\u001b[1;33m,\u001b[0m \u001b[0mnum_beams\u001b[0m\u001b[1;33m=\u001b[0m\u001b[0mbeam_size\u001b[0m\u001b[1;33m,\u001b[0m \u001b[1;33m**\u001b[0m\u001b[0mkwargs\u001b[0m\u001b[1;33m)\u001b[0m\u001b[1;33m\u001b[0m\u001b[1;33m\u001b[0m\u001b[0m\n\u001b[0m\u001b[0;32m     50\u001b[0m             \u001b[0moutput\u001b[0m \u001b[1;33m=\u001b[0m \u001b[1;33m[\u001b[0m\u001b[0mtokenizer\u001b[0m\u001b[1;33m.\u001b[0m\u001b[0mdecode\u001b[0m\u001b[1;33m(\u001b[0m\u001b[0mt\u001b[0m\u001b[1;33m,\u001b[0m \u001b[0mskip_special_tokens\u001b[0m\u001b[1;33m=\u001b[0m\u001b[1;32mTrue\u001b[0m\u001b[1;33m)\u001b[0m \u001b[1;32mfor\u001b[0m \u001b[0mt\u001b[0m \u001b[1;32min\u001b[0m \u001b[0mtranslated\u001b[0m\u001b[1;33m]\u001b[0m\u001b[1;33m\u001b[0m\u001b[1;33m\u001b[0m\u001b[0m\n\u001b[0;32m     51\u001b[0m \u001b[1;33m\u001b[0m\u001b[0m\n",
            "\u001b[1;32m~\\AppData\\Roaming\\Python\\Python39\\site-packages\\torch\\autograd\\grad_mode.py\u001b[0m in \u001b[0;36mdecorate_context\u001b[1;34m(*args, **kwargs)\u001b[0m\n\u001b[0;32m     25\u001b[0m         \u001b[1;32mdef\u001b[0m \u001b[0mdecorate_context\u001b[0m\u001b[1;33m(\u001b[0m\u001b[1;33m*\u001b[0m\u001b[0margs\u001b[0m\u001b[1;33m,\u001b[0m \u001b[1;33m**\u001b[0m\u001b[0mkwargs\u001b[0m\u001b[1;33m)\u001b[0m\u001b[1;33m:\u001b[0m\u001b[1;33m\u001b[0m\u001b[1;33m\u001b[0m\u001b[0m\n\u001b[0;32m     26\u001b[0m             \u001b[1;32mwith\u001b[0m \u001b[0mself\u001b[0m\u001b[1;33m.\u001b[0m\u001b[0mclone\u001b[0m\u001b[1;33m(\u001b[0m\u001b[1;33m)\u001b[0m\u001b[1;33m:\u001b[0m\u001b[1;33m\u001b[0m\u001b[1;33m\u001b[0m\u001b[0m\n\u001b[1;32m---> 27\u001b[1;33m                 \u001b[1;32mreturn\u001b[0m \u001b[0mfunc\u001b[0m\u001b[1;33m(\u001b[0m\u001b[1;33m*\u001b[0m\u001b[0margs\u001b[0m\u001b[1;33m,\u001b[0m \u001b[1;33m**\u001b[0m\u001b[0mkwargs\u001b[0m\u001b[1;33m)\u001b[0m\u001b[1;33m\u001b[0m\u001b[1;33m\u001b[0m\u001b[0m\n\u001b[0m\u001b[0;32m     28\u001b[0m         \u001b[1;32mreturn\u001b[0m \u001b[0mcast\u001b[0m\u001b[1;33m(\u001b[0m\u001b[0mF\u001b[0m\u001b[1;33m,\u001b[0m \u001b[0mdecorate_context\u001b[0m\u001b[1;33m)\u001b[0m\u001b[1;33m\u001b[0m\u001b[1;33m\u001b[0m\u001b[0m\n\u001b[0;32m     29\u001b[0m \u001b[1;33m\u001b[0m\u001b[0m\n",
            "\u001b[1;32m~\\AppData\\Roaming\\Python\\Python39\\site-packages\\transformers\\generation_utils.py\u001b[0m in \u001b[0;36mgenerate\u001b[1;34m(self, inputs, max_length, min_length, do_sample, early_stopping, num_beams, temperature, top_k, top_p, typical_p, repetition_penalty, bad_words_ids, bos_token_id, pad_token_id, eos_token_id, length_penalty, no_repeat_ngram_size, encoder_no_repeat_ngram_size, num_return_sequences, max_time, max_new_tokens, decoder_start_token_id, use_cache, num_beam_groups, diversity_penalty, prefix_allowed_tokens_fn, logits_processor, stopping_criteria, constraints, output_attentions, output_hidden_states, output_scores, return_dict_in_generate, forced_bos_token_id, forced_eos_token_id, remove_invalid_values, synced_gpus, **model_kwargs)\u001b[0m\n\u001b[0;32m   1249\u001b[0m             )\n\u001b[0;32m   1250\u001b[0m             \u001b[1;31m# 12. run beam search\u001b[0m\u001b[1;33m\u001b[0m\u001b[1;33m\u001b[0m\u001b[1;33m\u001b[0m\u001b[0m\n\u001b[1;32m-> 1251\u001b[1;33m             return self.beam_search(\n\u001b[0m\u001b[0;32m   1252\u001b[0m                 \u001b[0minput_ids\u001b[0m\u001b[1;33m,\u001b[0m\u001b[1;33m\u001b[0m\u001b[1;33m\u001b[0m\u001b[0m\n\u001b[0;32m   1253\u001b[0m                 \u001b[0mbeam_scorer\u001b[0m\u001b[1;33m,\u001b[0m\u001b[1;33m\u001b[0m\u001b[1;33m\u001b[0m\u001b[0m\n",
            "\u001b[1;32m~\\AppData\\Roaming\\Python\\Python39\\site-packages\\transformers\\generation_utils.py\u001b[0m in \u001b[0;36mbeam_search\u001b[1;34m(self, input_ids, beam_scorer, logits_processor, stopping_criteria, max_length, pad_token_id, eos_token_id, output_attentions, output_hidden_states, output_scores, return_dict_in_generate, synced_gpus, **model_kwargs)\u001b[0m\n\u001b[0;32m   2085\u001b[0m \u001b[1;33m\u001b[0m\u001b[0m\n\u001b[0;32m   2086\u001b[0m             \u001b[1;31m# stateless\u001b[0m\u001b[1;33m\u001b[0m\u001b[1;33m\u001b[0m\u001b[1;33m\u001b[0m\u001b[0m\n\u001b[1;32m-> 2087\u001b[1;33m             beam_outputs = beam_scorer.process(\n\u001b[0m\u001b[0;32m   2088\u001b[0m                 \u001b[0minput_ids\u001b[0m\u001b[1;33m,\u001b[0m\u001b[1;33m\u001b[0m\u001b[1;33m\u001b[0m\u001b[0m\n\u001b[0;32m   2089\u001b[0m                 \u001b[0mnext_token_scores\u001b[0m\u001b[1;33m,\u001b[0m\u001b[1;33m\u001b[0m\u001b[1;33m\u001b[0m\u001b[0m\n",
            "\u001b[1;32m~\\AppData\\Roaming\\Python\\Python39\\site-packages\\transformers\\generation_beam_search.py\u001b[0m in \u001b[0;36mprocess\u001b[1;34m(self, input_ids, next_scores, next_tokens, next_indices, pad_token_id, eos_token_id)\u001b[0m\n\u001b[0;32m    262\u001b[0m                 \u001b[1;32melse\u001b[0m\u001b[1;33m:\u001b[0m\u001b[1;33m\u001b[0m\u001b[1;33m\u001b[0m\u001b[0m\n\u001b[0;32m    263\u001b[0m                     \u001b[1;31m# add next predicted token since it is not eos_token\u001b[0m\u001b[1;33m\u001b[0m\u001b[1;33m\u001b[0m\u001b[1;33m\u001b[0m\u001b[0m\n\u001b[1;32m--> 264\u001b[1;33m                     \u001b[0mnext_beam_scores\u001b[0m\u001b[1;33m[\u001b[0m\u001b[0mbatch_idx\u001b[0m\u001b[1;33m,\u001b[0m \u001b[0mbeam_idx\u001b[0m\u001b[1;33m]\u001b[0m \u001b[1;33m=\u001b[0m \u001b[0mnext_score\u001b[0m\u001b[1;33m\u001b[0m\u001b[1;33m\u001b[0m\u001b[0m\n\u001b[0m\u001b[0;32m    265\u001b[0m                     \u001b[0mnext_beam_tokens\u001b[0m\u001b[1;33m[\u001b[0m\u001b[0mbatch_idx\u001b[0m\u001b[1;33m,\u001b[0m \u001b[0mbeam_idx\u001b[0m\u001b[1;33m]\u001b[0m \u001b[1;33m=\u001b[0m \u001b[0mnext_token\u001b[0m\u001b[1;33m\u001b[0m\u001b[1;33m\u001b[0m\u001b[0m\n\u001b[0;32m    266\u001b[0m                     \u001b[0mnext_beam_indices\u001b[0m\u001b[1;33m[\u001b[0m\u001b[0mbatch_idx\u001b[0m\u001b[1;33m,\u001b[0m \u001b[0mbeam_idx\u001b[0m\u001b[1;33m]\u001b[0m \u001b[1;33m=\u001b[0m \u001b[0mbatch_beam_idx\u001b[0m\u001b[1;33m\u001b[0m\u001b[1;33m\u001b[0m\u001b[0m\n",
            "\u001b[1;31mKeyboardInterrupt\u001b[0m: "
          ]
        }
      ],
      "source": [
        "translated = model.translate(df[\"description\"].to_list(), target_lang=\"en\", source_lang=\"ru\", batch_size=8, show_progress_bar=True)"
      ]
    },
    {
      "cell_type": "code",
      "execution_count": 39,
      "metadata": {},
      "outputs": [
        {
          "data": {
            "text/html": [
              "<div>\n",
              "<style scoped>\n",
              "    .dataframe tbody tr th:only-of-type {\n",
              "        vertical-align: middle;\n",
              "    }\n",
              "\n",
              "    .dataframe tbody tr th {\n",
              "        vertical-align: top;\n",
              "    }\n",
              "\n",
              "    .dataframe thead th {\n",
              "        text-align: right;\n",
              "    }\n",
              "</style>\n",
              "<table border=\"1\" class=\"dataframe\">\n",
              "  <thead>\n",
              "    <tr style=\"text-align: right;\">\n",
              "      <th></th>\n",
              "      <th>text</th>\n",
              "    </tr>\n",
              "  </thead>\n",
              "  <tbody>\n",
              "    <tr>\n",
              "      <th>0</th>\n",
              "      <td>&lt;i&gt;Что ещё за Канзас Сити Шаффл? Канзас Сити Ш...</td>\n",
              "    </tr>\n",
              "  </tbody>\n",
              "</table>\n",
              "</div>"
            ],
            "text/plain": [
              "                                                text\n",
              "0  <i>Что ещё за Канзас Сити Шаффл? Канзас Сити Ш..."
            ]
          },
          "execution_count": 39,
          "metadata": {},
          "output_type": "execute_result"
        }
      ],
      "source": [
        "t = pd.DataFrame(data={\"text\": [\"<i>Что ещё за Канзас Сити Шаффл? Канзас Сити Шаффл — это когда все смотрят направо, а ты идёшь налево.</i>. <i>Было время:</i>\"]})\n",
        "t"
      ]
    },
    {
      "cell_type": "code",
      "execution_count": 43,
      "metadata": {},
      "outputs": [
        {
          "data": {
            "text/html": [
              "<div>\n",
              "<style scoped>\n",
              "    .dataframe tbody tr th:only-of-type {\n",
              "        vertical-align: middle;\n",
              "    }\n",
              "\n",
              "    .dataframe tbody tr th {\n",
              "        vertical-align: top;\n",
              "    }\n",
              "\n",
              "    .dataframe thead th {\n",
              "        text-align: right;\n",
              "    }\n",
              "</style>\n",
              "<table border=\"1\" class=\"dataframe\">\n",
              "  <thead>\n",
              "    <tr style=\"text-align: right;\">\n",
              "      <th></th>\n",
              "      <th>text</th>\n",
              "    </tr>\n",
              "  </thead>\n",
              "  <tbody>\n",
              "    <tr>\n",
              "      <th>0</th>\n",
              "      <td>A. A</td>\n",
              "    </tr>\n",
              "  </tbody>\n",
              "</table>\n",
              "</div>"
            ],
            "text/plain": [
              "   text\n",
              "0  A. A"
            ]
          },
          "execution_count": 43,
          "metadata": {},
          "output_type": "execute_result"
        }
      ],
      "source": [
        "t[\"text\"] = t[\"text\"].str.replace(\"<\\w+>([^<>]+)<\\/\\w+>\", \"A\", regex=True)\n",
        "t"
      ]
    },
    {
      "cell_type": "code",
      "execution_count": 42,
      "metadata": {},
      "outputs": [
        {
          "data": {
            "text/plain": [
              "['Что ещё за Канзас Сити Шаффл? Канзас Сити Шаффл — это когда все смотрят направо, а ты идёшь налево.',\n",
              " 'Было время:']"
            ]
          },
          "execution_count": 42,
          "metadata": {},
          "output_type": "execute_result"
        }
      ],
      "source": [
        "re.findall(\"<\\w+>([^<>]+)<\\/\\w+>\", t.iloc[0][\"text\"])"
      ]
    }
  ],
  "metadata": {
    "accelerator": "GPU",
    "colab": {
      "provenance": []
    },
    "gpuClass": "standard",
    "kernelspec": {
      "display_name": "Python 3",
      "language": "python",
      "name": "python3"
    },
    "language_info": {
      "codemirror_mode": {
        "name": "ipython",
        "version": 3
      },
      "file_extension": ".py",
      "mimetype": "text/x-python",
      "name": "python",
      "nbconvert_exporter": "python",
      "pygments_lexer": "ipython3",
      "version": "3.10.4 (main, Jun 29 2022, 12:14:53) [GCC 11.2.0]"
    },
    "vscode": {
      "interpreter": {
        "hash": "916dbcbb3f70747c44a77c7bcd40155683ae19c65e1c03b4aa3499c5328201f1"
      }
    }
  },
  "nbformat": 4,
  "nbformat_minor": 0
}
