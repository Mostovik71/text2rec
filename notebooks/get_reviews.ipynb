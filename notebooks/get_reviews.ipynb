{
 "cells": [
  {
   "cell_type": "code",
   "execution_count": 1,
   "metadata": {},
   "outputs": [],
   "source": [
    "import json\n",
    "import time\n",
    "import requests\n",
    "import pandas as pd\n",
    "from typing import List, Dict"
   ]
  },
  {
   "cell_type": "code",
   "execution_count": 2,
   "metadata": {},
   "outputs": [
    {
     "data": {
      "text/html": [
       "<div>\n",
       "<style scoped>\n",
       "    .dataframe tbody tr th:only-of-type {\n",
       "        vertical-align: middle;\n",
       "    }\n",
       "\n",
       "    .dataframe tbody tr th {\n",
       "        vertical-align: top;\n",
       "    }\n",
       "\n",
       "    .dataframe thead th {\n",
       "        text-align: right;\n",
       "    }\n",
       "</style>\n",
       "<table border=\"1\" class=\"dataframe\">\n",
       "  <thead>\n",
       "    <tr style=\"text-align: right;\">\n",
       "      <th></th>\n",
       "      <th>FilmId</th>\n",
       "      <th>Title</th>\n",
       "      <th>Rating</th>\n",
       "      <th>Year</th>\n",
       "      <th>Duration</th>\n",
       "      <th>Countries</th>\n",
       "      <th>Genres</th>\n",
       "      <th>ShortDescription</th>\n",
       "      <th>Director</th>\n",
       "      <th>Actors</th>\n",
       "    </tr>\n",
       "  </thead>\n",
       "  <tbody>\n",
       "    <tr>\n",
       "      <th>0</th>\n",
       "      <td>435</td>\n",
       "      <td>Зеленая миля</td>\n",
       "      <td>9.1</td>\n",
       "      <td>1999</td>\n",
       "      <td>189</td>\n",
       "      <td>США</td>\n",
       "      <td>драма, криминал</td>\n",
       "      <td>В тюрьме для смертников появляется заключенный...</td>\n",
       "      <td>Фрэнк Дарабонт</td>\n",
       "      <td>Том Хэнкс, Дэвид Морс, Бонни Хант, Майкл Кларк...</td>\n",
       "    </tr>\n",
       "    <tr>\n",
       "      <th>1</th>\n",
       "      <td>329</td>\n",
       "      <td>Список Шиндлера</td>\n",
       "      <td>8.8</td>\n",
       "      <td>1993</td>\n",
       "      <td>195</td>\n",
       "      <td>США</td>\n",
       "      <td>драма, биография, военный, история</td>\n",
       "      <td>История немецкого промышленника, спасшего тыся...</td>\n",
       "      <td>Стивен Спилберг</td>\n",
       "      <td>Лиам Нисон, Бен Кингсли, Рэйф Файнс, Кэролайн ...</td>\n",
       "    </tr>\n",
       "    <tr>\n",
       "      <th>2</th>\n",
       "      <td>326</td>\n",
       "      <td>Побег из Шоушенка</td>\n",
       "      <td>9.1</td>\n",
       "      <td>1994</td>\n",
       "      <td>142</td>\n",
       "      <td>США</td>\n",
       "      <td>драма</td>\n",
       "      <td>Несправедливо осужденный банкир готовит побег ...</td>\n",
       "      <td>Фрэнк Дарабонт</td>\n",
       "      <td>Тим Роббинс, Морган Фриман, Боб Гантон, Уильям...</td>\n",
       "    </tr>\n",
       "    <tr>\n",
       "      <th>3</th>\n",
       "      <td>3498</td>\n",
       "      <td>Властелин колец: Возвращение короля</td>\n",
       "      <td>8.7</td>\n",
       "      <td>2003</td>\n",
       "      <td>201</td>\n",
       "      <td>США, Новая Зеландия</td>\n",
       "      <td>драма, приключения, фэнтези</td>\n",
       "      <td>Арагорн штурмует Мордор, а Фродо устал боротьс...</td>\n",
       "      <td>Питер Джексон</td>\n",
       "      <td>Элайджа Вуд, Вигго Мортенсен, Шон Эстин, Иэн М...</td>\n",
       "    </tr>\n",
       "    <tr>\n",
       "      <th>4</th>\n",
       "      <td>448</td>\n",
       "      <td>Форрест Гамп</td>\n",
       "      <td>8.9</td>\n",
       "      <td>1994</td>\n",
       "      <td>142</td>\n",
       "      <td>США</td>\n",
       "      <td>драма, мелодрама, комедия, военный, история</td>\n",
       "      <td>Полувековая история США глазами чудака из Алаб...</td>\n",
       "      <td>Роберт Земекис</td>\n",
       "      <td>Том Хэнкс, Робин Райт, Салли Филд, Гэри Синиз,...</td>\n",
       "    </tr>\n",
       "  </tbody>\n",
       "</table>\n",
       "</div>"
      ],
      "text/plain": [
       "   FilmId                                Title  Rating  Year  Duration  \\\n",
       "0     435                         Зеленая миля     9.1  1999       189   \n",
       "1     329                      Список Шиндлера     8.8  1993       195   \n",
       "2     326                    Побег из Шоушенка     9.1  1994       142   \n",
       "3    3498  Властелин колец: Возвращение короля     8.7  2003       201   \n",
       "4     448                         Форрест Гамп     8.9  1994       142   \n",
       "\n",
       "             Countries                                       Genres  \\\n",
       "0                  США                              драма, криминал   \n",
       "1                  США           драма, биография, военный, история   \n",
       "2                  США                                        драма   \n",
       "3  США, Новая Зеландия                  драма, приключения, фэнтези   \n",
       "4                  США  драма, мелодрама, комедия, военный, история   \n",
       "\n",
       "                                    ShortDescription         Director  \\\n",
       "0  В тюрьме для смертников появляется заключенный...   Фрэнк Дарабонт   \n",
       "1  История немецкого промышленника, спасшего тыся...  Стивен Спилберг   \n",
       "2  Несправедливо осужденный банкир готовит побег ...   Фрэнк Дарабонт   \n",
       "3  Арагорн штурмует Мордор, а Фродо устал боротьс...    Питер Джексон   \n",
       "4  Полувековая история США глазами чудака из Алаб...   Роберт Земекис   \n",
       "\n",
       "                                              Actors  \n",
       "0  Том Хэнкс, Дэвид Морс, Бонни Хант, Майкл Кларк...  \n",
       "1  Лиам Нисон, Бен Кингсли, Рэйф Файнс, Кэролайн ...  \n",
       "2  Тим Роббинс, Морган Фриман, Боб Гантон, Уильям...  \n",
       "3  Элайджа Вуд, Вигго Мортенсен, Шон Эстин, Иэн М...  \n",
       "4  Том Хэнкс, Робин Райт, Салли Филд, Гэри Синиз,...  "
      ]
     },
     "execution_count": 2,
     "metadata": {},
     "output_type": "execute_result"
    }
   ],
   "source": [
    "df = pd.read_csv(\"top250.csv\")\n",
    "df.head()"
   ]
  },
  {
   "cell_type": "code",
   "execution_count": 3,
   "metadata": {},
   "outputs": [],
   "source": [
    "# API-keys:\n",
    "# 7cfc5665-f1c7-4569-9182-ab831fb3b25f\n",
    "# 428ddb40-817c-4968-a9d2-cf8e1ae0a481\n",
    "# f35b97c8-0485-4c4c-be05-ffd04d1ddfa2\n",
    "# ee263835-92bb-44f4-a87f-64b1847ce734\n",
    "# 78ef5609-9461-45e9-9393-456ad4bfc66f"
   ]
  },
  {
   "cell_type": "code",
   "execution_count": 14,
   "metadata": {},
   "outputs": [],
   "source": [
    "root = \"https://kinopoiskapiunofficial.tech\"\n",
    "headers = {\n",
    "    \"X-API-KEY\": \"428ddb40-817c-4968-a9d2-cf8e1ae0a481\",\n",
    "    \"accept\": \"application/json\"\n",
    "}"
   ]
  },
  {
   "cell_type": "code",
   "execution_count": 15,
   "metadata": {},
   "outputs": [],
   "source": [
    "def get_film(film_id):\n",
    "    response = requests.get(f\"{root}/api/v2.2/films/{film_id}\", headers=headers)\n",
    "    if response.status_code != 200:\n",
    "        return Exception()\n",
    "    return json.loads(response.content.decode())"
   ]
  },
  {
   "cell_type": "code",
   "execution_count": 16,
   "metadata": {},
   "outputs": [],
   "source": [
    "def get_review_info(film_id, page=1, order=\"USER_POSITIVE_RATING_DESC\"):\n",
    "    params = {\"page\": page, \"order\": order}\n",
    "    response = requests.get(f\"{root}/api/v2.2/films/{film_id}/reviews\", headers=headers, params=params)\n",
    "    if response.status_code != 200:\n",
    "        raise Exception()\n",
    "    return json.loads(response.content.decode())"
   ]
  },
  {
   "cell_type": "code",
   "execution_count": 17,
   "metadata": {},
   "outputs": [],
   "source": [
    "def get_film_review(film_id, pages, delay=1/10):\n",
    "    res = []\n",
    "    # reviews_info = get_review_info(film_id)\n",
    "    # pages = reviews_info[\"totalPages\"]\n",
    "    for page in range(1, pages + 1):\n",
    "        reviews_info = get_review_info(film_id, page=page)\n",
    "        reviews: List[Dict] = reviews_info[\"items\"]\n",
    "        for r_info in reviews:\n",
    "            review_data = list(r_info.values())\n",
    "            review_data.insert(0, film_id)\n",
    "            res.append(review_data)\n",
    "        time.sleep(delay)\n",
    "    return res"
   ]
  },
  {
   "cell_type": "code",
   "execution_count": 18,
   "metadata": {},
   "outputs": [],
   "source": [
    "def get_films_reviews(film_ids, pages=1):\n",
    "    data = []\n",
    "    names = [\n",
    "        \"film_id\", \"review_id\", \"type\", \"date\", \"pos\", \"neg\", \n",
    "        \"author\", \"title\", \"description\"\n",
    "    ]\n",
    "    try:\n",
    "        for i, film_id in enumerate(film_ids, start=1):\n",
    "            print(f\"\\r{i}/{len(film_ids)}\", end=\"\")\n",
    "            reviews = get_film_review(film_id, pages)\n",
    "            data.extend(reviews)\n",
    "    except ConnectionError:\n",
    "        print(\"\\nError!\")\n",
    "    return pd.DataFrame(data=data, columns=names)"
   ]
  },
  {
   "cell_type": "code",
   "execution_count": 19,
   "metadata": {},
   "outputs": [
    {
     "data": {
      "text/plain": [
       "(249, 249)"
      ]
     },
     "execution_count": 19,
     "metadata": {},
     "output_type": "execute_result"
    }
   ],
   "source": [
    "start_idx, end_idx = 0, 250\n",
    "top_250_films_ids = df[\"FilmId\"].to_list()\n",
    "idxs = top_250_films_ids[start_idx:end_idx]\n",
    "len(idxs), len(top_250_films_ids)"
   ]
  },
  {
   "cell_type": "code",
   "execution_count": 20,
   "metadata": {},
   "outputs": [
    {
     "name": "stdout",
     "output_type": "stream",
     "text": [
      "65/249"
     ]
    },
    {
     "ename": "ConnectionError",
     "evalue": "HTTPSConnectionPool(host='kinopoiskapiunofficial.tech', port=443): Max retries exceeded with url: /api/v2.2/films/346/reviews?page=1&order=USER_POSITIVE_RATING_DESC (Caused by NewConnectionError('<urllib3.connection.HTTPSConnection object at 0x000001DAD91C41F0>: Failed to establish a new connection: [WinError 10060] Попытка установить соединение была безуспешной, т.к. от другого компьютера за требуемое время не получен нужный отклик, или было разорвано уже установленное соединение из-за неверного отклика уже подключенного компьютера'))",
     "output_type": "error",
     "traceback": [
      "\u001b[1;31m---------------------------------------------------------------------------\u001b[0m",
      "\u001b[1;31mTimeoutError\u001b[0m                              Traceback (most recent call last)",
      "\u001b[1;32mc:\\Program Files\\Python39\\lib\\site-packages\\urllib3\\connection.py\u001b[0m in \u001b[0;36m_new_conn\u001b[1;34m(self)\u001b[0m\n\u001b[0;32m    168\u001b[0m         \u001b[1;32mtry\u001b[0m\u001b[1;33m:\u001b[0m\u001b[1;33m\u001b[0m\u001b[1;33m\u001b[0m\u001b[0m\n\u001b[1;32m--> 169\u001b[1;33m             conn = connection.create_connection(\n\u001b[0m\u001b[0;32m    170\u001b[0m                 \u001b[1;33m(\u001b[0m\u001b[0mself\u001b[0m\u001b[1;33m.\u001b[0m\u001b[0m_dns_host\u001b[0m\u001b[1;33m,\u001b[0m \u001b[0mself\u001b[0m\u001b[1;33m.\u001b[0m\u001b[0mport\u001b[0m\u001b[1;33m)\u001b[0m\u001b[1;33m,\u001b[0m \u001b[0mself\u001b[0m\u001b[1;33m.\u001b[0m\u001b[0mtimeout\u001b[0m\u001b[1;33m,\u001b[0m \u001b[1;33m**\u001b[0m\u001b[0mextra_kw\u001b[0m\u001b[1;33m\u001b[0m\u001b[1;33m\u001b[0m\u001b[0m\n",
      "\u001b[1;32mc:\\Program Files\\Python39\\lib\\site-packages\\urllib3\\util\\connection.py\u001b[0m in \u001b[0;36mcreate_connection\u001b[1;34m(address, timeout, source_address, socket_options)\u001b[0m\n\u001b[0;32m     95\u001b[0m     \u001b[1;32mif\u001b[0m \u001b[0merr\u001b[0m \u001b[1;32mis\u001b[0m \u001b[1;32mnot\u001b[0m \u001b[1;32mNone\u001b[0m\u001b[1;33m:\u001b[0m\u001b[1;33m\u001b[0m\u001b[1;33m\u001b[0m\u001b[0m\n\u001b[1;32m---> 96\u001b[1;33m         \u001b[1;32mraise\u001b[0m \u001b[0merr\u001b[0m\u001b[1;33m\u001b[0m\u001b[1;33m\u001b[0m\u001b[0m\n\u001b[0m\u001b[0;32m     97\u001b[0m \u001b[1;33m\u001b[0m\u001b[0m\n",
      "\u001b[1;32mc:\\Program Files\\Python39\\lib\\site-packages\\urllib3\\util\\connection.py\u001b[0m in \u001b[0;36mcreate_connection\u001b[1;34m(address, timeout, source_address, socket_options)\u001b[0m\n\u001b[0;32m     85\u001b[0m                 \u001b[0msock\u001b[0m\u001b[1;33m.\u001b[0m\u001b[0mbind\u001b[0m\u001b[1;33m(\u001b[0m\u001b[0msource_address\u001b[0m\u001b[1;33m)\u001b[0m\u001b[1;33m\u001b[0m\u001b[1;33m\u001b[0m\u001b[0m\n\u001b[1;32m---> 86\u001b[1;33m             \u001b[0msock\u001b[0m\u001b[1;33m.\u001b[0m\u001b[0mconnect\u001b[0m\u001b[1;33m(\u001b[0m\u001b[0msa\u001b[0m\u001b[1;33m)\u001b[0m\u001b[1;33m\u001b[0m\u001b[1;33m\u001b[0m\u001b[0m\n\u001b[0m\u001b[0;32m     87\u001b[0m             \u001b[1;32mreturn\u001b[0m \u001b[0msock\u001b[0m\u001b[1;33m\u001b[0m\u001b[1;33m\u001b[0m\u001b[0m\n",
      "\u001b[1;31mTimeoutError\u001b[0m: [WinError 10060] Попытка установить соединение была безуспешной, т.к. от другого компьютера за требуемое время не получен нужный отклик, или было разорвано уже установленное соединение из-за неверного отклика уже подключенного компьютера",
      "\nDuring handling of the above exception, another exception occurred:\n",
      "\u001b[1;31mNewConnectionError\u001b[0m                        Traceback (most recent call last)",
      "\u001b[1;32mc:\\Program Files\\Python39\\lib\\site-packages\\urllib3\\connectionpool.py\u001b[0m in \u001b[0;36murlopen\u001b[1;34m(self, method, url, body, headers, retries, redirect, assert_same_host, timeout, pool_timeout, release_conn, chunked, body_pos, **response_kw)\u001b[0m\n\u001b[0;32m    698\u001b[0m             \u001b[1;31m# Make the request on the httplib connection object.\u001b[0m\u001b[1;33m\u001b[0m\u001b[1;33m\u001b[0m\u001b[1;33m\u001b[0m\u001b[0m\n\u001b[1;32m--> 699\u001b[1;33m             httplib_response = self._make_request(\n\u001b[0m\u001b[0;32m    700\u001b[0m                 \u001b[0mconn\u001b[0m\u001b[1;33m,\u001b[0m\u001b[1;33m\u001b[0m\u001b[1;33m\u001b[0m\u001b[0m\n",
      "\u001b[1;32mc:\\Program Files\\Python39\\lib\\site-packages\\urllib3\\connectionpool.py\u001b[0m in \u001b[0;36m_make_request\u001b[1;34m(self, conn, method, url, timeout, chunked, **httplib_request_kw)\u001b[0m\n\u001b[0;32m    381\u001b[0m         \u001b[1;32mtry\u001b[0m\u001b[1;33m:\u001b[0m\u001b[1;33m\u001b[0m\u001b[1;33m\u001b[0m\u001b[0m\n\u001b[1;32m--> 382\u001b[1;33m             \u001b[0mself\u001b[0m\u001b[1;33m.\u001b[0m\u001b[0m_validate_conn\u001b[0m\u001b[1;33m(\u001b[0m\u001b[0mconn\u001b[0m\u001b[1;33m)\u001b[0m\u001b[1;33m\u001b[0m\u001b[1;33m\u001b[0m\u001b[0m\n\u001b[0m\u001b[0;32m    383\u001b[0m         \u001b[1;32mexcept\u001b[0m \u001b[1;33m(\u001b[0m\u001b[0mSocketTimeout\u001b[0m\u001b[1;33m,\u001b[0m \u001b[0mBaseSSLError\u001b[0m\u001b[1;33m)\u001b[0m \u001b[1;32mas\u001b[0m \u001b[0me\u001b[0m\u001b[1;33m:\u001b[0m\u001b[1;33m\u001b[0m\u001b[1;33m\u001b[0m\u001b[0m\n",
      "\u001b[1;32mc:\\Program Files\\Python39\\lib\\site-packages\\urllib3\\connectionpool.py\u001b[0m in \u001b[0;36m_validate_conn\u001b[1;34m(self, conn)\u001b[0m\n\u001b[0;32m   1009\u001b[0m         \u001b[1;32mif\u001b[0m \u001b[1;32mnot\u001b[0m \u001b[0mgetattr\u001b[0m\u001b[1;33m(\u001b[0m\u001b[0mconn\u001b[0m\u001b[1;33m,\u001b[0m \u001b[1;34m\"sock\"\u001b[0m\u001b[1;33m,\u001b[0m \u001b[1;32mNone\u001b[0m\u001b[1;33m)\u001b[0m\u001b[1;33m:\u001b[0m  \u001b[1;31m# AppEngine might not have  `.sock`\u001b[0m\u001b[1;33m\u001b[0m\u001b[1;33m\u001b[0m\u001b[0m\n\u001b[1;32m-> 1010\u001b[1;33m             \u001b[0mconn\u001b[0m\u001b[1;33m.\u001b[0m\u001b[0mconnect\u001b[0m\u001b[1;33m(\u001b[0m\u001b[1;33m)\u001b[0m\u001b[1;33m\u001b[0m\u001b[1;33m\u001b[0m\u001b[0m\n\u001b[0m\u001b[0;32m   1011\u001b[0m \u001b[1;33m\u001b[0m\u001b[0m\n",
      "\u001b[1;32mc:\\Program Files\\Python39\\lib\\site-packages\\urllib3\\connection.py\u001b[0m in \u001b[0;36mconnect\u001b[1;34m(self)\u001b[0m\n\u001b[0;32m    352\u001b[0m         \u001b[1;31m# Add certificate verification\u001b[0m\u001b[1;33m\u001b[0m\u001b[1;33m\u001b[0m\u001b[1;33m\u001b[0m\u001b[0m\n\u001b[1;32m--> 353\u001b[1;33m         \u001b[0mconn\u001b[0m \u001b[1;33m=\u001b[0m \u001b[0mself\u001b[0m\u001b[1;33m.\u001b[0m\u001b[0m_new_conn\u001b[0m\u001b[1;33m(\u001b[0m\u001b[1;33m)\u001b[0m\u001b[1;33m\u001b[0m\u001b[1;33m\u001b[0m\u001b[0m\n\u001b[0m\u001b[0;32m    354\u001b[0m         \u001b[0mhostname\u001b[0m \u001b[1;33m=\u001b[0m \u001b[0mself\u001b[0m\u001b[1;33m.\u001b[0m\u001b[0mhost\u001b[0m\u001b[1;33m\u001b[0m\u001b[1;33m\u001b[0m\u001b[0m\n",
      "\u001b[1;32mc:\\Program Files\\Python39\\lib\\site-packages\\urllib3\\connection.py\u001b[0m in \u001b[0;36m_new_conn\u001b[1;34m(self)\u001b[0m\n\u001b[0;32m    180\u001b[0m         \u001b[1;32mexcept\u001b[0m \u001b[0mSocketError\u001b[0m \u001b[1;32mas\u001b[0m \u001b[0me\u001b[0m\u001b[1;33m:\u001b[0m\u001b[1;33m\u001b[0m\u001b[1;33m\u001b[0m\u001b[0m\n\u001b[1;32m--> 181\u001b[1;33m             raise NewConnectionError(\n\u001b[0m\u001b[0;32m    182\u001b[0m                 \u001b[0mself\u001b[0m\u001b[1;33m,\u001b[0m \u001b[1;34m\"Failed to establish a new connection: %s\"\u001b[0m \u001b[1;33m%\u001b[0m \u001b[0me\u001b[0m\u001b[1;33m\u001b[0m\u001b[1;33m\u001b[0m\u001b[0m\n",
      "\u001b[1;31mNewConnectionError\u001b[0m: <urllib3.connection.HTTPSConnection object at 0x000001DAD91C41F0>: Failed to establish a new connection: [WinError 10060] Попытка установить соединение была безуспешной, т.к. от другого компьютера за требуемое время не получен нужный отклик, или было разорвано уже установленное соединение из-за неверного отклика уже подключенного компьютера",
      "\nDuring handling of the above exception, another exception occurred:\n",
      "\u001b[1;31mMaxRetryError\u001b[0m                             Traceback (most recent call last)",
      "\u001b[1;32mc:\\Program Files\\Python39\\lib\\site-packages\\requests\\adapters.py\u001b[0m in \u001b[0;36msend\u001b[1;34m(self, request, stream, timeout, verify, cert, proxies)\u001b[0m\n\u001b[0;32m    438\u001b[0m             \u001b[1;32mif\u001b[0m \u001b[1;32mnot\u001b[0m \u001b[0mchunked\u001b[0m\u001b[1;33m:\u001b[0m\u001b[1;33m\u001b[0m\u001b[1;33m\u001b[0m\u001b[0m\n\u001b[1;32m--> 439\u001b[1;33m                 resp = conn.urlopen(\n\u001b[0m\u001b[0;32m    440\u001b[0m                     \u001b[0mmethod\u001b[0m\u001b[1;33m=\u001b[0m\u001b[0mrequest\u001b[0m\u001b[1;33m.\u001b[0m\u001b[0mmethod\u001b[0m\u001b[1;33m,\u001b[0m\u001b[1;33m\u001b[0m\u001b[1;33m\u001b[0m\u001b[0m\n",
      "\u001b[1;32mc:\\Program Files\\Python39\\lib\\site-packages\\urllib3\\connectionpool.py\u001b[0m in \u001b[0;36murlopen\u001b[1;34m(self, method, url, body, headers, retries, redirect, assert_same_host, timeout, pool_timeout, release_conn, chunked, body_pos, **response_kw)\u001b[0m\n\u001b[0;32m    754\u001b[0m \u001b[1;33m\u001b[0m\u001b[0m\n\u001b[1;32m--> 755\u001b[1;33m             retries = retries.increment(\n\u001b[0m\u001b[0;32m    756\u001b[0m                 \u001b[0mmethod\u001b[0m\u001b[1;33m,\u001b[0m \u001b[0murl\u001b[0m\u001b[1;33m,\u001b[0m \u001b[0merror\u001b[0m\u001b[1;33m=\u001b[0m\u001b[0me\u001b[0m\u001b[1;33m,\u001b[0m \u001b[0m_pool\u001b[0m\u001b[1;33m=\u001b[0m\u001b[0mself\u001b[0m\u001b[1;33m,\u001b[0m \u001b[0m_stacktrace\u001b[0m\u001b[1;33m=\u001b[0m\u001b[0msys\u001b[0m\u001b[1;33m.\u001b[0m\u001b[0mexc_info\u001b[0m\u001b[1;33m(\u001b[0m\u001b[1;33m)\u001b[0m\u001b[1;33m[\u001b[0m\u001b[1;36m2\u001b[0m\u001b[1;33m]\u001b[0m\u001b[1;33m\u001b[0m\u001b[1;33m\u001b[0m\u001b[0m\n",
      "\u001b[1;32mc:\\Program Files\\Python39\\lib\\site-packages\\urllib3\\util\\retry.py\u001b[0m in \u001b[0;36mincrement\u001b[1;34m(self, method, url, response, error, _pool, _stacktrace)\u001b[0m\n\u001b[0;32m    573\u001b[0m         \u001b[1;32mif\u001b[0m \u001b[0mnew_retry\u001b[0m\u001b[1;33m.\u001b[0m\u001b[0mis_exhausted\u001b[0m\u001b[1;33m(\u001b[0m\u001b[1;33m)\u001b[0m\u001b[1;33m:\u001b[0m\u001b[1;33m\u001b[0m\u001b[1;33m\u001b[0m\u001b[0m\n\u001b[1;32m--> 574\u001b[1;33m             \u001b[1;32mraise\u001b[0m \u001b[0mMaxRetryError\u001b[0m\u001b[1;33m(\u001b[0m\u001b[0m_pool\u001b[0m\u001b[1;33m,\u001b[0m \u001b[0murl\u001b[0m\u001b[1;33m,\u001b[0m \u001b[0merror\u001b[0m \u001b[1;32mor\u001b[0m \u001b[0mResponseError\u001b[0m\u001b[1;33m(\u001b[0m\u001b[0mcause\u001b[0m\u001b[1;33m)\u001b[0m\u001b[1;33m)\u001b[0m\u001b[1;33m\u001b[0m\u001b[1;33m\u001b[0m\u001b[0m\n\u001b[0m\u001b[0;32m    575\u001b[0m \u001b[1;33m\u001b[0m\u001b[0m\n",
      "\u001b[1;31mMaxRetryError\u001b[0m: HTTPSConnectionPool(host='kinopoiskapiunofficial.tech', port=443): Max retries exceeded with url: /api/v2.2/films/346/reviews?page=1&order=USER_POSITIVE_RATING_DESC (Caused by NewConnectionError('<urllib3.connection.HTTPSConnection object at 0x000001DAD91C41F0>: Failed to establish a new connection: [WinError 10060] Попытка установить соединение была безуспешной, т.к. от другого компьютера за требуемое время не получен нужный отклик, или было разорвано уже установленное соединение из-за неверного отклика уже подключенного компьютера'))",
      "\nDuring handling of the above exception, another exception occurred:\n",
      "\u001b[1;31mConnectionError\u001b[0m                           Traceback (most recent call last)",
      "\u001b[1;32m~\\AppData\\Local\\Temp/ipykernel_28852/3079367059.py\u001b[0m in \u001b[0;36m<module>\u001b[1;34m\u001b[0m\n\u001b[1;32m----> 1\u001b[1;33m \u001b[0mtop_250_films_reviews\u001b[0m \u001b[1;33m=\u001b[0m \u001b[0mget_films_reviews\u001b[0m\u001b[1;33m(\u001b[0m\u001b[0midxs\u001b[0m\u001b[1;33m,\u001b[0m \u001b[0mpages\u001b[0m\u001b[1;33m=\u001b[0m\u001b[1;36m2\u001b[0m\u001b[1;33m)\u001b[0m\u001b[1;33m\u001b[0m\u001b[1;33m\u001b[0m\u001b[0m\n\u001b[0m\u001b[0;32m      2\u001b[0m \u001b[0mtop_250_films_reviews\u001b[0m\u001b[1;33m.\u001b[0m\u001b[0mto_csv\u001b[0m\u001b[1;33m(\u001b[0m\u001b[1;34m\"top_250_films_reviews.csv\"\u001b[0m\u001b[1;33m)\u001b[0m\u001b[1;33m\u001b[0m\u001b[1;33m\u001b[0m\u001b[0m\n\u001b[0;32m      3\u001b[0m \u001b[0mtop_250_films_reviews\u001b[0m\u001b[1;33m\u001b[0m\u001b[1;33m\u001b[0m\u001b[0m\n",
      "\u001b[1;32m~\\AppData\\Local\\Temp/ipykernel_28852/3573582332.py\u001b[0m in \u001b[0;36mget_films_reviews\u001b[1;34m(film_ids, pages)\u001b[0m\n\u001b[0;32m      8\u001b[0m         \u001b[1;32mfor\u001b[0m \u001b[0mi\u001b[0m\u001b[1;33m,\u001b[0m \u001b[0mfilm_id\u001b[0m \u001b[1;32min\u001b[0m \u001b[0menumerate\u001b[0m\u001b[1;33m(\u001b[0m\u001b[0mfilm_ids\u001b[0m\u001b[1;33m,\u001b[0m \u001b[0mstart\u001b[0m\u001b[1;33m=\u001b[0m\u001b[1;36m1\u001b[0m\u001b[1;33m)\u001b[0m\u001b[1;33m:\u001b[0m\u001b[1;33m\u001b[0m\u001b[1;33m\u001b[0m\u001b[0m\n\u001b[0;32m      9\u001b[0m             \u001b[0mprint\u001b[0m\u001b[1;33m(\u001b[0m\u001b[1;34mf\"\\r{i}/{len(film_ids)}\"\u001b[0m\u001b[1;33m,\u001b[0m \u001b[0mend\u001b[0m\u001b[1;33m=\u001b[0m\u001b[1;34m\"\"\u001b[0m\u001b[1;33m)\u001b[0m\u001b[1;33m\u001b[0m\u001b[1;33m\u001b[0m\u001b[0m\n\u001b[1;32m---> 10\u001b[1;33m             \u001b[0mreviews\u001b[0m \u001b[1;33m=\u001b[0m \u001b[0mget_film_review\u001b[0m\u001b[1;33m(\u001b[0m\u001b[0mfilm_id\u001b[0m\u001b[1;33m,\u001b[0m \u001b[0mpages\u001b[0m\u001b[1;33m)\u001b[0m\u001b[1;33m\u001b[0m\u001b[1;33m\u001b[0m\u001b[0m\n\u001b[0m\u001b[0;32m     11\u001b[0m             \u001b[0mdata\u001b[0m\u001b[1;33m.\u001b[0m\u001b[0mextend\u001b[0m\u001b[1;33m(\u001b[0m\u001b[0mreviews\u001b[0m\u001b[1;33m)\u001b[0m\u001b[1;33m\u001b[0m\u001b[1;33m\u001b[0m\u001b[0m\n\u001b[0;32m     12\u001b[0m     \u001b[1;32mexcept\u001b[0m \u001b[0mConnectionError\u001b[0m\u001b[1;33m:\u001b[0m\u001b[1;33m\u001b[0m\u001b[1;33m\u001b[0m\u001b[0m\n",
      "\u001b[1;32m~\\AppData\\Local\\Temp/ipykernel_28852/3680238391.py\u001b[0m in \u001b[0;36mget_film_review\u001b[1;34m(film_id, pages, delay)\u001b[0m\n\u001b[0;32m      4\u001b[0m     \u001b[1;31m# pages = reviews_info[\"totalPages\"]\u001b[0m\u001b[1;33m\u001b[0m\u001b[1;33m\u001b[0m\u001b[1;33m\u001b[0m\u001b[0m\n\u001b[0;32m      5\u001b[0m     \u001b[1;32mfor\u001b[0m \u001b[0mpage\u001b[0m \u001b[1;32min\u001b[0m \u001b[0mrange\u001b[0m\u001b[1;33m(\u001b[0m\u001b[1;36m1\u001b[0m\u001b[1;33m,\u001b[0m \u001b[0mpages\u001b[0m \u001b[1;33m+\u001b[0m \u001b[1;36m1\u001b[0m\u001b[1;33m)\u001b[0m\u001b[1;33m:\u001b[0m\u001b[1;33m\u001b[0m\u001b[1;33m\u001b[0m\u001b[0m\n\u001b[1;32m----> 6\u001b[1;33m         \u001b[0mreviews_info\u001b[0m \u001b[1;33m=\u001b[0m \u001b[0mget_review_info\u001b[0m\u001b[1;33m(\u001b[0m\u001b[0mfilm_id\u001b[0m\u001b[1;33m,\u001b[0m \u001b[0mpage\u001b[0m\u001b[1;33m=\u001b[0m\u001b[0mpage\u001b[0m\u001b[1;33m)\u001b[0m\u001b[1;33m\u001b[0m\u001b[1;33m\u001b[0m\u001b[0m\n\u001b[0m\u001b[0;32m      7\u001b[0m         \u001b[0mreviews\u001b[0m\u001b[1;33m:\u001b[0m \u001b[0mList\u001b[0m\u001b[1;33m[\u001b[0m\u001b[0mDict\u001b[0m\u001b[1;33m]\u001b[0m \u001b[1;33m=\u001b[0m \u001b[0mreviews_info\u001b[0m\u001b[1;33m[\u001b[0m\u001b[1;34m\"items\"\u001b[0m\u001b[1;33m]\u001b[0m\u001b[1;33m\u001b[0m\u001b[1;33m\u001b[0m\u001b[0m\n\u001b[0;32m      8\u001b[0m         \u001b[1;32mfor\u001b[0m \u001b[0mr_info\u001b[0m \u001b[1;32min\u001b[0m \u001b[0mreviews\u001b[0m\u001b[1;33m:\u001b[0m\u001b[1;33m\u001b[0m\u001b[1;33m\u001b[0m\u001b[0m\n",
      "\u001b[1;32m~\\AppData\\Local\\Temp/ipykernel_28852/1197000235.py\u001b[0m in \u001b[0;36mget_review_info\u001b[1;34m(film_id, page, order)\u001b[0m\n\u001b[0;32m      1\u001b[0m \u001b[1;32mdef\u001b[0m \u001b[0mget_review_info\u001b[0m\u001b[1;33m(\u001b[0m\u001b[0mfilm_id\u001b[0m\u001b[1;33m,\u001b[0m \u001b[0mpage\u001b[0m\u001b[1;33m=\u001b[0m\u001b[1;36m1\u001b[0m\u001b[1;33m,\u001b[0m \u001b[0morder\u001b[0m\u001b[1;33m=\u001b[0m\u001b[1;34m\"USER_POSITIVE_RATING_DESC\"\u001b[0m\u001b[1;33m)\u001b[0m\u001b[1;33m:\u001b[0m\u001b[1;33m\u001b[0m\u001b[1;33m\u001b[0m\u001b[0m\n\u001b[0;32m      2\u001b[0m     \u001b[0mparams\u001b[0m \u001b[1;33m=\u001b[0m \u001b[1;33m{\u001b[0m\u001b[1;34m\"page\"\u001b[0m\u001b[1;33m:\u001b[0m \u001b[0mpage\u001b[0m\u001b[1;33m,\u001b[0m \u001b[1;34m\"order\"\u001b[0m\u001b[1;33m:\u001b[0m \u001b[0morder\u001b[0m\u001b[1;33m}\u001b[0m\u001b[1;33m\u001b[0m\u001b[1;33m\u001b[0m\u001b[0m\n\u001b[1;32m----> 3\u001b[1;33m     \u001b[0mresponse\u001b[0m \u001b[1;33m=\u001b[0m \u001b[0mrequests\u001b[0m\u001b[1;33m.\u001b[0m\u001b[0mget\u001b[0m\u001b[1;33m(\u001b[0m\u001b[1;34mf\"{root}/api/v2.2/films/{film_id}/reviews\"\u001b[0m\u001b[1;33m,\u001b[0m \u001b[0mheaders\u001b[0m\u001b[1;33m=\u001b[0m\u001b[0mheaders\u001b[0m\u001b[1;33m,\u001b[0m \u001b[0mparams\u001b[0m\u001b[1;33m=\u001b[0m\u001b[0mparams\u001b[0m\u001b[1;33m)\u001b[0m\u001b[1;33m\u001b[0m\u001b[1;33m\u001b[0m\u001b[0m\n\u001b[0m\u001b[0;32m      4\u001b[0m     \u001b[1;32mif\u001b[0m \u001b[0mresponse\u001b[0m\u001b[1;33m.\u001b[0m\u001b[0mstatus_code\u001b[0m \u001b[1;33m!=\u001b[0m \u001b[1;36m200\u001b[0m\u001b[1;33m:\u001b[0m\u001b[1;33m\u001b[0m\u001b[1;33m\u001b[0m\u001b[0m\n\u001b[0;32m      5\u001b[0m         \u001b[1;32mraise\u001b[0m \u001b[0mException\u001b[0m\u001b[1;33m(\u001b[0m\u001b[1;33m)\u001b[0m\u001b[1;33m\u001b[0m\u001b[1;33m\u001b[0m\u001b[0m\n",
      "\u001b[1;32mc:\\Program Files\\Python39\\lib\\site-packages\\requests\\api.py\u001b[0m in \u001b[0;36mget\u001b[1;34m(url, params, **kwargs)\u001b[0m\n\u001b[0;32m     73\u001b[0m     \"\"\"\n\u001b[0;32m     74\u001b[0m \u001b[1;33m\u001b[0m\u001b[0m\n\u001b[1;32m---> 75\u001b[1;33m     \u001b[1;32mreturn\u001b[0m \u001b[0mrequest\u001b[0m\u001b[1;33m(\u001b[0m\u001b[1;34m'get'\u001b[0m\u001b[1;33m,\u001b[0m \u001b[0murl\u001b[0m\u001b[1;33m,\u001b[0m \u001b[0mparams\u001b[0m\u001b[1;33m=\u001b[0m\u001b[0mparams\u001b[0m\u001b[1;33m,\u001b[0m \u001b[1;33m**\u001b[0m\u001b[0mkwargs\u001b[0m\u001b[1;33m)\u001b[0m\u001b[1;33m\u001b[0m\u001b[1;33m\u001b[0m\u001b[0m\n\u001b[0m\u001b[0;32m     76\u001b[0m \u001b[1;33m\u001b[0m\u001b[0m\n\u001b[0;32m     77\u001b[0m \u001b[1;33m\u001b[0m\u001b[0m\n",
      "\u001b[1;32mc:\\Program Files\\Python39\\lib\\site-packages\\requests\\api.py\u001b[0m in \u001b[0;36mrequest\u001b[1;34m(method, url, **kwargs)\u001b[0m\n\u001b[0;32m     59\u001b[0m     \u001b[1;31m# cases, and look like a memory leak in others.\u001b[0m\u001b[1;33m\u001b[0m\u001b[1;33m\u001b[0m\u001b[1;33m\u001b[0m\u001b[0m\n\u001b[0;32m     60\u001b[0m     \u001b[1;32mwith\u001b[0m \u001b[0msessions\u001b[0m\u001b[1;33m.\u001b[0m\u001b[0mSession\u001b[0m\u001b[1;33m(\u001b[0m\u001b[1;33m)\u001b[0m \u001b[1;32mas\u001b[0m \u001b[0msession\u001b[0m\u001b[1;33m:\u001b[0m\u001b[1;33m\u001b[0m\u001b[1;33m\u001b[0m\u001b[0m\n\u001b[1;32m---> 61\u001b[1;33m         \u001b[1;32mreturn\u001b[0m \u001b[0msession\u001b[0m\u001b[1;33m.\u001b[0m\u001b[0mrequest\u001b[0m\u001b[1;33m(\u001b[0m\u001b[0mmethod\u001b[0m\u001b[1;33m=\u001b[0m\u001b[0mmethod\u001b[0m\u001b[1;33m,\u001b[0m \u001b[0murl\u001b[0m\u001b[1;33m=\u001b[0m\u001b[0murl\u001b[0m\u001b[1;33m,\u001b[0m \u001b[1;33m**\u001b[0m\u001b[0mkwargs\u001b[0m\u001b[1;33m)\u001b[0m\u001b[1;33m\u001b[0m\u001b[1;33m\u001b[0m\u001b[0m\n\u001b[0m\u001b[0;32m     62\u001b[0m \u001b[1;33m\u001b[0m\u001b[0m\n\u001b[0;32m     63\u001b[0m \u001b[1;33m\u001b[0m\u001b[0m\n",
      "\u001b[1;32mc:\\Program Files\\Python39\\lib\\site-packages\\requests\\sessions.py\u001b[0m in \u001b[0;36mrequest\u001b[1;34m(self, method, url, params, data, headers, cookies, files, auth, timeout, allow_redirects, proxies, hooks, stream, verify, cert, json)\u001b[0m\n\u001b[0;32m    540\u001b[0m         }\n\u001b[0;32m    541\u001b[0m         \u001b[0msend_kwargs\u001b[0m\u001b[1;33m.\u001b[0m\u001b[0mupdate\u001b[0m\u001b[1;33m(\u001b[0m\u001b[0msettings\u001b[0m\u001b[1;33m)\u001b[0m\u001b[1;33m\u001b[0m\u001b[1;33m\u001b[0m\u001b[0m\n\u001b[1;32m--> 542\u001b[1;33m         \u001b[0mresp\u001b[0m \u001b[1;33m=\u001b[0m \u001b[0mself\u001b[0m\u001b[1;33m.\u001b[0m\u001b[0msend\u001b[0m\u001b[1;33m(\u001b[0m\u001b[0mprep\u001b[0m\u001b[1;33m,\u001b[0m \u001b[1;33m**\u001b[0m\u001b[0msend_kwargs\u001b[0m\u001b[1;33m)\u001b[0m\u001b[1;33m\u001b[0m\u001b[1;33m\u001b[0m\u001b[0m\n\u001b[0m\u001b[0;32m    543\u001b[0m \u001b[1;33m\u001b[0m\u001b[0m\n\u001b[0;32m    544\u001b[0m         \u001b[1;32mreturn\u001b[0m \u001b[0mresp\u001b[0m\u001b[1;33m\u001b[0m\u001b[1;33m\u001b[0m\u001b[0m\n",
      "\u001b[1;32mc:\\Program Files\\Python39\\lib\\site-packages\\requests\\sessions.py\u001b[0m in \u001b[0;36msend\u001b[1;34m(self, request, **kwargs)\u001b[0m\n\u001b[0;32m    653\u001b[0m \u001b[1;33m\u001b[0m\u001b[0m\n\u001b[0;32m    654\u001b[0m         \u001b[1;31m# Send the request\u001b[0m\u001b[1;33m\u001b[0m\u001b[1;33m\u001b[0m\u001b[1;33m\u001b[0m\u001b[0m\n\u001b[1;32m--> 655\u001b[1;33m         \u001b[0mr\u001b[0m \u001b[1;33m=\u001b[0m \u001b[0madapter\u001b[0m\u001b[1;33m.\u001b[0m\u001b[0msend\u001b[0m\u001b[1;33m(\u001b[0m\u001b[0mrequest\u001b[0m\u001b[1;33m,\u001b[0m \u001b[1;33m**\u001b[0m\u001b[0mkwargs\u001b[0m\u001b[1;33m)\u001b[0m\u001b[1;33m\u001b[0m\u001b[1;33m\u001b[0m\u001b[0m\n\u001b[0m\u001b[0;32m    656\u001b[0m \u001b[1;33m\u001b[0m\u001b[0m\n\u001b[0;32m    657\u001b[0m         \u001b[1;31m# Total elapsed time of the request (approximately)\u001b[0m\u001b[1;33m\u001b[0m\u001b[1;33m\u001b[0m\u001b[1;33m\u001b[0m\u001b[0m\n",
      "\u001b[1;32mc:\\Program Files\\Python39\\lib\\site-packages\\requests\\adapters.py\u001b[0m in \u001b[0;36msend\u001b[1;34m(self, request, stream, timeout, verify, cert, proxies)\u001b[0m\n\u001b[0;32m    514\u001b[0m                 \u001b[1;32mraise\u001b[0m \u001b[0mSSLError\u001b[0m\u001b[1;33m(\u001b[0m\u001b[0me\u001b[0m\u001b[1;33m,\u001b[0m \u001b[0mrequest\u001b[0m\u001b[1;33m=\u001b[0m\u001b[0mrequest\u001b[0m\u001b[1;33m)\u001b[0m\u001b[1;33m\u001b[0m\u001b[1;33m\u001b[0m\u001b[0m\n\u001b[0;32m    515\u001b[0m \u001b[1;33m\u001b[0m\u001b[0m\n\u001b[1;32m--> 516\u001b[1;33m             \u001b[1;32mraise\u001b[0m \u001b[0mConnectionError\u001b[0m\u001b[1;33m(\u001b[0m\u001b[0me\u001b[0m\u001b[1;33m,\u001b[0m \u001b[0mrequest\u001b[0m\u001b[1;33m=\u001b[0m\u001b[0mrequest\u001b[0m\u001b[1;33m)\u001b[0m\u001b[1;33m\u001b[0m\u001b[1;33m\u001b[0m\u001b[0m\n\u001b[0m\u001b[0;32m    517\u001b[0m \u001b[1;33m\u001b[0m\u001b[0m\n\u001b[0;32m    518\u001b[0m         \u001b[1;32mexcept\u001b[0m \u001b[0mClosedPoolError\u001b[0m \u001b[1;32mas\u001b[0m \u001b[0me\u001b[0m\u001b[1;33m:\u001b[0m\u001b[1;33m\u001b[0m\u001b[1;33m\u001b[0m\u001b[0m\n",
      "\u001b[1;31mConnectionError\u001b[0m: HTTPSConnectionPool(host='kinopoiskapiunofficial.tech', port=443): Max retries exceeded with url: /api/v2.2/films/346/reviews?page=1&order=USER_POSITIVE_RATING_DESC (Caused by NewConnectionError('<urllib3.connection.HTTPSConnection object at 0x000001DAD91C41F0>: Failed to establish a new connection: [WinError 10060] Попытка установить соединение была безуспешной, т.к. от другого компьютера за требуемое время не получен нужный отклик, или было разорвано уже установленное соединение из-за неверного отклика уже подключенного компьютера'))"
     ]
    }
   ],
   "source": [
    "top_250_films_reviews = get_films_reviews(idxs, pages=2)\n",
    "top_250_films_reviews.to_csv(\"top_250_films_reviews.csv\", index=False)\n",
    "top_250_films_reviews"
   ]
  },
  {
   "cell_type": "code",
   "execution_count": 27,
   "metadata": {},
   "outputs": [
    {
     "data": {
      "text/plain": [
       "{'total': 469,\n",
       " 'totalPages': 24,\n",
       " 'totalPositiveReviews': 417,\n",
       " 'totalNegativeReviews': 24,\n",
       " 'totalNeutralReviews': 28,\n",
       " 'items': [{'kinopoiskId': 65581,\n",
       "   'type': 'POSITIVE',\n",
       "   'date': '2007-06-26T19:47:00',\n",
       "   'positiveRating': 485,\n",
       "   'negativeRating': 63,\n",
       "   'author': 'P.S.SeLeNa',\n",
       "   'title': None,\n",
       "   'description': '«Они помогли ему убить себя и так происходит каждый день во всем мире»…\\r\\n\\r\\nФильм, который я могу смело назвать шедевром. Фильм, который длится три часа и которые пролетают незаметно. Фильм, который смотрится каждый раз как в первый. Фильм, который нельзя забыть и которым нельзя не проникнуться. Фильм, котрый заставляет задуматься о жизни, которую мы тратим на пустяки, теша себя иллюзией бессмертия, о смерти, которая не щадит никого.\\r\\n\\r\\nФильм о зле, которое не всегда наказуемо и о добре, которое подчас бессильно что-либо изменить. И тебе остается лишь смотреть на то, как вершится суд, над тем кто не должен сидеть на скамье подсудимых. \\r\\n\\r\\nФильм, который изменил мое мировоззрение и научил по-другому относиться к жизни.\\r\\n\\r\\n10 из 10'},\n",
       "  {'kinopoiskId': 151932,\n",
       "   'type': 'POSITIVE',\n",
       "   'date': '2008-01-25T03:08:00',\n",
       "   'positiveRating': 256,\n",
       "   'negativeRating': 26,\n",
       "   'author': 'Боб',\n",
       "   'title': 'Дорога длинною в жизнь',\n",
       "   'description': ' «Боже, иногда Зеленая миля так длинна… «\\r\\n «Мы все заслужили смерть, все, без исключения.\\r\\nНо ведь тот же Бог так жестоко принес в жертву Джона Коффи, пытавшегося творить добро по-своему, как только ветхозаветный пророк мог принести в жертву беззащитного агнца, …как Авраам пожертвовал бы собственным сыном, если бы ему и впрямь повелели. Я вспоминаю слова Джона, что Уортон убил близняшек Деттерик их любовью друг к другу, и такое происходит каждый день по всему миру. Значит, Бог позволяет, чтобы оно случалось, и, когда мы говорим: «Я не понимаю», Бог отвечает: «Мне все равно». \\r\\nСтивен Кинг («Зеленая миля») \\r\\n\\r\\nО, не спеши туда, где жизнь светлей и чище!\\r\\nА. Толстой \\r\\n\\r\\nСюжет идентичен с книгой Стивена Кинга, поэтому буду краток. Пол Эджкомб работает начальником тюремного блока. Это не простой блок — здесь проводят свои последние недели люди, осужденные на смертную казнь — самые отъявленные уголовники: маньяки, насильники, убийцы. Пол проработал здесь много лет, провел сотни казней и научился быть циником, но так и не научился быть убийцей. Он сумел сохранить в себе человека, как и три его закадычных друга, работающих с ним же. Свои последние шаги в качестве живого человека смертники назвали «зеленой милей», потому что пол длинного коридора, по которому вели заключенного в последний путь был покрыт линолеумом зеленого цвета.\\r\\n\\r\\nМногие прошагали по этой дорожке и Пол вытерпел все. Но вот по зеленой миле должен пройтись человек, обладающий божественной силой, и, как уверен Пол, человек ни в чем не повинный. Он появился в блоке и наделал шороху — огромный, гигантский негр, с мускулами голиафа и силой слона, был кроток и все время плакал. Он был обвинен за убийство и изнасилование двух девочек-близняшек. Негр слабоват умом, но в его руках заложена громадная целительная сила, правда, на зеленой мили от его силы нет никакого толка. Все, что происходит на зеленой миле, на ней и остается. Это закон. И несчастный надзиратель через всю жизнь пронесет воспоминания о тех месяцах, что он провел в тюрьме вместе с гигантом Джоном Коффи. Они навсегда изменили его жизнь!\\r\\n\\r\\n* * *\\r\\nФильм поставлен по роману-бестселлеру «короля ужасов» Стивена Кинга. Стивен Кинг не только самый удачливый и богатый писатель в истории мировой литературы, он человек, безусловно, очень талантливый. Мое увлечение произведениями Кинга началось несколько лет назад с великолепной «Безнадеги». В отличие от других королей жанра, например, Лавкрафта, Кинг описывает реально страшные вещи и описывает их очень ярко, эмоционально и талантливо, словно пропуская через себя (кстати, для написания «Мили» он несколько дней провел в камере смертников, и даже пристегивался к электрическому стулу для полноты ощущений). Он не опускает деталей, некоторых стиль Кинга просто шокирует, потому что люди, характеры в его произведениях самые что ни на есть натуральные, и занимаются человеческими делами, и только вмешивающаяся в их жизнь мистика нарушает естественный ход вещей. \\r\\n\\r\\nКинг автор огромного числе романов и почти все они экранизованы, и нельзя не отметить, что Кинг очень любит кино, частенько сам пишет сценарии, иногда выступает продюсером, а изредка даже мелькает в эпизодах. Это заигрывание с кино не случайно — литературный язык писателя на редкость кинематографичен. Он словно скользит камерой по сюжету своих романов, прям любой хоть бери — готовый сценарий, расписанный до мельчайших подробностей. \\r\\n\\r\\nПравда, на экранизации Кингу очень не везет — уж больно сильны в США каноны традиционных ужастиков, поэтому из романа выкидывают весь смысл, очищают его от всего настоящего и оставляют лишь страшные бессмысленные картинки, по которым часто совершенно отвратительные режиссеры снимают с бездарными телеактерами отстойные фильмы вроде «Оно» или недавней «Безнадеги». Нельзя Кинга экранизовать традиционно и так однобоко! Чтобы снять кино по Кингу, нужно, во-первых, досконально разобрать по полочкам его произведение, а во-вторых, просто полюбить его героев.\\r\\n\\r\\nФрэнк Дарабонт нередко сам признавался, что любит Стивена Кинга и считает его самым выдающимся писателем современности. Не мне судить Дарабонта, у Кинга на самом деле много чисто конъюнктурных и поделочных романов, но одного у режиссера не отнимешь — он настолько сильно проникся произведениями короля ужасов, что снял по ним уже два безусловных шедевра, и, надеюсь, снял еще один (я еще не видел «Тумана»). Что интересно, Дарабонта мало интересуют романы ужасов, потому что такие книги, во-первых, экранизуются тучами, а во-вторых, за легкостью жанра, делаются быстро и традиционно. А вот такие, как «Зеленая миля» — это экранизовать страшно, не каждый потянет, уж больно сложны герои, больно многогранна книга, больно тяжел смысл. Это вам не детей в лоскуты кромсать — море бутафорской крови и искаженное злобой лицо маньяка. К «Миле» на вездеходе не подкатишь!\\r\\n\\r\\nОднако, Дарабонт чрезвычайно сильный и профессиональный режиссер. Он поразил всех без исключения — и критиков, и зрителей, экранизировав в 1994 небольшой рассказик Кинга «Рита Хейуорд или искупление Шоушенком», получил несколько Оскаров и неплохую кассу. А через несколько лет взялся за лучшее произведение Кинга — «Зеленую милю». У него было два пути — либо изменять книгу ради придания фильму более глянцевого и популярного оттенка, т. е. уродовать Кинга сценарными условностями, либо экранизировать книгу точно, словно перелистывая перед зрителями страницу за страницей. Он избрал второй путь, пожалуй, единственно верный.\\r\\n\\r\\nНи один Кинг при экранизации не пострадал! Дарабонт не упустил ни одной, даже самой мелкой детали, он был педантичен и точен во всем. Даже диалоги героев максимально приближены к тексту, все точно и ясно. Было лишь несколько малозаметных изменений, но атмосфера романа, атмосфера боли и страха, дух последнего, самого тяжелого пути в жизни преступников, были переданы восхитительно. Дарабонт сумел перенести на экран не только уникальную атмосферу, но и без ущерба смысл книги, характеры всех героев, сумел передать законы эпохи и сумел угодить всем — и зрителям, что подтверждают 286, 8 млн. $ кассовых сборов, и критикам, что подтверждают несколько номинаций на Оскар, и даже Кингу, который назвал «Зеленую милю» своей самой любимой экранизацией.\\r\\n\\r\\nНедостатком многих книг Кинга является их затянутость. Любовь к доскональному изучению подробностей иногда губит его романы, так, я совсем не могу читать «Темную башню» — там слишком много томов — десяток одинаковых книг. Дарабонт мог исправить этот недостаток, добавив фильму драйва музыкой или хотя бы несколькими динамичными сценами, но он этого делать не стал, чтобы не терять ниточку романа. В фильме звучат переливчатые ритмы из фильмов Хэмфри Богарта, а стиль фильма — течение ровной, спокойной, немного сонной реки. Но что удивительно — у фильма гигантский хронометраж — 3 часа! Да на «Властелине колец» я за это время пять раз засыпал и просыпался, но здесь не хотелось спать. Этот фильм, лишенный всех приемов кинозавлекательности, затягивает, безраздельно властвует над зрителем, держит его у экрана все 3 часа. Как я проглотил книгу, так я проглотил фильм — сразу, одни махом. Это поистине чудо прекрасного режиссера.\\r\\n\\r\\nФильм очень эмоционален, пожалуй, даже сентиментален. Но это не дешевая сентиментальность бразильских сериалов, где все извергают потоки слез, а потом тонут в собственной патоке, придавленные розовыми слонами. Это настоящие, жизненные чувства, которые безумно трогают. Я долго сдерживал себя, но в конце концов все же не выдержал — настолько сильно сделаны некоторые сцены. В них нет фальши. Они искренни и свободны. И нет хэппи-энда, фильм, пожалуй, даже жесток, хотя, подумав, понимаешь — по-другому произойти и не могло.\\r\\n\\r\\nВ картине занят изумительный актерский ансамбль — что «Побег из Шоушенка», что «Зеленая миля» — актеры подобраны абсолютно идеально — просто не к чему придраться. Я люблю Тома Хэнкса, хотя немногие его роли вызывают у меня к нему теплые чувства, но здесь он сыграл прекрасно, пожалуй, лучшая его роль из тех, что я видел. Очень ровно, с нужной его герою долей цинизма, без лишних эмоций, без слез и заламываний рук, Хэнкс действительно большой актер, жаль, что не всегда это видно во всяких «Кодах да Винчи» и пафосных «Райанах», где он толком не знает, что делать, и как себя подать. \\r\\n\\r\\nКогда я читал книгу, я сам видел в Джоне Коффи кого-то вроде Майкла Кларка Дункана. И, когда смотрел фильм, увидел его воочию. Да, это был Кффи из моего воображения. Идеальный выбор! Громадный негр с гигантскими мускулами, но очень добрым, немного детским лицом. Дункан смотрелся восхитительно — он был невинен, трогателен и потрясающе искренен. Его за эту роль номинировали на Оскар, и жаль, что не дали — я от него, героя боевиков, такого не ожидал. Потрясающе.\\r\\n\\r\\nДа все, кого не возьмешь — на своем месте, без дураков. Джеймс Кромуэлл в роли начальника тюрьмы, Дэвид Морс в роли Брутиса (очень хорош), Майкл Джетер в роли Делакруа, Даг Хачисон в роли мерзкого Перси…. Прекрасные актеры, настоящие профессионалы, раскрывшие перед нами характеры своих персонажей полностью, по уровню игры этот фильм скорее очень сильная психологическая драма, а не заявленный мистический триллер, да и мистики там кот наплакал.\\r\\n\\r\\nМне трудно усмотреть какие-то недостатки в этом фильме, потому что редко встречается режиссер, способный перенести объемную и сложную книгу на экран с такой любовью, так точно и без потерь. Я люблю книгу и люблю фильм. Это стоящее кино. Идеальная экранизация гениального романа — один из лучших фильмов последнего десятилетия! Он способен потрясти до глубины души и не оставит равнодушным, а это признак хорошего кино.\\r\\n\\r\\n10 из 10'},\n",
       "  {'kinopoiskId': 72099,\n",
       "   'type': 'NEUTRAL',\n",
       "   'date': '2007-05-23T23:34:00',\n",
       "   'positiveRating': 209,\n",
       "   'negativeRating': 24,\n",
       "   'author': 'КиноПоиск',\n",
       "   'title': None,\n",
       "   'description': 'I. Два творца:\\r\\n\\r\\nСтивен Кинг. \\r\\n\\r\\nИмя, не нуждающееся в представлении. Человек, выдумавший уйму увлекательных сюжетов, создавший прекрасные и загадочные миры, отличающиеся мрачностью и таинственностью. \\r\\n\\r\\nС экранизациями собственных романов Кингу всегда не везло. Большинство режиссёров предпочитало снимать, опираясь на своё видение сюжета, тогда как исключительная кинговская атмосфера пропадала. \\r\\n\\r\\nЛибо режиссёр пытался наворотить кучу спецэффектов, и получалась ерунда («Ловец снов»), либо режиссёр всё переиначивал на свой лад, и творился ад кромешный в сценарном плане («Сияние» Кубрика, кстати говоря, та же беда преследует все экранизации «Сталкера»). \\r\\n\\r\\nЭкранизация — дело всегда серьёзное, ибо: фанаты книги могут разозлиться не на шутку, раз «кое-что поменяли в сюжете», а не читавшие книгу могут не понять смысл происходящего из-за неумелого монтажа. Ярким примером ситуации является «Гарри Поттер и Кубок огня». Поэтому режиссёру приходится лавировать между ловушками, пытаясь угодить и нашим, и вашим, и про свои творческие способности не забывать.\\r\\n\\r\\nК счастью, нашёлся человек, способный адекватно экранизировать произведения Кинга. Имя ему — Фрэнк Дэрабонт. Он сумел талантливо экранизировать два сложных произведения Короля Ужасов — «Побег из Шоушенка» и «Зелёную милю». Не случайно эти фильмы стали «народными» хитами, их часто вспоминают, цитируют, сравнивают с другими экранизациями кинговских произведений. \\r\\n\\r\\nII. Треугольный сюжет: \\r\\n\\r\\nВ «Зелёной миле» Кинг раскрывает три линии, каждая из которых примечательна и своеобразна.\\r\\n\\r\\nПервая линия — жизнь смертников. Все они разные и любопытные «экземпляры». Тут и тип Делакруа, и Дикий Билл, и индеец, все собой хороши. Каждый из них — убийца, человек, совершивший страшный поступок. Тут надо сказать, что в фильме не особо раскрывается факт их попадания в отсек тюрьмы для смертников. Убил, ну убил — смертный приговор… У Кинга всё гораздо серьёзнее и глубже проработано. Что есть вина? Что есть виновность? Кто определяет степень вины? Что есть грех? Кинг не пытается отвечать на вопросы, он их ставит перед читателем, определяя проблему общества, и это есть лучший признак талантливого писателя. Творчество не отвечает на вопросы, оно лишь подталкивает читателей к раздумьям, к осмыслению мира и его сущности, к поиску решения накопившихся проблем. Какова главная идея «Зелёной мили», я сформулирую позднее. \\r\\n\\r\\nВторая линия — жизнь стражей, полицейских. Они тоже индивиды, каждый из них отличен от другого своими чертами характера. Один — блатной мальчик, второй — мудрый начальник, третий — красавчик, зарабатывающий себе на жизнь, четвёртый — добряк, который выбрал служение закону, пятый — старик, которому в такие годы (если не ошибаюсь, в сюжете Кинга указывался период после Великой депрессии, если не так, то извиняюсь) некуда податься. Быть палачом можно по-всякому: получая удовольствие от избавления неугодных миру, выполняя с чувством омерзения и получая деньги, а можно быть палачом и человеком одновременно, как главный герой — Пол Эджкомб. Негр Джон Коффи с его мистическими способностями — это лишь та составляющая романов Кинга, благодаря которой он может держать читателей в напряжении. Коффи — второстепенный герой, он лишь внешний показатель доброты в человеке. Настоящий главный персонаж — Эджкомб, который выполняет свою работу со справедливостью и достоинством, обращённым ко всем смертникам. Он видит в убийцах людей, он понимает их души, он не просто механический палач. \\r\\n\\r\\nТретья линия — нормальная жизнь, за стенами тюрьмы. Это семейная жизнь Пола Эджкомба, которая раскрывает его с другой стороны: человек сомневающийся, гуманный и любящий. Это встречи Пола и его коллег на пикнике. Это отношения с начальником Пола и его больной женой. Эта линия позволяет читателям сопоставить сведения о мире смертников и мире, откуда они пришли, пришли по своей вине. \\r\\n\\r\\nIII. Достойная экранизация прекрасного романа:\\r\\n\\r\\nФрэнк Дэрабонт уловил дух романа. \\r\\n\\r\\nИнтерьер отсека смертников проработан идеально: при виде его у зрителя возникает смутное, неопределённое ощущение, и точно негативное. Зелёный пол вызывает отторжение, полутёмные камеры смертников — страх, а солнечный свет, падающий на стол в коридоре — пост наблюдения за смертниками — неизбежно приводит к грустным мыслям. Ждать своей смерти — что может быть хуже?\\r\\n\\r\\nАктёры сыграли великолепно: Том Хэнкс, как всегда, на должном уровне, изобразил Пола Эджкомба; Майкл Кларк Дункан воплотил в реальность трогательный образ Джона Коффи; Сэм Рокуэлл весьма убедительно показал гнилость души Дикого Билла; Джеймс Кромвелл (начальник Пола) и Бонни Хант (жена Пола) привнесли своё очарование в экранизацию «Зелёной мили». Даже крохотное камео Гарри Дина Стэнтона в роли уборщика отсека смертников врезается в память. \\r\\n\\r\\nКонечно, нельзя не упомянуть о работе дрессировщиков, сумевших подарить зрителям совершенно обаятельного мыша по кличке мистер Джинглс. Этот мышонок стал любимцем публики. \\r\\n\\r\\nСледует воздать должное и команде по спецэффектам — сцены исцеления людей Джоном Коффи выглядели правдоподобно. \\r\\n\\r\\nДва творца — писатель и режиссёр — сумели сотворить фильм фильмов — историю на все времена.\\r\\n\\r\\nIV. Смерть и бессмертие:\\r\\n\\r\\nБессмертие — самая большая иллюзия творческого мира. Его желали многие герои, в первую очередь, злодеи, жаждущие вечной власти над миром. Но «Зелёная миля» Кинга показала на примере хорошего героя, что бессмертие хуже смерти. Моменты, когда ты теряешь тех, кто был тебе дорог, не стираются из памяти. \\r\\n\\r\\nПамять — вот главное преткновение бессмертия и смерти. Она не даёт заснуть угрызениям совести. Она есть та граница, не дающая смерти одолеть мир, а бессмертию — овладеть умами людей. Мы помним… И живём. \\r\\n\\r\\nИдея «Зелёной мили» заключалась в простом девизе: «Будь человеком!». Пол Эджкомб был им. \\r\\n\\r\\n«Каждому из нас рано или поздно придётся пройти свою зелёную милю… » (Пол Эджкомб).'},\n",
       "  {'kinopoiskId': 114905,\n",
       "   'type': 'POSITIVE',\n",
       "   'date': '2007-10-21T18:32:00',\n",
       "   'positiveRating': 175,\n",
       "   'negativeRating': 20,\n",
       "   'author': 'Exitlude',\n",
       "   'title': None,\n",
       "   'description': 'Они помогли ему убить себя\\r\\n\\r\\n«Они помогли ему убить себя и так происходит каждый день во всем мире». Эту фразу знают многие, эта фраза западает в душу, это — чистая, сентиментальная правда. Правда, о которой мы не хотим так много знать.\\r\\n\\r\\nИмя Стивена Кинга известно всем. Кинг — писатель, который сделал себе имя на своих рассказах и их экранизация. «Король ужасов», «Мастер ужасов» и т. д. Этого человека можно называть как угодно, но он всё равно останется гением, ибо только гений мог написать «Зелёную милю» и только такой гений, как Фрэнк Дарабонт мог её снять.\\r\\n\\r\\n«Зелёная миля» так же, как и «Побег из Шоушенка» написана в несвойственном для Кинга стиле. Это не ужасы и не триллер. Это, действительно, драма. Глубокая и тяжёлая (применимо как к фильму, как и к рассказу). Тяжёлая на столько, что мне довелось знать тех, кто просто не выдержал наблюдать три часа за героями. \\r\\n\\r\\nНе судите, да не судимы будите\\r\\n\\r\\nДжон Коффи — негр огромных размеров, обвинённый в страшном преступлении. Это один из самых удивительных персонажей за всю историю кинематографа. Он удивляет на протяжении всего фильма. Первый раз, когда его привозят в блок «Е», своим внешним видом. Второй, когда исцеляет. Третий, когда зритель узнаёт правду. С виду — это громадный, вызывающий ступор человек, но в душе он очень искренний, одинокий и просто добрый. \\r\\n\\r\\nЕсть много фильмов на подобную тематику, что не стоит судить о человеке по его виду, но «Зелёная миля» — самый достоверный, самый сильный фильм, утверждающий это.\\r\\n\\r\\nПол Эджкомб — изживший в себе все человеческие чувства человека к человеку надзиратель блока «Е». Его работа — казнь преступников. Этот герой самый первый вызывает симпатию. У него неприятная работа, проблемы со здоровьем, но сам он добр точно так же, как Джон Коффи. Пол первый, кто уверен в его невиновности, и второй по интересности персонаж. \\r\\n\\r\\nКаждый из них прошёл свою зелёную милю\\r\\n\\r\\nПомимо превосходной игры Тома Хэнкса и Майкла Кларка Дункана нельзя не упомянуть о тех, кто вместе с ними внёс свою лепту в создание этого фильма.\\r\\n\\r\\n- Девид Морс. Достойно смотрелся на фоне Хэнкса и Дункана. Отыграл очень убедительно и так, что не затерялся на их фоне. Мне одинаково импонирует герой Морса и Морс-актёр.\\r\\n\\r\\n- Джеймс Кромуэлл. Единственное, в чём Кромуэлл превосходит «собратьев по цеху» — это рост. На фоне того же Морса его герой (герой, а не сам Кромуэлл) затерялся, но в целом, отыграл отлично, придраться в его игре было абсолютно не к чему. \\r\\n\\r\\n- Майкл Джетер. Актёр с потрясающей мимикой, которого, к сожалению, в фильме не так уж и много. Зато, отыграл он просто великолепно.\\r\\n\\r\\n- Даг Хатчинсон. Стопроцентное и успешное попадание в образ! Его герой раздражал меня на протяжении всего фильма, а значит, Хатчинсон свою работу выполнил безукоризненно.\\r\\n\\r\\n- Сэм Роквэлл. Яркий и неординарный актёр, обладающий сильной харизмой. Более мерзкого героя в этом фильме нет. Попадание в образ не менее удачное, чем у Хатчинсона. Отыграл на высшую оценку, а главное — впечатлил.\\r\\n\\r\\nКроме вышеупомянутых актёров можно отметить Бэрри Пэппера, Грэхема Грина, Бонни Хант, Джеффри ДеМуна, Патрицию Кларксон и Гари Дин Стэнтона. Хорошо отыграли все. После просмотра не возникло поводов бранить кого-то из них за плохую игру, да и желания не было.\\r\\n\\r\\nВот таким, довольно сильный и впечатлительным составом обладает «Зелёная миля». Большинство актёров сыграли здесь свои лучшие роли, за исключением, пожалуй, Тома Хэнкса, который блестяще отыграл в «Форресте Гампе» и единственный из вышеперечисленных актёров, который «купается» в славе. \\r\\n\\r\\nНо всё-таки переиграл всех Майкл Кларк Дункан! Этот фильм — его триумф в кинематографе.\\r\\n\\r\\nВердикт\\r\\n\\r\\n«Зелёная миля» — это фильм о чуде. Фильм о человеке, который был одинок, но не терял надежды на то, что сможет обрести друзей, и обрёл их. Это чистой воды драма, заставляющая зрителей изменить их мировоззрение. Это шедевр без преувеличений. Сильнейший фильм. \\r\\n\\r\\n«Чудеса — забавные вещи, никогда не знаешь, с кем они произойдут. И с кем они произойдут в таком месте. Это самое невероятное чудо из всех».\\r\\n\\r\\n10 из 10'},\n",
       "  {'kinopoiskId': 1715054,\n",
       "   'type': 'NEGATIVE',\n",
       "   'date': '2013-02-06T17:48:00',\n",
       "   'positiveRating': 148,\n",
       "   'negativeRating': 375,\n",
       "   'author': 'Maria_M',\n",
       "   'title': 'Тот момент, когда десяток отрицательный комментариев ближе, чем три сотни положительных.',\n",
       "   'description': 'Посмотреть «Зеленую милю» меня заставило, как и многих, второе место в рейтинге лучших фильмов на КиноПоиске. Поскольку я очень люблю «Побег из Шоушенка» и очень хорошо отношусь к режиссеру Фрэнку Дарабонту, то садилась я смотреть с ощущением, что увижу очередной шедевр. Первые нотки недоумения возникли при виде мух(?), вылетающих изо рта Джона Коффи, но я подумала, ладно, наверно, это фильм с элементами фантастики. Но постепенно мое недоумение превратилось в вопрос: как этот фильм попал на вторую строчку? Давайте посмотрим.\\r\\n\\r\\nЯ не буду пересказывать сюжет, просто обращу внимание на те вещи, которые удивили меня больше всего. \\r\\n\\r\\nВо-первых, герои. Фильм был экранизирован в 1999 году. Кажется, эпоха классицизма и четкого деления героев на хороших и плохих прошла. Так почему тогда характеры персонажей получились такие плоские? Герои прозрачны — буквально носители одной черты: пара хороших, один плохой и несколько картонок, задача которых — пускать слезы на заднем фоне. Как работники тюрьмы, герои вообще несостоятельны. В тюрьме для смертников должны работать довольно опытные люди. И меня лично не раз удивляла их очень уж медленная реакция и вообще поведение в критических ситуациях. Как, например, в сцене с привозом Дикого Билла. Пять мужиков еле как справились с одним заключенным, который при этом умудрился чуть не убить одного из них. Как это так? На логичный вопрос Пола, почему так получилось, они хором ответили: «Мы думали, мы его накачали». Уважая фильм и режиссера, я не буду задавать вопрос, чем думали работники тюрьмы, где сидят особо опасные преступники. Проблемы с оценкой ситуации обнаруживались и тогда, когда нужно быстро реагировать, но вместо этого, они все вместе просто стояли и смотрели. Серьезно, вы найдете такие моменты не раз: на переднем фоне что-то происходит, а на заднем размытые неподвижные фигуры героев. Как, например, в сцене, где Дикий Билл хватает Джона за руку и держит… секунд 30, в то время как все остальные просто наблюдают. \\r\\n\\r\\nКстати, только в этом фильме я обратила внимание, что Том Хэнкс не очень-то богат на мимику. Несколько раз у меня было ощущение дежавю. Когда его показывали крупным планом в примерно одном ракурсе и при, казалось бы, разных ситуациях, у него было абсолютно одинаковое выражение лица.\\r\\n\\r\\nДружественная атмосфера тюрьмы, сюсюканье с заключенными и вообще сами заключенные — это отдельная тема. Что за поэтизация тюрьмы и криминала? Эти люди приговорены к смерти, они все совершили что-то ужасное, значит, они по определению не могут быть хорошими. К чему все эти сцены с предсмертными разговорами Пола и заключенного? К чему вся эта история с мышкой и французом, который скорее напоминает доброго соседа, чем убийцу? Показать раскаяние — это одно, сделать из преступников хороших людей — это другое, и я вообще не думаю, что это приемлемо. Кроме того, странный юмор, подкрепленный веселенькой музыкой, там, где, казалось бы, вообще юмора быть не должно, в сценах с репетицией смертной казни, например. \\r\\n\\r\\nДжон Коффи. В принципе, мне нравился этот герой с его стеснительностью, наивными страхами, абсолютно прозрачно, с первых кадров непохожий на убийцу даже отдаленно. Нравился до произнесенной им фразы «я их наказал, босс». Что? Я, конечно, понимаю, что Джон Коффи — своеобразная отсылка к Иисусу Христу (John Coffey, Jesus Christ — JC и JC), но он не господь бог, чтобы наказывать людей, которых он считает виноватыми. Пусть даже они и действительно виновны, это не дает ему право устраивать самосуд и мстить. Да, Перси ужасен и омерзителен (кстати говоря, самый многогранный персонаж из всего фильма; Даг Хатчинсон действительно хорошо справился с задачей и создал очень правдоподобный образ, в отличие от многих героев, выражения лиц и интонации которых не менялись весь фильм), но сделать его умалишенным до конца жизни — это слишком. Созидательные, хорошие (на какой претендует «Зеленая миля») фильмы должны пропагандировать всепрощение, а не месть, и если героя и настигнет возмездие, то по воле судьбы. Это законы жанра.\\r\\n\\r\\nПод конец фильм вообще плюнул на логику реальной жизни. В 30-е годы в хорошей семье куча мужиков с преступником(на секунду, огромным амбалом и убийцей детей) врываются в спальню к замужней женщине посреди ночи, а ее муж, пару раз хило сказав «не смей», делает вид, что так и надо. Ну это же абсурд. А фраза Пола «просто стой и смотри» вообще убила наповал. Действительно, стой и смотри, как твою жену целует огромный насильник. Да, да, да, мы с вами знаем, что он хороший, но не забывайте, муж-то только что проснулся и ни сном ни духом о чудесных способностях Джона. \\r\\n\\r\\nСцена, где они бегут ночью до машины так же поражает… то ли наивностью, то ли глупостью. Предварительно обсудив, что нужно взять ружья на случай, если он решит бежать, они, не обращая на Джона никакого внимания, все втроем бегут впереди него. Если вы передумали следить за ним, то зачем втроем-то поехали? Да, он хороший человек, но хорошие люди тоже могут сбежать из тюрьмы, может, хоть один бы пошел сзади? \\r\\n\\r\\nВсе это даже «ляпами» сложно назвать, но поймите меня правильно, фильм не плох, и, хотя, он действительно сильно затянут, три часа проходят в общем-то быстро. И я, возможно, закрыла бы глаза на наивность, очевидность и местами отсутствие логики, если бы оценка фильма была баллов 7, но это фильм находится в списке лучших, и я искренне не понимаю, почему…'},\n",
       "  {'kinopoiskId': 1073354,\n",
       "   'type': 'NEGATIVE',\n",
       "   'date': '2010-12-20T17:17:00',\n",
       "   'positiveRating': 131,\n",
       "   'negativeRating': 686,\n",
       "   'author': 'Королева Пиратских островов',\n",
       "   'title': 'Претензия на драматичность… Или очередной тюремный «шедевр».',\n",
       "   'description': 'В общем-то, я не настолько противный человек, чтобы постоянно критиковать предметы большой народной любви. Но так как свободного времени у меня мало, кино смотрю редко, решила обратиться к рейтингу — дабы не тратить драгоценные часы на «абы что», а насладиться чем-нибудь стоящим. «Зеленая миля» сочетала в себе всё, что нужно: имя хорошего режиссера, жанр — драма (к слову, мой любимый), да и к Кингу я, в принципе, отношусь терпимо. Поэтому мой выбор однозначно остановился на вышеупомянутом «шедевре».\\r\\n\\r\\nИ Господи! После просмотра я поняла, что зря так ругала «Побег из Шоушенка». Да по сравнению с «Зелёной милей», тот просто конфетка. «Зелёная миля» — самый противный, пафосный, гадкий из фильмов, когда либо мною увиденных.\\r\\n\\r\\nСкажите, я совсем бессердечна? Вовсе, нет. Соглашусь, творение Фрэнка Дарабонта способно вызвать слёзы. Вот только это не те зрительские слёзы, которые заставляют задуматься, стать лучше, осознать что-то или хотя бы просто испытать прилив эмоций, это слезы облегчения от того, что эта пытка наконец-то (спустя три с лишним часа) закончилась. А также слезы сожаления об убитом времени и об общем сознании нашего общества, которое, судя по всему, относит это кинопроизведение к элите и считает одним из лучших фильмов за всю историю кинематографа.\\r\\n\\r\\nДа этим фильмом только людей пытать. Закройте человека в комнате, включите это кино, и после нескольких просмотров — он вскроет себе вены или повесится. Может, я гиперболизирую. Но желание разбить компьютер у меня возникало, вопреки спокойному темпераменту и устойчивой психике.\\r\\n\\r\\nМожет кто-то считает этот эффект высшим драматическим воздействием, но для меня это всего лишь бессердечная попытка сыграть на психике зрителя, причем совершенно беспринципно, приплетая сюда религиозную тематику. Здоровый добряк-негр чуть ли не Иисусом представлен. Конечно, американцы снова за то, что «белые и чёрные» равны. Сын Господа — негр! Прекрасно. Извините, но тут только иронизировать и остаётся. Драма, это когда война уносит тысячи жизней, когда нелепая случайность обрывает жизнь ребенка, да вид бездомной собаки вызовет у меня больше слёз, чем этот фильм. Единственное, что он после себя оставляет — дико неприятный осадок.\\r\\n\\r\\nВторой момент — сгорающий заживо на электрическом стуле заключённый. Причем, действие длится несколько минут, давая зрителю в полной мере «насладиться» увиденным. Знаете, впечатляет. Может, кто-то и испытывает при подобном чувства схожие с оргазмом, я лишь испытала приступ тошноты. Для чего это? Объясните. Система не совершенна? Смертная казнь жестока? Люди сволочи? \\r\\n\\r\\nМомент третий: игра добрый/злой охранник. Шаблонность образов удручает. Герои однотипны и не интересны. Единственный светлый момент — мистер Джинглс. Больше и смотреть не на кого. Да и правдоподобного здесь не много. Том Хенкс и его дружки — просто ангелочки, без крылышек правда. Конечно, все охранники в отделении смертников настолько святые и жалостливые.\\r\\n\\r\\nМомент четвёртый — преступники. Я увидела лишь одного. Остальные больше напоминали измученных пациентов психиатрической больницы и вызывали жалость. Режиссер что хотел показать, что серийные убийцы и другие заключённые (причем, здесь речь идёт о самых страшных преступниках) тоже люди? Мне горожане, приходившие на казнь, показались большими извергами, чем все подопечные Тома Хенкса и компании.\\r\\n\\r\\nНапоследок пара слов о «великом» и «талантливом» Хенксе. Можете понаставить мне тысячу минусов, но никакого великого таланта я в нём не разглядела. Везде одинаково жалостливый, пришибленный вид. Согласна, с его лицом классно смотрятся герои типа Фореста Гампа и Чака Ноланда. «Ту-ту-ля-ля» он изображает неплохо. Веришь безоговорочно, что у человека «не все дома». Правда его герой-добряк из «Терминала» заставил меня прослезиться, но в «Зелёной миле» Хенкс явно не к месту. Ни один мускул на лице не дрогнет, бревно бревном, в общем. \\r\\n\\r\\nЕсли же говорить кратко, то «Зелёная миля» очередная драматическая история о жизни несчастных заключённых, злобного Перси и святого Хенкса. Похоже, кроме фильмов про тюрьму, звание «шедевр» в нашем обществе не заслуживает ни один фильм. И вот это, действительно, грустно. Фильм дико затянут, действия развиваются медленно и очень нудно. Может, многим такое «садо-мазо» и нравится (по непонятным мне причинам), однако лично на меня эта кинолента произвела самое неприятное впечатление. Просто очередной «вынос мозга» с претензией на драматичность.'},\n",
       "  {'kinopoiskId': 848546,\n",
       "   'type': 'NEGATIVE',\n",
       "   'date': '2010-04-30T14:52:00',\n",
       "   'positiveRating': 131,\n",
       "   'negativeRating': 662,\n",
       "   'author': 'AlexCFS',\n",
       "   'title': None,\n",
       "   'description': 'Зеленая миля — очередная драма, которую можно посмотреть разок, попереживать за Хенкса, попыхтеть над жестокостью матушки-жизни, разухабить в конец свои мозги размышлениями о высоком, но второй раз такое кино смотреть уже не захочется. В итоге, если купить диск, то после просмотра он полетит на дальнюю полку и пролежит там до той поры, пока не придется делать генеральную уборку, тогда диск пойдет в руки друга, который много-много слыхал про этот фильм, хотел его дико посмотреть, но только никак не находил времени, и вот тут появляешься ты и благополучно избавляешься от драммы.\\r\\n\\r\\nПоскольку фильм занимает второе место в чате, то после прочтения этой рецензии, ко мне в личку наверняка прилетит пара-тройка писем, суть которых будет сводиться к тому, что я тупоголовый и них**на не смыслю в кино, и что я лопух, и прочее… Я все понимаю, нападать на фильм, который так чтится в народе, это сверх глупо, мол каким бараном надо быть, чтобы также не чтить данный шедевр, но спешу вас разуверить — шедевром тут и не пахнет. Большинство не всегда бывает право, но и право оно бывает лишь в 1% из 100. Т. е., основываясь на этой простой формуле, прав на 100% оказываюсь именно я, вот ведь какая штука интересная получается! А вы говорите шедевр. А ты приятель, который только что фыркнул, ты можешь блеять и дальше, только учти — жизнь тебя научит уму разуму. Ты вот думаешь, посмотрю фильм и умнее стану, буду всем говорить, какой я образованный, все будут уважать, а представь на секундочку, да ты не смейся глупый!, представь, что завтра тебе героина подбросили и усе, загремел пожизненно, ну если не пожизненно, то на десять лет как минимум. А ты говоришь, я поумнел, посмотрел «Зеленую милю». Ну и кто после этого дурак? Правильно, не я. \\r\\n\\r\\nБлиже к делу. Фильм длится три часа, и проблема многих таких трехчасовых гигантов в том, что фильм в итоге получается чересчур затянутым. Есть, конечно и интересные трехчасовые, и даже шедевры, но данный фильм никак не шедевр. Вот взять хотя бы Тома Хенкса. Ну и что я на него смотрю, и ничего, бревно вижу. Даже, казалось бы в таком эпизоде, как финальная казнь, и то ничего, никакого сочувствия, ну хоть слезу выдавил из себя, хоть на этом спасибо. Но слезу то он выдавил, а моську вот не свернул как следует, в глазах полеты в мечтах читаются. Остальные через раз то и дело оставляют Хенкса с носом. Взять хотя бы Сэма Рокуэлла, который психа играет. Актер неплохой надо сказать, но тут он лучший. Отвязный псих из него получился великолепный. Помните, как он печенье не съел? Вот, один из лучших моментов фильма. Надо сказать было весьма забавно наблюдать за струей печеньица и за смехом Рокуэла. Ну и Перси ничего так, кто-то там его сыграл нормально. Особенно в конце мне Перси понравился, безумные глаза его запомнились.\\r\\n\\r\\nТоварищ Кинг, который мною безмерно уважался в возрасте до пятнадцати, после двадцати уважение к нему пропало. Пусть и не совсем пропало, есть у него пара неплохих рассказов, но пишет он откровенно пафосно, и то и дело его заносит в абсолютно ненужные подробности. Мне что толку, когда он начинает расписывать, какой марки носит носок товарищ Н? От этого пользы не много, но тут Дэрабонт носки не стал трогать, он зациклился на смыслах жизни.\\r\\n\\r\\nВот слишком просто течет фильм, вот мышку показали, вот Коффи показали. Такой примитивизм свойственен также Спилбергу, но никак не Майклу Бэю. Ну вот я уже окончательно глупым стал. Что же это получается, Бэй у нас значит снимать не умеет, Дэрабонт показал моську Хенкса, подбросил несколько смыслов жизни, и все теперь, Бэй, который феноменально разнес Перл Харбор у нас никто, а Дарабонт — супер-пупер режиссер. Не буду усугубляться, конечно, драматизма в «Зеленой миле» поболее, нежели в «Перл Харборе», с этим спорить не буду, ну а как же «Скала»? Дарабонт может снимать еще много своих драмм, но уровня «Скалы» ему не видать как своих ушей.\\r\\n\\r\\nДжон Коффи, его сыграл Майкл Дункан, сыграл не то чтобы плохо, но и никак не хорошо. Слезы каждый умеет пускать — прыснул из баллончика и в поряде — а показать класс могут единицы. Вот кто бы мог сыграть Коффи лучше всего, так это Арнольд Шварценеггер, наверняка ему роль предлагали, но видимо он счел нужным отказать подобной басенке. Это я конечно шучу, но вот не впечатлил Дункан. Такой персонаж как Коффи должен как минимум три ручья слез вызывать, вызывать своим одиночеством, душевными муками и прочее. А тут получается только баллончик и слезы, но отдачи практически никакой, ну примерно как Том Хенкс. Не удивлюсь, если Коффи и Хенкс из одного баллончика себе в глаза шпарили. А вот у кого действительно слезы текли, т. е. по настоящему, так это у Бэрри Пеппера. И хотя он появляется на экране немного, но своим появлением также перекрывает Хенкса. Вот живой он, чувствуется, что не просто бревно ходячее по коврику. Видно, что что-то там есть в голове, а не просто мечтания. Лучше бы его вместо Хенкса поставили, фильм бы выиграл, говорю вам.\\r\\n\\r\\nИ вот кто мне еще понравился — это мистер Джинглс в старчестве, вот где я всплакнул, действительно жаль мышонка. Что же это получается: Хенкс три часа ломал драмму и так ничего не выломал, только баллончик истратил, а тут мышку показали на минуту и у меня сердце дрогнуло…\\r\\n\\r\\nИ немного оптимизма. Я не скажу, что прямо фильм плохой и что Дарабонт плохой режиссер. Неплохой фильм и неплохой режиссер, но фильм не для второго места. Впрочем, мне на это с высокой колокольни, тут еще много таких заблудших овец в топе и даже хуже есть, взять хотя бы «Список Шиндлера».\\r\\n\\r\\n5 из 10'},\n",
       "  {'kinopoiskId': 1195102,\n",
       "   'type': 'NEGATIVE',\n",
       "   'date': '2011-04-23T21:43:00',\n",
       "   'positiveRating': 127,\n",
       "   'negativeRating': 635,\n",
       "   'author': 'Vanilla lace',\n",
       "   'title': 'Зеленая миля длится таак долгооо…',\n",
       "   'description': 'Посмотреть это творение меня сподвиг вовсе не высокий рейтинг, не именитые актеры, и даже не имя С. Кинга. Главной причиной стал Сэм Рокуэлл, с которым я видела не один фильм, и везде он великолепен. Собственно, и тут он меня не разочаровал. Но сам фильм…\\r\\n\\r\\nСюжет:\\r\\n\\r\\n3 часа экранного времени, история тянется как жевательная резинка… Блок смертников? Больше похоже ясельную группу детского сада. Конечно, я не могу знать как все бывает на самом деле в таком месте, но уж явно между осужденными и надзирателями не может быть таких отношений, да и атмосфера слишком уж непринужденная, как будто людей не на смерть обрекли, а так, на 15 суток посадили. Главное событие дня — появление мышки. Ну просто смешно!\\r\\n\\r\\nЧто поражает еще, так это репетиции смертной казни. Зачем это надо? А сама казнь? Особенно, конечно, казнь Делакруа. Неужели сразу не было видно, что процедура проходит неправильно? Потом уже никто ничего не смог сделать и все просто смотрели, как он поджаривается заживо. «Ай-яй-яй, что же мы наделали!». Пристрелили бы его чтоли, и то человечней было. \\r\\n\\r\\nАктеры:\\r\\n\\r\\nТом Хэнкс (Пол) - как некоторые тут уже писали «бревно бревном». Весь фильм одно и то же постное выражение лица, а самые сильные эмоции на его лице появлялись во время посещения уборной, да и то в первые полчаса-час экранного времени.\\r\\n\\r\\nМайкл Кларк Дункан (Джон) - ну честно, постояно обслюнявленное-обсопливленное лицо такого детины уже к середине фильма стало утомлять, а после и вовсе раздражать. Я понимаю, что режиссер как мог давил на жалость и вышибал слезу, но все чего он добился в моем случае — головной боли. \\r\\n\\r\\nДаг Хатчисон (Перси) - со своей ролью справился замечательно. Подлый, трусливый стукач. \\r\\n\\r\\nСэм Рокуэлл (Билл) - как всегда, ему мои аплодисменты! Его герой — единственный из заключенных который ведет себя как заключенный и не лебезит перед надзирателями. К нему не испытываешь жалости. А как может быть иначе в подобном месте, где собраны самые опасные люди? \\r\\n\\r\\n«Зеленая миля» не вызвала у меня никаких особых эмоций, кроме, пожалуй, удивления столь высоким рейтингом. Я не вынесла для себя из этого фильма ровным счетом ничего, посмотрела и забыла. Советовать точно никому не буду, но и отговаривать смотреть тоже. Хотите — смотрите, хотите — нет, только будьте объективными в своей оценке. \\r\\n\\r\\nСэму Рокуэллу, Дагу Хатчисону и еще мышонку — \\r\\n\\r\\n3 из 10\\r\\n\\r\\nАх, да, момент с печенькой порадовал.'},\n",
       "  {'kinopoiskId': 372123,\n",
       "   'type': 'POSITIVE',\n",
       "   'date': '2009-02-02T23:30:00',\n",
       "   'positiveRating': 109,\n",
       "   'negativeRating': 20,\n",
       "   'author': 'xxxVidocqxxx',\n",
       "   'title': 'Black angel',\n",
       "   'description': '«Когда призовет Господь на свой суд праведный, Он спросит меня: «Почему ты убил одно из настоящих моих чудес?» Что я Ему скажу? Что это моя работа? Моя работа…»\\r\\n\\r\\nМне нравится, когда американцы очень впечатлены чем-то, говорят: «I was deeply touched». Что это значит? Как можно быть глубоко тронутым? Не знаю, но именно этими словами я хочу описать тот фейерверк эмоций, вспыхнувший в моей душе после первого, именно после первого просмотра великого, феноменального, неповторимого фильма «Зеленая миля».\\r\\n\\r\\nЧто самое банальное: представьте себе, что подлогу в блоке Е покрасили не в зеленый, а, например, в желтый или даже красный цвет. Думаю, несмотря на это, зеленая миля навсегда осталась бы сама собой. И знаете почему: потому что именно там произошло просто чудо, там отбывал свои последние дни жизни кто-то, кого можно без сомнений назвать черным ангелом.\\r\\n\\r\\nСразу хочу предупредить: смотреть фильм «Зеленая миля» кусками, эпизодами, по частям — это самоубийство. Вы даже можете разочароваться в увиденном. Хотя три часа — это, кажется, много, но глубокую суть фильма не понять, не посмотрев киноленту целиком от начала до последних слов Пола Эджкомба. Поверьте, я тоже имел плохой опыт знакомства с «Милей» только по отдельным сценам, а именно с эпизодом, когда Пол и Брутал ловили маленького мышонка. Я-то подумал, что смотрю глупую комедию… Но, как потом выяснилось, я пренебрег одним из своих самых любимых фильмов.\\r\\nУ меня совсем нет желания детально пересказывать сюжет фильма. Все изложено зрителю как можно яснее, и сопутствовала этому великолепная игра актеров, о которой поговорим позже. Остановлюсь только на нескольких уникальных моментах, противоречивых и просто гениальных.\\r\\n\\r\\nПомните Барта Хаммерсмита? Человека, сын которого очень серьезно пострадал от укусов собаки, потеряв правый глаз? Так вот, не знаю как на вас, но на меня очень сильно повлияли его слова. «Виновен ли Коффи? Да, конечно. Не сомневайтесь. И не поворачивайтесь к нему спиной…» Так он ответил, заставив меня весь фильм очень сильно волноваться за надзирателей. Что ж, в общем, он был прав, только его предсказание сбылось не совсем так, как ожидалось. Это одна из главных изюминок картины — большая интрига.\\r\\n\\r\\nТеперь поделюсь впечатлениями от моей любимой сцены (если не считать пожатия рук в конце, которое стало просто легендой мирового кино): монолог Пола Эджкомба в камере Джона на кануне казни. Конечно, Коффи наперед уже знал, какие слова произнесут его губы, но то, что главный надзиратель все-таки сказал, просто рвет сердце. Пол действительно понимал острую колючую боль в голове узника, потому что и сам страдал от «битого стекла». Он должен был убить чудо, и за это потом всю жизнь страдать от угрызений совести…\\r\\n\\r\\nСразу хочу провести некую параллель (даже пусть никто со мной не согласится): все это напоминает библейские истории. Только римляне распяли Спасителя, а потом осознали свою величайшую ошибку. Но умер Коффи тоже уникально, погасив все фонари.\\r\\n\\r\\nСвет. Да, Джон делал свет ярче, когда творил свои чудеса, потому что сам был светом. Свет — символ правильного пути, жизненного пути. Не странно, что он и сам боялся малейшей темноты.\\r\\n\\r\\nВозможно, моя мысль будет очень оригинальной, но я бы скорее ассоциировал имя Джон Коффи именно с напитком — кофе, и не случайно. Вы уже поняли: тоже черного цвета. Но кофе каждый день дает человеку заряд жизни так же, как делал это чернокожий гигант. Над этим еще надо подумать.\\r\\n\\r\\nЯ обещал высказать свое впечатление от игры актеров. Здесь я бы не выделял никого отдельно: все просто молодцы. Но все же именно Том запомнился мне на всю жизнь: он сильно старался; пусть кто-то скажет, что он даже переигрывал, но я уверен — без него «Зеленая миля» никогда не была бы «Зеленой милей». Аплодирую стоя!\\r\\n\\r\\nМногие считают, что словосочетание «зеленая миля» уже давно значит саму жизнь. И здесь я тоже рискну не согласиться. Для меня «Зеленая миля» — символ будничности. То, что мы видим каждый день, что может казаться нам слишком долгим, что ведет нас к глупым поступкам. Коффи превратил милю в разноцветную. Он сделал для Пола милю еще груснее, только пожав руку…\\r\\n\\r\\n…И запомнились мне три пожатия рук,\\r\\nУскорившие в грудях моих сердца стук.\\r\\nВспоминая о них, задыхаюсь от слез,\\r\\nНо за ними смотреть нужно очень всерьез.\\r\\n\\r\\nПол впервые на миле гиганта коснулся,\\r\\nКогда Коффи рукой своей вдруг потянулся,\\r\\nПредлагая ему уважение, дружбу.\\r\\nСомневаясь, Пол все-таки выполнил службу.\\r\\n\\r\\nДругой раз Джон хотел подарить Полу силу,\\r\\nПоказав, что нельзя доверять злому Билу.\\r\\nНо, пожав Джону руку, Пол так испугался,\\r\\nЧто потом от кошмаров всегда просыпался.\\r\\n\\r\\nНо зачем Пол пожал Джону руку три раза?-\\r\\nЕго мучила совесть — такая зараза,\\r\\nЧто в душе обитать она будет навеки;\\r\\nТолько слезы стекают по щекам, как реки.\\r\\n\\r\\nУдивлюсь, если кто-нибудь не поставил\\r\\n\\r\\n10 из 10'},\n",
       "  {'kinopoiskId': 803756,\n",
       "   'type': 'NEGATIVE',\n",
       "   'date': '2010-03-16T09:12:00',\n",
       "   'positiveRating': 105,\n",
       "   'negativeRating': 731,\n",
       "   'author': 'Ленуся-пуся',\n",
       "   'title': 'Фильм, который «нельзя» критиковать, но я попробую!',\n",
       "   'description': 'Посмотрев фильм «Зеленая миля» я пришла в ужас. Никогда не испытывала ничего подобного. Не буду говорить, что фильм уж очень плох, но он оставляет такие впечатления, которые я смогла заглушить только просмотром шести других фильмов.\\r\\n\\r\\nНа мой взгляд, фильм очень затянут. Если бы его сократили минут на 30, а лучше даже на час, он был бы более интересным и не таким нудным. Много лишних, ненужных сцен, к примеру, сцена с репетицией казни. Зачем показывать смерть каждого заключенного? Зачем нужны эти тупые разговоры в течение каждой казни? Это лишнее.\\r\\n\\r\\nБольше всего меня поразило присутствие так называемых «горожан», которые в приподнятом настроение, нарядно одетые пришли смотреть на казнь. Да конечно, это же, казнь осужденного человека, который за свою жизнь совершил немало плохих поступков. Но бывают же и судебные ошибки! Когда в такой жестокой форме казнят невиновного человека. Это для них что, выход в свет?! Какие жестокие, бесчувственные люди.\\r\\n\\r\\nЧто можно сказать об осужденных? Они были представлены в виде бедных, несчастненьких человечков, которые сидят за решеткой, не зная за что!\\r\\n\\r\\nКого мне действительно было жаль, так это негра огромных размеров — Джона Коффи, обвинённого в страшном преступлении, и мышонка — Мистера Джинглеса.\\r\\n\\r\\nЕдинственное, что меня порадовало в этом фильме, линия судьбы героя Перси, исполнявшего актером Дагом Хачисоном. \\r\\n\\r\\nВ общем, не могу понять, что такая нудная и неприятная по восприятию картина делает на втором месте в списке лучших фильмов. Если смотреть только такое кино — жить расхочется.\\r\\n\\r\\nНа протяжении просмотра несколько раз хотелось прокрутить ленту вперёд, чтобы это всё побыстрее закончилось. Досмотрела только из-за того, что его тут все так расхваливают. Хотя, честно сказать, не поняла за что. Вторично смотреть даже под дулом пистолета не буду.\\r\\n\\r\\nИ оценивать не хочется.'},\n",
       "  {'kinopoiskId': 864949,\n",
       "   'type': 'NEGATIVE',\n",
       "   'date': '2010-05-17T14:50:00',\n",
       "   'positiveRating': 100,\n",
       "   'negativeRating': 629,\n",
       "   'author': 'Nera_DunField',\n",
       "   'title': 'Очень тяжелая сказка.',\n",
       "   'description': 'Давайте будем честными — есть много фильмов о том, как тяжело порой выбирать. «Зеленая милы» не исключение. Выбор, который должен сделать герой Хэнкса, очевиден. Да, жалко человека, он не сильно похож на убийцу. Да еще и лечит всех и вся. Да, симпатичная мышка. Хотя я не люблю грызунов вообще и американскую систему правосудия тоже.\\r\\n\\r\\nЯ честно пытаюсь досмотреть до конца этот фильм. Но не получается. Потому что скучно. Нет того действия, которое бы заставило не отрываться на простые человеческие нужды в течении 3 часов. Хэнкс действительно «деревянный», после каждого его доброго кивка я с ужасом ждала, что он крикнет грозное «Ага, поверил!», достанет из-за пазухи камень и начнет всех убивать. Может от этого фильм вышел бы динамичнее. Да и реалистичнее. Но это другой сюжет. А вот три часа глаголить о справедливости, сдабривая реками слез и горестных вздохов — это не комильфо. \\r\\n\\r\\nФильм второй в рейтинге — но это не значит, что он великолепный. \\r\\n\\r\\n4 из 10\\r\\n'},\n",
       "  {'kinopoiskId': 660762,\n",
       "   'type': 'POSITIVE',\n",
       "   'date': '2009-10-27T20:41:00',\n",
       "   'positiveRating': 99,\n",
       "   'negativeRating': 15,\n",
       "   'author': 'Docktor Zlo',\n",
       "   'title': 'Каждый из нас пройдет свою «Зеленую милю».',\n",
       "   'description': 'Обвиненный в страшном преступлении, Джон Коффи оказывается в блоке смертников тюрьмы «Холодная гора». Вновь прибывший обладал поразительным ростом и был пугающе спокоен, что, впрочем, никак не влияло на отношение к нему начальника блока Пола Эджкомба, привыкшего исполнять приговор.\\r\\n\\r\\nГигант удивил всех позже, когда выяснилось, что он обладает невероятной магической силой… \\r\\n\\r\\n В 1999 году на экранах кинотеатров вышел фильм «Зеленая миля», зрителям обещали, что их ждет зрелище от создателей легендарного фильма «Побег из Шоушенка». «Миля» собрала хорошую кассу, получила положительные отклики зрителей и была номинирована на четыре премии «Оскар». В 2009 году этой картине исполнилось десять лет, но зрители все еще пересматривают шедевр режиссера Фрэнка Дарабонта : волнуются, грустят, возмущаются и конечно — же восхищаются бессмертной картиной!\\r\\n\\r\\n Я этот фильм каждый раз смотрю, как в первый раз и каждый раз восхищаюсь: как — же гармонично сочетаются грустное и прекрасное в этом шедевре! Не смотря на ужасные сцены казней и буйств заключенных, фильм оставляет очень приятное впечатление. Хоть хронометраж фильма очень долгий, целых три часа, от прекрасной игры актеров, блестящего сюжета и отличной режиссуры нельзя оторваться!\\r\\n\\r\\n Роль руководителя казней Пола Эджекомба досталась Голливудскому актеру Тому Хэнксу, известного многим по картине «Форрест Гамп». Лучшей ролью Хэнкса многие считают роль, Форреста Гампа из уже упомянутой картины. Вопреки этому мнению, я считаю лучшей его ролью, именно роль Эджекомба ! По моему он довольно убедительно сыграл строгого, но все — же добродушного начальника блока тюрьмы «Холодная гора». \\r\\n\\r\\n Игра Майка Кларка Дункана, сыгравшего дружелюбного великана Джона Коффи  так и вовсе выше всяких похвал, ведь он переиграл всех остальных актеров принявших участие в создании этого фильма, я искренне переживал и грустил за его героя. Браво!\\r\\n\\r\\n Остальные актеры тоже поработали на отлично! Ныне покойный Майкл Джитер, многим известный по замечательному фильму «Мышиная охота», отлично играет французского преступника Эдуарда Деллекруа, который подружился с удивительным мышонком Мистером Джинглсом, восходящая звезда Голливуда Сэм Рокуэл блестяще играет психически больного заключенного, по имени «Дикий» Билл, ну а актер Даг Хатчисон превосходно играет мерзкого надзирателя «Перси Уитмора». \\r\\n\\r\\n «Зеленая миля» — очень глубокий, философский и грустный фильм. Тут нет ни экшена, ни драк, ни напыщенных спецэффектов, но посмотреть этот фильм должен каждый и каждый не останется равнодушным!\\r\\n\\r\\n 10 из 10, 100 из 100, 1000 из 1000… '},\n",
       "  {'kinopoiskId': 846459,\n",
       "   'type': 'NEGATIVE',\n",
       "   'date': '2010-04-28T07:56:00',\n",
       "   'positiveRating': 98,\n",
       "   'negativeRating': 680,\n",
       "   'author': 'НеверовВ',\n",
       "   'title': '2-е место? Не смешите мои носки!',\n",
       "   'description': 'Посмотрел, воспользовавшись рекомендациями, этот «Шедевр». Чуть не умер от скуки! Режиссер и команда, наверное, действовали по принципу, чем длиннее и слезливее, тем лучше. Молодцы, ничего не скажешь!\\r\\n\\r\\nЕсли мелодрамы рассчитаны на то, чтобы женщины рыдали, то тут, видимо, все хотели, чтобы зарыдали мужчины. Я не рыдал, правда. А вот выть хотелось. Одним словом — скучно! Ради интереса спросил у друзей мнение по поводу этого фильма и все сказали, что он не приятный и максимум для разового просмотра. Никто не отнёс его в разряд любимых.\\r\\n\\r\\nМне жаль людей, которые пересматривают его по нескольку раз. На Тома Хенкса смотреть тошно. Похоже, хорошо вжился в роль Фореста Гампа, теперь с таким лицом, не обезображенным интеллектом, играет во всех фильмах. Деревянный он какой-то. Не знаю, что великого все в нём нашли? Откровенно бесит его лицо «а-ля-мишка-гамми». Добренький такой охранничек. Ему бы продавца хот-догов играть, а не тюремного охранника в отделении смертников.\\r\\n\\r\\nЕдинственный правдоподобный персонаж в этой картине — это Перси (Даг Хатчисон). Да, он играет полнейшую сволочь, но, по крайней мере, показывает реальность гораздо больше остальных, задействованных в этом фильме. Смотрел только из-за рейтинга, теперь на него больше ориентироваться никогда не буду!\\r\\n\\r\\nСовет всем, кто эту «шедёвр» ещё не видел. Лучше посмотрите что-нибудь покороче и позрелищнее. Не стоить «Зелёная миля» того, чтобы отнять три с лишним часа Вашей жизни. Под конец, хочется отметить, что мое мнение имеет право на существование. Даже если это касается «всеми любимой» «Зелёной мили». Это мои ощущения после просмотра. На сайте полно отрицательных рецензий, гораздо резче и грубее моей, но только на другие фильмы.\\r\\n\\r\\nУ поклонников данного творения искренне прошу прощения. Не хотел никого обидеть. Это мнение субъективное. И, согласно ему, «Зелёную милю» в топку!\\r\\n\\r\\n0 из 10'},\n",
       "  {'kinopoiskId': 952266,\n",
       "   'type': 'NEGATIVE',\n",
       "   'date': '2010-08-11T14:00:00',\n",
       "   'positiveRating': 97,\n",
       "   'negativeRating': 649,\n",
       "   'author': 'Чёрный альпенист',\n",
       "   'title': 'Жизнь дерьмо и все мы сдохнем…',\n",
       "   'description': 'Именно такое ощущение у меня возникло после просмотра «Зеленой мили».\\r\\n\\r\\nОчень часто среди фильмов, рекомендованных к просмотру, «Зелёная миля» занимает стойкие позиции в числе лидеров. К недовольным зрителям автоматически приклеивается ярлык «глупого, недалекого, не разбирающегося в кино» человека. Просто дискриминация какая-то. На мой взгляд, данный фильм, как и любой другой, не лишён недостатков. И их не мало.\\r\\n\\r\\nВо-первых, это не реальность сюжета. В фильме, с претензией на «Великую драматичность», такая наивность просто не допустима. Показано тюремное отделение для заключённых смертников. Т. е. по здоровой логике — это самые опасные преступники, которые должны содержаться под усиленной охраной. А что мы видим здесь?\\r\\n\\r\\n1. Детсадовские полицейские — где нормальные тюремщики? Это что за воспитатели детского сада ясельной группы? Мне не нравится фильм «Побег из Шоушенка», но те охранники хотя бы реальны.\\r\\n\\r\\n2. Заключенные вызывают жалость, в большинстве — это очень усталые люди, у которых осталась последняя надежда — смерть…они больше походят на пациентов психиатрической больницы, нежели на безжалостных маньяков.\\r\\n\\r\\nСледующим пунктом является «Великая» мораль данного произведения.\\r\\n\\r\\n1. Законопослушные горожане — отцы города, матери семейств развлекаются тем, что, нарядившись, как для приема у Английской королевы приходят лицезреть казнь — а чем им бедолагам еще заниматься — Интернета-то в то время еще не было? Весьма странно, что на входе им не продают попкорн и пепси… А после «зрелища» они возвращаются домой, к привычной жизни, при этом не испытывая шока и отвращения от увиденного. И чем они отличаются от преступников, казнь которых приходят смотреть?\\r\\n\\r\\n2. Главный герой — такой весь правильный и положительный? Лицемер и трус! И чем, скажите на милость, он отличается от преступников, которых садит на электрический стул?\\r\\n\\r\\n3. Далее: вся дружная команда, взявшись за руки и что-то напевая, идут репетировать казнь. Интересно — для чего? Репетиция казни — это, вообще зачем? Складывается ощущение, что участники сего действа получают удовольствие, сравнимое по силе разве что с сексуальным оргазмом.\\r\\n\\r\\nВ чем мораль сего шедевра? В несовершенстве судебной системы? Или в том, что, своя рубашка ближе к телу? Я так и не поняла, ЧТО до зрителей хотели донести данным творением.\\r\\n\\r\\nК плюсам фильма, несомненно, относится актёрский состав, каждый на своём месте.\\r\\n\\r\\n  Майкл Кларк Дункан — великолепен, эта роль еще раз доказывает его многогранный талант.\\r\\n\\r\\n Том Хэнкс — ну что сказать, подходят ему такие роли — железная выдержка, абсолютное спокойствие — при любой ситуации ни один мускул не дрогнет, блистательное исполнение роли…\\r\\n\\r\\n Даг Хатчисон прекрасно справился с ролью Перси, надо отметить, что именно его персонаж из всего фильма — самый правдоподобный — именно таким представляется охранник блока смертников, а вовсе не слащавые добренькие охраннички, показанные в данном фильме, которые больше напоминают воспитателей детского сада.\\r\\n\\r\\nСовершенно не понятно, почему фильм, который пропагандирует жестокость, насилие, лицемерие и предательство находится в первой тройке лучших фильмов?\\r\\n\\r\\n\\r\\n\\r\\n1 из 10'},\n",
       "  {'kinopoiskId': 495516,\n",
       "   'type': 'POSITIVE',\n",
       "   'date': '2009-05-23T21:39:00',\n",
       "   'positiveRating': 94,\n",
       "   'negativeRating': 15,\n",
       "   'author': 'Scarabey',\n",
       "   'title': None,\n",
       "   'description': 'Про эту картину не написать невозможно…\\r\\n\\r\\nИзумительный фильм, трогает до слез… на полном серьезе. Я уже давно взрослый человек, и как до сегодняшнего дня не посмотрел это кино, понять не могу.\\r\\n\\r\\nОчень люблю фильмы с Хэнксом, он один из тех актеров, фильмы с которыми остаются в памяти навсегда. Можно много перечислять картины, где он снимался, но это определенно одна из лучших. Хэнкс действительно большой актер, с большой буквы.\\r\\n\\r\\nДэвид Морс (если кто помнит, играл майора в «Скале « с Кейджем и Коннери) открылся как совсем другой актер.\\r\\n\\r\\nХорошая, хоть и маленькая роль Бэрри Пеппера (главная роль в «Поле битвы-Земля», и роль снайпера в «Рядового Райана»).\\r\\n\\r\\nДаг Хатчинсон в роли Перси сыграл такую гниду-охранника, что просто временами хотелось в экран залезть и. .. Раздражал весь фильм… роль получилась на 100 %\\r\\n\\r\\nНу и, конечно, Майкл Кларк Дункан… нет слов. Сыграть умственно отсталого чернокожего громилу, с которым вряд ли кто-то захочет когда либо встретится в темном переулке (да и в светлом, думаю, тоже) настолько трогательно и реалистично…. БРАВО!\\r\\n\\r\\nМышонок дрессированный очень симпатичный.\\r\\n\\r\\nИ режиссер снял всего несколько фильмов, зато какие… среди этих фильмов «Зеленая миля» и «Побег из Шоушенка». Да и тандем вышел на славу. Браво Стивен Кинг!\\r\\n\\r\\nТри сюжетных линии, смертники, полицейские… и люди.\\r\\n\\r\\nБудьте людьми!\\r\\n\\r\\nШедевр, я не преувеличиваю. Сильнейший фильм.'},\n",
       "  {'kinopoiskId': 1730693,\n",
       "   'type': 'NEGATIVE',\n",
       "   'date': '2013-02-24T16:34:00',\n",
       "   'positiveRating': 88,\n",
       "   'negativeRating': 246,\n",
       "   'author': 'Ганзалес',\n",
       "   'title': 'Фильм о «добре»',\n",
       "   'description': 'Почему-то до сих пор не стояла галочка напротив «Зеленой мили», а ведь это один из лучших фильмов по мнению людей в России, да и во всем мире. Несколько раз садился за просмотр, но каждый раз так и не мог осилить занудное, неприлично растянутое начало и все-таки сделал это. \\r\\n\\r\\nПервое удивление и разочарование настигло, при первой же сцене волшебства, почему то всегда думал, что фильм будет глубокой драмой, а не сказочкой про белого бычка, но, как оказалось, ошибался. Фильму 14 лет, казалось бы не такой значительной срок, но уже сейчас он безнадежно стар, не в духе времени, неестественный, по-детски наивный и наигранный. И дело вовсе не в сказочности. Форма повествования, используемая в ленте, по большей части присуща фильмам для детей, но темы затронутые в фильме далеко не детские. Четкое, я бы даже сказал приторное деление на черное и белое — оно проявляется буквально во всем. Достаточно лишь взглянуть на очередного персонажа и сразу становится понятно — этот дядя добрый, а вот этот злой. Показалось, что хотели снять фильм, который будет предельно понятен абсолютно каждому человеку, независимо от умственного развития, и по всей видимости это удалось.\\r\\n\\r\\nДа, фильм учит добру, но как-то субъективно, так как хочет это видеть режиссер. Ярчайшая нелепица и неадекватность в фильме, это история Перси. За что!? За что с Перси то так? Ну да, не самый лучший представитель человечества — труслив, надменен и т. д. и т. п. Ок, будем считать остальных святыми, а Перси только за это уже плохим. Но не уж то, это может стать поводом сделать его овощем и убийцей? Конечно же нет. Поступили с ним так, за то что он мышонка раздавил, да казнил заключенного, приговоренного к смертной казни, милого старичка француза. Делакро — божий одуванчик, не понятно, и за что только такая душка могла оказаться в камере смертников. Эта история меня поставила в тупик. Казалось бы весь фильм пропитан добротой и любовью, а тут такое… \\r\\n\\r\\nК чему фильм растянут на 3 часа, зачем нужны эти заунывные сцены с домом престарелых? Может быть, чтобы дедушка на камеру разжевал, как для детей даунов, почему мышка до сих пор живет и вышибить очередную слезу из зрителя? Это уже потом задумываешься, почему Коффи всех лечил ртом, а Эджкомба рукой. Почему когда Мелинда Мурс, после чудесного исцеления, передавала здоровяку медальон на тонкой женской цепочке, не сказала пусть он тебя защищает… как меня. Вопросов много, но главный для меня остается открытым: за какие такие заслуги фильм находится на втором месте в рейтинге, не за Хенкса же?'},\n",
       "  {'kinopoiskId': 852952,\n",
       "   'type': 'NEGATIVE',\n",
       "   'date': '2010-05-05T12:33:00',\n",
       "   'positiveRating': 84,\n",
       "   'negativeRating': 648,\n",
       "   'author': 'mister47',\n",
       "   'title': 'Иногда Зеленая миля кажется такой длинной и такой нудной…',\n",
       "   'description': 'Слишком затянутый и нудный фильм. Смотрел пару раз в детстве, ну и посмотрел перед тем, как написать рецензию, ну не возможно его смотреть чаще. Депрессивный фильм одним словом.\\r\\n\\r\\nИ это шедевр?\\r\\n\\r\\nДебильный негр который постоянно плачет, мухи вылетающие изо рта, старик который хочет побыстрее умереть, вместо того чтобы жить, электрический стул — вообщем режиссер намешал такую кашу, что аж противно смотреть.\\r\\n\\r\\nЖестокость порождает жестокость\\r\\n\\r\\nА эти постоянные издевательства над Перси. Ещё в начале фильме показано, что это душевнобольной человек, и вместо того чтобы ему, помочь, над ним издеваются.\\r\\n\\r\\nСказка для взрослых, никогда не любил Кинга\\r\\n\\r\\nОтдельно нужно сказать о заключенном Джоне Коффи. Одних он лечит, а других проклинает и пускает мух в рот. Так и не понял что означали эти мухи в фильме болезни, проклятье или вообще что? Разве за это можно любить?\\r\\n\\r\\nКровь за кровь\\r\\n\\r\\nФрэнк Дарабонт хочет показать в этом фильме, давайте поможем всем хорошим людям, а плохих проклинаем и пусть попадут в псих лечебницу, или на электрическом стуле казним?!\\r\\n\\r\\nНе тратьте время и нервы, на эту сказку!\\r\\n\\r\\n4 из 10'},\n",
       "  {'kinopoiskId': 2233029,\n",
       "   'type': 'NEGATIVE',\n",
       "   'date': '2015-05-10T14:07:00',\n",
       "   'positiveRating': 81,\n",
       "   'negativeRating': 202,\n",
       "   'author': 'Come On Closer',\n",
       "   'title': 'полтора расистских километра',\n",
       "   'description': 'Фактически фильм начинается с момента, когда Том Хэнкс драматично и трагично отливает битым стеклом в унитаз, когда в этот же самый момент в блок смертников, которым управляет именно Том Хэнкс, привозят огромного афроамериканца, который то ли изнасиловал и убил, то ли убил и изнасиловал двух маленьких девочек, папашей которым пришёлся Клаус Сэдлер, исправно играющий деревенщину из фильма в фильм, лишь периодически пополняя свой арсенал новыми образами различного деревенского быдла, благо он не на первых ролях, а потому не всё так плохо. \\r\\n\\r\\nНе всё так плохо, пока вы идёте по миле, идёте по миле, по зелёной миле, намеренно выкрашенной в зелёный цвет, чтобы быть похожей на траву, и вы действительно идёте по мягкой траве, ваши шаги отдаются глухим эхом по дороге в свой личный рай. А потом через вас пропустят электрический ток, и вы умрёте.\\r\\n\\r\\nНе всё так плохо, потому что на второстепенных ролях Дэвид Морс и Барри Пеппер, которые, если честно, особо и не играли, потому как по сценарию им прописано делать добрые глаза и пару раз всплакнуть, а потому никакого Станиславского ждать не приходится. Не приходится ждать Станиславского и от Тома Хэнкса, который, являясь весьма успешным актёром, отличается удивительно аморфной мимикой, но и не менее удивительным талантом выбирать удачные проекты и роли, благодаря чему у его ног почти весь мир, почти — за исключением тех, кто таки не является поклонником вторых подбородков, драматично свисающих под каплями не дождя, но пота. Вот и в «Зелёной миле» набор эмоций тот же, с той лишь оговоркой, что на сей раз Том Хэнкс не настолько туповат, как в Форресте и не настолько голубознателен, как в «Филадельфии», на как-то погулял слегонца и закапало с конца.\\r\\n\\r\\nВашего мыша отправят в крысоленд, устроят на должность менеджера по продажам, а потому вы можете ступать с миром в сердце и покоем на душе, ваш последний путь по зелёной миле будет умиротворенным и спокойным, наверное именно таким, как вы мечтали. А потом через ваше тело пропустят электрический ток и вы… нет, не умрёте, потому что один очаровательный дурачок намеренно забудет о важной процедуре и вы издохните в мучениях, как бешеный шакал.\\r\\n\\r\\nСюжет, основная суть которого может легко уместиться в одном абзаце, удивительным проебражением растянулся на целых три часа, наполнив себя множеством деталей разной степени ненужности, вроде той беседы с адвокатом, которая содержит в себе интересную мыслю, но мыслю, не имеющую никакого отношения к развитию сюжета. Быть может всё это житейские хитрости, без которых никак нельзя обойтись, но урежь фильм хотя бы до двух часов и уже было бы лучше, потому как снято кино действительно здорово, а съёмками заведовал горячий друг Стивена Кинга — Фрэнк Дарабонт, друг настолько горячий, что быть может горбатая гора не настолько горбатая в сравнении с дружбой этой парочки, которые на парочку заштамповали два лучших фильма в истории всевво по мнению пользователей фильморозыска.\\r\\n\\r\\nДобрые надзиратели проводят через смертников электрический ток, перед этим устраивая презентации мыша и просмотры прона, одновременно тщательно репетируя казнь каждого из заключённых, тем самым спасая себя от угрызений совести перед смертниками, которые все как на подбор, за исключением Дикого Билла, ангелы и философы, попавшие за решётку, да ещё и в камеру смертников, по случайности. Но всё это мелочи и глупо придираться к ним, потому как автору виднее: удивляет лишь то, что Джон Коффи в благодарности за исцеление-спасение-развлечение получил тот же предсмертный презент, что и остальные, а надзиратели лишь драматично заключили, что помогли ему убить себя, потому как на дворе великая депрессия, чудо света — чудом света, а работу отыскать непросто, а потому отправляйся и ты, большой добрый негр туда, где запрещены спойлеры, за то, что не успел помочь.\\r\\n\\r\\nЦинично прозванный старушкой искрой (жалко, что не старушка-убивашка) электрический стул станет твоим проводником в мир иной, а толпа зевак в главе с родителями убиенных девочек — группой поддержки, а потом через твоё тело пропустят электрический ток.\\r\\n\\r\\nЕсли фильму и удалось чему меня научить, так учителем оказался Дикий Билл, который ясно давал понять, что нет смысла жить по условным моралям, на которые всем на самом деле наплевать, когда до судного дня остаются часы, ведь даже ожидание смерти, как оказалось, можно превратить в увлекательное и весёлое шоу, и если бы не дурачок Перси, то быть может, случилось бы чудо и амнистия за отличное поведение. А остальные морали и смыслы не имеют шансов открыть чего-то нового, потому что помощь в убивании самих себя происходит регулярно и ни одна из служб помощи не работает настолько отлажено, как эта. И нет никакого таланта, нет никакой романтики и поэзии в том, чтобы рассказывать об этом на протяжении трёх часов, драматично и нудно, размазывая сопли и слёзы по загорелой лысине Джона Коффи.\\r\\n\\r\\nСтивен Кинг как-то писал, что 95% людей не Земле — инертная масса, 1% — святые, 1% непроходимые кретины, оставшиеся 3% — гении или что близкое к оным. И если заняться математикой, то отрицательных отзывов на «милю» примерно 5%, среди которых есть святые, кретины и да, именно гении, но если я вполне заслуженно причисляю себя к лику святых непроходимых кретинов, то к остальным стоит присмотреться.\\r\\n\\r\\nВ конце концов, всё рано или поздно кончается, и если вы искренне раскаиваетесь в своих грехах, вы можете вернуться в то время, которое было самым счастливым для вас и остаться там навсегда. Может это и есть рай? Так или иначе, для начала через вас пропустят электрический ток и вы умрёте.\\r\\n\\r\\nПустить ток.'},\n",
       "  {'kinopoiskId': 2159307,\n",
       "   'type': 'NEGATIVE',\n",
       "   'date': '2014-12-20T21:32:00',\n",
       "   'positiveRating': 81,\n",
       "   'negativeRating': 204,\n",
       "   'author': 'Гаяне Мерсонян',\n",
       "   'title': 'Абсурд',\n",
       "   'description': 'Фильм не оправдал ожиданий. Сюжет — абсурден, он не трогает в силу своей неправдоподобности, и тонны сентиментальных моментов (те же ежеминутные суровые мужские слёзы) никак не спасают — с ними перебор.\\r\\n\\r\\nСразу бросается в глаза: герои — либо «Хорошие», либо «Плохие». Том Хэнкс играет типичного Хорошего Парня, его антагонист по сюжету, Перси, — ну просто Отъявленный Мерзавец, сущее зло, которому даже не дали шанса исправиться, а просто — очень по-христиански -«наказали». А кто вершитель расправы? Если закрыть глаза на впечатляющие цвет и размеры персонажа, это просто имбицил, существо, которое никак не проявило свою личность (есть ли она у него?), кроме использования «дара», непонятно за что данного. \\r\\n\\r\\nЧем обоснована такая фантастическая вставка — целительство некоего случайного тюремного заключенного? В чем СМЫСЛ сюжета, закрученного вокруг имбицила? Это как Емеля выловил говорящую щучку, так и на негра свалилась суперсила? Но пафос истории претендует выше, на общечеловеческие ценности. И в чем же тогда они здесь выражены? Где здесь героизм? Негра-то убили (ну, поплакали). Здесь опять «эффект Емели»: герою Тому Хэнкса вот так вот подвезло встретить «волшебного негра», подвезло получить от него «жизнь». Ну и что? Где хоть какая-то внутренняя работа персонажа? \\r\\n\\r\\nИ это не говоря, например, о страннейшей сцене исцеления женщины, которая тут же бросается на шею негру, который ей якобы снился. Муженек её тоже как-то смирился с тем, что его коллеги решили посетить его хлебный дом ночью с ружьями и заключенным — и почти молча наблюдал.\\r\\n\\r\\nВ общем, несколько бредовый сюжет, приторные персонажи и школьные, натянутые рассуждения о добре и зле.\\r\\n\\r\\n4 из 10'},\n",
       "  {'kinopoiskId': 1587718,\n",
       "   'type': 'NEGATIVE',\n",
       "   'date': '2012-08-10T03:07:00',\n",
       "   'positiveRating': 80,\n",
       "   'negativeRating': 270,\n",
       "   'author': 'slexo',\n",
       "   'title': 'Все массовое — всегда чрезвычайно прямолинейно.',\n",
       "   'description': 'Честно сказать, когда начинаешь смотреть фильм стоящий на втором месте в списке лучших фильмов, ожидаешь чего то невероятного, чего то захватывающего, трогающего в самое сердце. И поэтому когда твои ожидания не оправдываются начинаешь думать что ты сам вероятно ошибся, что чего то не понял. Но внимательно проанализировав ситуацию, понимаешь что приняв непопулярную точку зрения, ты остаешься верен себе и своим ощущениям от фильма.\\r\\n\\r\\n Самое главное что смущает в фильме — это очень малое количество событий при большой длительности фильма. Долгие диалоги, инсценировка казни, разговоры Хенкса со своей женой, всё это сильно убивает какую либо динамику. \\r\\n\\r\\n Второй важный момент — фильм до ужаса прямолинеен. Смотришь и ждешь что вот вот произойдет что-то неожиданное, но этого не происходит. И вот почему. Все актеры строго разделены на две категории хороший/плохой. Все сюжетные повороты предсказуемы и растянуты, а моменты которые должны вызывать тот самый драматизм банальны до крайности. Взять к примеру эпизоды с мышью, которые по идее создателя должны вызывать чувство умиления, но они не вызывают ничего, потому что подобные простейшие эмоциональные рычаги можно усмотреть в любом американском фильме, даже не вспоминая о сериалах, которые полностью на этом построены. Видя всю эту простоту, чрезвычайно трудно все 3 часа фильма поддерживать один эмоциональный фон в котором все так просто и очень однозначно, добро всегда побеждает зло, зло всегда ничтожно и пакостно. За каждым поворотом фильма чувствуется какой то очередной заезженный штамп или нереалистичная модель поведения поверить в который очередной раз трудно. Пожалуй простота и прямолинейность это отличительная черта фильмов Френка Дарабонта.\\r\\n\\r\\n Действительно что понравилось — это Сэм Рокуэлл который своими выходками действительно вызывал эмоции и нагнетал какую то излишне мягкую, как в детском\\r\\n\\r\\nсаду, атмосферу корпуса для смертников «Зеленая миля». За счет него и ставлю оценку\\r\\n\\r\\n 5 из 10'}]}"
      ]
     },
     "execution_count": 27,
     "metadata": {},
     "output_type": "execute_result"
    }
   ],
   "source": [
    "data = get_film_review(435)\n",
    "data"
   ]
  },
  {
   "cell_type": "code",
   "execution_count": 30,
   "metadata": {},
   "outputs": [
    {
     "data": {
      "text/plain": [
       "20"
      ]
     },
     "execution_count": 30,
     "metadata": {},
     "output_type": "execute_result"
    }
   ],
   "source": [
    "len(data[\"items\"])"
   ]
  },
  {
   "cell_type": "code",
   "execution_count": 52,
   "metadata": {},
   "outputs": [
    {
     "data": {
      "text/plain": [
       "'«Они помогли ему убить себя и так происходит каждый день во всем мире»…\\r\\n\\r\\nФильм, который я могу смело назвать шедевром. Фильм, который длится три часа и которые пролетают незаметно. Фильм, который смотрится каждый раз как в первый. Фильм, который нельзя забыть и которым нельзя не проникнуться. Фильм, котрый заставляет задуматься о жизни, которую мы тратим на пустяки, теша себя иллюзией бессмертия, о смерти, которая не щадит никого.\\r\\n\\r\\nФильм о зле, которое не всегда наказуемо и о добре, которое подчас бессильно что-либо изменить. И тебе остается лишь смотреть на то, как вершится суд, над тем кто не должен сидеть на скамье подсудимых. \\r\\n\\r\\nФильм, который изменил мое мировоззрение и научил по-другому относиться к жизни.\\r\\n\\r\\n10 из 10'"
      ]
     },
     "execution_count": 52,
     "metadata": {},
     "output_type": "execute_result"
    }
   ],
   "source": [
    "items = data[\"items\"]\n",
    "items[0][\"description\"]"
   ]
  },
  {
   "cell_type": "code",
   "execution_count": 25,
   "metadata": {},
   "outputs": [
    {
     "data": {
      "text/plain": [
       "{'kinopoiskId': 435,\n",
       " 'imdbId': 'tt0120689',\n",
       " 'nameRu': 'Зеленая миля',\n",
       " 'nameEn': None,\n",
       " 'nameOriginal': 'The Green Mile',\n",
       " 'posterUrl': 'https://kinopoiskapiunofficial.tech/images/posters/kp/435.jpg',\n",
       " 'posterUrlPreview': 'https://kinopoiskapiunofficial.tech/images/posters/kp_small/435.jpg',\n",
       " 'coverUrl': 'https://avatars.mds.yandex.net/get-ott/224348/2a00000169e39ef77f588ccdfe574dae8227/orig',\n",
       " 'logoUrl': 'https://avatars.mds.yandex.net/get-ott/239697/2a0000016f12f1eb8870b609ee94313774b2/orig',\n",
       " 'reviewsCount': 474,\n",
       " 'ratingGoodReview': 93.2,\n",
       " 'ratingGoodReviewVoteCount': 421,\n",
       " 'ratingKinopoisk': 9.1,\n",
       " 'ratingKinopoiskVoteCount': 813305,\n",
       " 'ratingImdb': 8.6,\n",
       " 'ratingImdbVoteCount': 1287059,\n",
       " 'ratingFilmCritics': 6.8,\n",
       " 'ratingFilmCriticsVoteCount': 136,\n",
       " 'ratingAwait': None,\n",
       " 'ratingAwaitCount': 0,\n",
       " 'ratingRfCritics': None,\n",
       " 'ratingRfCriticsVoteCount': 1,\n",
       " 'webUrl': 'https://www.kinopoisk.ru/film/435/',\n",
       " 'year': 1999,\n",
       " 'filmLength': 189,\n",
       " 'slogan': 'Пол Эджкомб не верил в чудеса. Пока не столкнулся с одним из них',\n",
       " 'description': 'Пол Эджкомб\\xa0—\\xa0начальник блока смертников в\\xa0тюрьме «Холодная гора», каждый из\\xa0узников которого однажды проходит «зеленую милю» по\\xa0пути к\\xa0месту казни. Пол\\xa0повидал много заключённых и\\xa0надзирателей за\\xa0время работы. Однако гигант Джон Коффи, обвинённый в\\xa0страшном преступлении, стал одним из\\xa0самых необычных обитателей блока.',\n",
       " 'shortDescription': 'В тюрьме для смертников появляется заключенный с божественным даром. Мистическая драма по роману Стивена Кинга',\n",
       " 'editorAnnotation': None,\n",
       " 'isTicketsAvailable': False,\n",
       " 'productionStatus': None,\n",
       " 'type': 'FILM',\n",
       " 'ratingMpaa': 'r',\n",
       " 'ratingAgeLimits': 'age16',\n",
       " 'countries': [{'country': 'США'}],\n",
       " 'genres': [{'genre': 'драма'}, {'genre': 'криминал'}],\n",
       " 'startYear': None,\n",
       " 'endYear': None,\n",
       " 'serial': False,\n",
       " 'shortFilm': False,\n",
       " 'completed': False,\n",
       " 'hasImax': False,\n",
       " 'has3D': False,\n",
       " 'lastSync': '2022-10-14T10:38:02.852419'}"
      ]
     },
     "execution_count": 25,
     "metadata": {},
     "output_type": "execute_result"
    }
   ],
   "source": [
    "get_film(435)"
   ]
  }
 ],
 "metadata": {
  "kernelspec": {
   "display_name": "Python 3",
   "language": "python",
   "name": "python3"
  },
  "language_info": {
   "codemirror_mode": {
    "name": "ipython",
    "version": 3
   },
   "file_extension": ".py",
   "mimetype": "text/x-python",
   "name": "python",
   "nbconvert_exporter": "python",
   "pygments_lexer": "ipython3",
   "version": "3.9.6 (tags/v3.9.6:db3ff76, Jun 28 2021, 15:26:21) [MSC v.1929 64 bit (AMD64)]"
  },
  "orig_nbformat": 4,
  "vscode": {
   "interpreter": {
    "hash": "40781bf8e853aea4153cfe469b7d51a8cbe9b1fee1f3ae299e5c93a9c6390606"
   }
  }
 },
 "nbformat": 4,
 "nbformat_minor": 2
}
