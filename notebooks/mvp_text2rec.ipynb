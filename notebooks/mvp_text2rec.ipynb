{
  "cells": [
    {
      "cell_type": "code",
      "execution_count": null,
      "metadata": {
        "id": "KreuaruuHVb6"
      },
      "outputs": [],
      "source": [
        "from google.colab import drive\n",
        "drive.mount('/content/drive')"
      ]
    },
    {
      "cell_type": "code",
      "execution_count": null,
      "metadata": {
        "id": "kUuRDsq5U_qd"
      },
      "outputs": [],
      "source": [
        "!pip install gradio\n",
        "!pip install nmslib\n",
        "!pip install sentence_transformers\n",
        "# !pip install googletrans==4.0.0-rc1\n",
        "!pip install -U deep-translator"
      ]
    },
    {
      "cell_type": "code",
      "execution_count": null,
      "metadata": {
        "id": "HUH8NQeBEMLp"
      },
      "outputs": [],
      "source": [
        "import random\n",
        "import gradio as gr\n",
        "import re\n",
        "import argparse\n",
        "import pandas as pd\n",
        "import string\n",
        "import secrets\n",
        "import torch\n",
        "import nmslib\n",
        "\n",
        "from typing import List\n",
        "from sentence_transformers import SentenceTransformer\n",
        "# from googletrans import Translator\n",
        "from deep_translator import GoogleTranslator"
      ]
    },
    {
      "cell_type": "code",
      "source": [
        "data_path = '/content/drive/MyDrive/text2rec/top_250_mvp.csv'\n",
        "img_path = '/content/drive/MyDrive/text2rec_imgs/'\n",
        "logs_path = \"/content/drive/MyDrive/logs_text2rec\""
      ],
      "metadata": {
        "id": "4QHgF-QFfnwA"
      },
      "execution_count": null,
      "outputs": []
    },
    {
      "cell_type": "code",
      "execution_count": null,
      "metadata": {
        "id": "eo15BVRtjAZV"
      },
      "outputs": [],
      "source": [
        "def regex_for_query_without_quotes(name, suffix = \"ы\"):\n",
        "    if suffix != \"\": suffix += \"?\"\n",
        "    return f\"{name}{suffix}:([\\w,.]+)\"\n",
        "\n",
        "\n",
        "def regex_for_query_with_quotes(name, suffix = \"ы\"):\n",
        "    if suffix != \"\": suffix += \"?\"\n",
        "    return f\"{name}{suffix}:'([\\w,. ]+)'\""
      ]
    },
    {
      "cell_type": "code",
      "execution_count": null,
      "metadata": {
        "id": "qtrC6ySVjLg_"
      },
      "outputs": [],
      "source": [
        "class Handler:\n",
        "    def __init__(self, column_name, value_type=str):\n",
        "        self.column_name = column_name\n",
        "        self.value_type = value_type\n",
        "\n",
        "    def __call__(self, df: pd.DataFrame, query: str):\n",
        "        raise NotImplementedError()\n",
        "\n",
        "\n",
        "class ComplexHandler(Handler):\n",
        "    def __init__(self, field_name, column_name, pred, cast_to_type=str, **kwargs):\n",
        "        super().__init__(column_name, cast_to_type)\n",
        "        pattern = regex_for_query_without_quotes(field_name, **kwargs)\n",
        "        pattern_with_quotes = regex_for_query_with_quotes(field_name, **kwargs)\n",
        "        self.regex = re.compile(pattern)\n",
        "        self.regex_with_quotes = re.compile(pattern_with_quotes)\n",
        "        self.pred = pred\n",
        "        \n",
        "    def __call__(self, df: pd.DataFrame, query: str):\n",
        "        search_match = self.regex.search(query)\n",
        "        search_match_with_quotes = self.regex_with_quotes.search(query)\n",
        "        if search_match is None and search_match_with_quotes is None: \n",
        "            return df, query\n",
        "        column = df[self.column_name]\n",
        "        correct_match = search_match if search_match is not None else search_match_with_quotes\n",
        "        filtered_query = query.replace(correct_match.group(), \"\")\n",
        "        first_result: str = correct_match.group(1)\n",
        "        first_result = first_result.split(',')\n",
        "        result = pd.Series([True for _ in range(column.size)], index=column.index)\n",
        "        try:\n",
        "            for value in first_result:\n",
        "                value = self.value_type(value)\n",
        "                result &= self.pred(column, value)\n",
        "        except:\n",
        "            return df, filtered_query\n",
        "        return df[result], filtered_query"
      ]
    },
    {
      "cell_type": "code",
      "execution_count": null,
      "metadata": {
        "id": "5DliORTojOGw"
      },
      "outputs": [],
      "source": [
        "class Pipeline:\n",
        "    def __init__(self, handlers: List[Handler]):\n",
        "        self.handlers = handlers\n",
        "\n",
        "    def __call__(self, df, query):\n",
        "        for handler in self.handlers:\n",
        "            df, query = handler(df, query)\n",
        "        return df, query\n",
        "\n",
        "\n",
        "def val_in_column(column: pd.Series, value: str):\n",
        "    return column.str.contains(value)"
      ]
    },
    {
      "cell_type": "code",
      "execution_count": null,
      "metadata": {
        "id": "NyGLYRXyep6k"
      },
      "outputs": [],
      "source": [
        "# Set up\n",
        "df = pd.read_csv(data_path)\n",
        "\n",
        "device = \"cuda:0\" if torch.cuda.is_available() else \"cpu\"\n",
        "all_mpnet_base_v2 = SentenceTransformer('sentence-transformers/all-mpnet-base-v2')\n",
        "all_mpnet_base_v2 = all_mpnet_base_v2.to(device)\n",
        "\n",
        "default_embs_en = all_mpnet_base_v2.encode(df['description'].to_list())\n",
        "\n",
        "index = nmslib.init(method='hnsw', space='cosinesimil')\n",
        "index.addDataPointBatch(default_embs_en)\n",
        "index.createIndex({'post': 2}, print_progress=True)\n",
        "\n",
        "# translator = Translator()\n",
        "translator = GoogleTranslator(source='ru', target='en')"
      ]
    },
    {
      "cell_type": "code",
      "source": [
        "def prep_data(query: str):\n",
        "    global df\n",
        "    year_handler     = ComplexHandler(\"год\",      \"Year\",      lambda c, v: c == v, int)\n",
        "    director_handler = ComplexHandler(\"режиссер\", \"Director\",  val_in_column)\n",
        "    genre_handler    = ComplexHandler(\"жанр\",     \"Genres\",    val_in_column)\n",
        "    actor_handler    = ComplexHandler(\"актер\",    \"Actors\",    val_in_column)\n",
        "    country_handler  = ComplexHandler(\"страна\",   \"Countries\", val_in_column)\n",
        "    rating_handler   = ComplexHandler(\"рейтинг\",  \"Rating\",    lambda c, v: c >= v, float)\n",
        "\n",
        "    pipeline = Pipeline([\n",
        "        rating_handler, year_handler, director_handler, \n",
        "        genre_handler, actor_handler, country_handler\n",
        "    ])\n",
        "\n",
        "    filtered_df, query = pipeline(df, query)\n",
        "    return filtered_df, query"
      ],
      "metadata": {
        "id": "Fd5DOV6adwjz"
      },
      "execution_count": null,
      "outputs": []
    },
    {
      "cell_type": "code",
      "source": [
        "def get_films(data, query: str, films, k: int):\n",
        "    global df\n",
        "    res = data.groupby(by=['FilmId']).max().sort_values('Rating', ascending=False)\n",
        "    res = res.iloc[:k].reset_index()\n",
        "    ids = res.FilmId.values.tolist()\n",
        "    films.extend(ids)\n",
        "    res = res.Title.values.tolist()\n",
        "    if len(res) < k:\n",
        "        res.extend(get_similar(df, query, films, k-len(res)))\n",
        "    return res"
      ],
      "metadata": {
        "id": "dYOLERh9eGKX"
      },
      "execution_count": null,
      "outputs": []
    },
    {
      "cell_type": "code",
      "execution_count": null,
      "metadata": {
        "id": "AM27hm4NITgg"
      },
      "outputs": [],
      "source": [
        "def get_similar(data, query: str, films, k: int):\n",
        "    global df\n",
        "    query_en = translator.translate(query)\n",
        "    query_emb_en = all_mpnet_base_v2.encode(query_en)\n",
        "    ids = data.index\n",
        "    data['sim'] = (default_embs_en[ids] @ query_emb_en.T).flatten('F')\n",
        "    res = data.groupby(by=['FilmId']).max().sort_values('sim', ascending=False)\n",
        "    res = res.iloc[:k].reset_index()\n",
        "    ids = res.FilmId.values.tolist()\n",
        "    films.extend(ids)\n",
        "    res = res.Title.values.tolist()\n",
        "    if len(res) < k:\n",
        "        res.extend(get_similar(df, query, films, k-len(res)))\n",
        "    return res"
      ]
    },
    {
      "cell_type": "code",
      "execution_count": null,
      "metadata": {
        "id": "n3Ur7_6jEMJq"
      },
      "outputs": [],
      "source": [
        "def get_recs(full_query: str, img_paths, k: int = 10) -> List[str]:\n",
        "    filtered_df, query = prep_data(full_query)\n",
        "    if query == ' ':\n",
        "        result = get_films(filtered_df, full_query, img_paths, k)\n",
        "    else:\n",
        "        result = get_similar(filtered_df, query, img_paths, k)\n",
        "    return result\n",
        "\n",
        "def get_imgs(films):\n",
        "    return [img_path + f'{id}.jpg' for id in films[-10:]]"
      ]
    },
    {
      "cell_type": "code",
      "execution_count": null,
      "metadata": {
        "id": "oe09wM1JM9yp"
      },
      "outputs": [],
      "source": [
        "description = '# Проект Text2Rec\\n \\\n",
        "Сервис предоставляет возможность поиска фильмов по произвольному запросу. \\\n",
        "Запрос можно уточнить информацией о фильме: год, режиссер, жанр, актер, страна, рейтинг. \\n\\n\\\n",
        "Примеры запросов:  \\n \\\n",
        "\"жанр:приключения страна:США актер:\\'Джонни Депп\\'\";  \\n \\\n",
        "\"жанр:приключения фильмы с животными\";  \\n \\\n",
        "\"фильм где у мужика плохо росла кукуруза и он полетел в черную дыру\";  \\n \\\n",
        "\"Фильмы про путешествия во времени\" \\n\\n \\\n",
        "Пожалуйста, оцените релевантность выдачи(Релевантно/Не релевантно), \\\n",
        "это поможет улучшить работу алгоритма.'"
      ]
    },
    {
      "cell_type": "code",
      "source": [
        "def get_id():\n",
        "    global session_id\n",
        "    alphabet = string.ascii_letters + string.digits\n",
        "    session_id = ''.join(secrets.choice(alphabet) for i in range(10))"
      ],
      "metadata": {
        "id": "NkSd4uN35hxK"
      },
      "execution_count": null,
      "outputs": []
    },
    {
      "cell_type": "code",
      "source": [
        "def reset_radio():\n",
        "    return 10*[gr.Radio.update(choices=['Релевантно', 'Не релевантно'], value=[])]"
      ],
      "metadata": {
        "id": "5o1AKJxMZOrw"
      },
      "execution_count": null,
      "outputs": []
    },
    {
      "cell_type": "code",
      "execution_count": null,
      "metadata": {
        "id": "_iW4kK0EU1ya"
      },
      "outputs": [],
      "source": [
        "session_id = None\n",
        "callback = gr.CSVLogger()\n",
        "\n",
        "with gr.Blocks() as demo:\n",
        "    films = gr.State([])\n",
        "    gr.Markdown(description)\n",
        "    query = gr.Textbox(label=\"Запрос\")\n",
        "    search_btn = gr.Button(\"Поиск\")\n",
        "    with gr.Row():\n",
        "        with gr.Column():\n",
        "            img1 = gr.Image(show_label=False, shape=(150, 210))\n",
        "            name1 = gr.Text(show_label=False, interactive=False)\n",
        "            like1 = gr.Radio(show_label=False, value=None, choices=['Релевантно', 'Не релевантно'])\n",
        "        with gr.Column():\n",
        "            img2 = gr.Image(show_label=False, shape=(150, 210))\n",
        "            name2 = gr.Text(show_label=False, interactive=False)\n",
        "            like2 = gr.Radio(show_label=False, value=None, choices=['Релевантно', 'Не релевантно'])\n",
        "        with gr.Column():\n",
        "            img3 = gr.Image(show_label=False, shape=(150, 210))\n",
        "            name3 = gr.Text(show_label=False, interactive=False)\n",
        "            like3 = gr.Radio(show_label=False, value=None, choices=['Релевантно', 'Не релевантно'])\n",
        "        with gr.Column():\n",
        "            img4 = gr.Image(show_label=False, shape=(150, 210))\n",
        "            name4 = gr.Text(show_label=False, interactive=False)\n",
        "            like4 = gr.Radio(show_label=False, value=None, choices=['Релевантно', 'Не релевантно'])\n",
        "    with gr.Row():\n",
        "        with gr.Column():\n",
        "            img5 = gr.Image(show_label=False, shape=(150, 210))\n",
        "            name5 = gr.Text(show_label=False, interactive=False)\n",
        "            like5 = gr.Radio(show_label=False, value=None, choices=['Релевантно', 'Не релевантно'])\n",
        "        with gr.Column():\n",
        "            img6 = gr.Image(show_label=False, shape=(150, 210))\n",
        "            name6 = gr.Text(show_label=False, interactive=False)\n",
        "            like6 = gr.Radio(show_label=False, value=None, choices=['Релевантно', 'Не релевантно'])\n",
        "        with gr.Column():\n",
        "            img7 = gr.Image(show_label=False, shape=(150, 210))\n",
        "            name7 = gr.Text(show_label=False, interactive=False)\n",
        "            like7 = gr.Radio(show_label=False, value=None, choices=['Релевантно', 'Не релевантно'])\n",
        "        with gr.Column():\n",
        "            img8 = gr.Image(show_label=False, shape=(150, 210))\n",
        "            name8 = gr.Text(show_label=False, interactive=False)\n",
        "            like8 = gr.Radio(show_label=False, value=None, choices=['Релевантно', 'Не релевантно'])\n",
        "    with gr.Row():\n",
        "        with gr.Column():\n",
        "            pass\n",
        "        with gr.Column():\n",
        "            img9 = gr.Image(show_label=False, shape=(150, 210))\n",
        "            name9 = gr.Text(show_label=False, interactive=False)\n",
        "            like9 = gr.Radio(show_label=False, value=None, choices=['Релевантно', 'Не релевантно'])\n",
        "        with gr.Column():\n",
        "            img10 = gr.Image(show_label=False, shape=(150, 210))\n",
        "            name10 = gr.Text(show_label=False, interactive=False)\n",
        "            like10 = gr.Radio(show_label=False, value=None, choices=['Релевантно', 'Не релевантно'])\n",
        "        with gr.Column():\n",
        "            pass\n",
        "\n",
        "    name_list = [name1, name2, name3, name4, name5, name6, name7, name8, name9, name10]\n",
        "    img_list = [img1, img2, img3, img4, img5, img6, img7, img8, img9, img10]\n",
        "    like_list = [like1, like2, like3, like4, like5, like6, like7, like8, like9, like10]\n",
        "    callback.setup([query, *name_list, *like_list], logs_path)\n",
        "\n",
        "    search_btn.click(fn=get_id, inputs=None, outputs=None)\n",
        "    search_btn.click(lambda *args: callback.flag(args, username=session_id), [query, *name_list, *like_list], None, preprocess=False)\n",
        "    search_btn.click(fn=get_recs, inputs=[query, films], outputs=name_list)\n",
        "    search_btn.click(fn=get_imgs, inputs=films, outputs=img_list)\n",
        "    search_btn.click(fn=reset_radio, inputs=None, outputs=like_list)"
      ]
    },
    {
      "cell_type": "code",
      "execution_count": null,
      "metadata": {
        "id": "BC5Tr67XVGad"
      },
      "outputs": [],
      "source": [
        "demo.queue(concurrency_count=4)\n",
        "demo.launch(share=True)"
      ]
    },
    {
      "cell_type": "code",
      "execution_count": 27,
      "metadata": {
        "colab": {
          "base_uri": "https://localhost:8080/"
        },
        "id": "quIwY5QuMF1_",
        "outputId": "a8b8e875-ee34-4c5a-8e1f-50c06652774f"
      },
      "outputs": [
        {
          "output_type": "stream",
          "name": "stdout",
          "text": [
            "Closing server running on port: 7860\n"
          ]
        }
      ],
      "source": [
        "demo.close()"
      ]
    },
    {
      "cell_type": "code",
      "execution_count": null,
      "metadata": {
        "id": "GEERmS0SfZi7"
      },
      "outputs": [],
      "source": [
        "data = pd.read_csv(logs_path + '/log.csv')\n",
        "data"
      ]
    }
  ],
  "metadata": {
    "colab": {
      "provenance": []
    },
    "kernelspec": {
      "display_name": "Python 3",
      "name": "python3"
    },
    "language_info": {
      "name": "python"
    },
    "accelerator": "GPU",
    "gpuClass": "standard"
  },
  "nbformat": 4,
  "nbformat_minor": 0
}