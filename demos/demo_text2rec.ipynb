{
  "nbformat": 4,
  "nbformat_minor": 0,
  "metadata": {
    "colab": {
      "provenance": [],
      "collapsed_sections": []
    },
    "kernelspec": {
      "name": "python3",
      "display_name": "Python 3"
    },
    "language_info": {
      "name": "python"
    }
  },
  "cells": [
    {
      "cell_type": "code",
      "source": [
        "from google.colab import drive\n",
        "drive.mount('/content/drive')"
      ],
      "metadata": {
        "colab": {
          "base_uri": "https://localhost:8080/"
        },
        "id": "KreuaruuHVb6",
        "outputId": "d50d909c-35e6-426d-89b1-8429c76b04db"
      },
      "execution_count": 1,
      "outputs": [
        {
          "output_type": "stream",
          "name": "stdout",
          "text": [
            "Mounted at /content/drive\n"
          ]
        }
      ]
    },
    {
      "cell_type": "code",
      "source": [
        "!pip install gradio\n",
        "!pip install fuzzywuzzy"
      ],
      "metadata": {
        "id": "kUuRDsq5U_qd",
        "colab": {
          "base_uri": "https://localhost:8080/"
        },
        "outputId": "bb229b5f-fe16-426e-915b-fd752a39953f"
      },
      "execution_count": 2,
      "outputs": [
        {
          "output_type": "stream",
          "name": "stdout",
          "text": [
            "Looking in indexes: https://pypi.org/simple, https://us-python.pkg.dev/colab-wheels/public/simple/\n",
            "Collecting gradio\n",
            "  Downloading gradio-3.9.1-py3-none-any.whl (11.6 MB)\n",
            "\u001b[K     |████████████████████████████████| 11.6 MB 7.5 MB/s \n",
            "\u001b[?25hRequirement already satisfied: pandas in /usr/local/lib/python3.7/dist-packages (from gradio) (1.3.5)\n",
            "Collecting python-multipart\n",
            "  Downloading python-multipart-0.0.5.tar.gz (32 kB)\n",
            "Requirement already satisfied: jinja2 in /usr/local/lib/python3.7/dist-packages (from gradio) (2.11.3)\n",
            "Requirement already satisfied: pillow in /usr/local/lib/python3.7/dist-packages (from gradio) (7.1.2)\n",
            "Requirement already satisfied: aiohttp in /usr/local/lib/python3.7/dist-packages (from gradio) (3.8.3)\n",
            "Collecting websockets>=10.0\n",
            "  Downloading websockets-10.4-cp37-cp37m-manylinux_2_5_x86_64.manylinux1_x86_64.manylinux_2_17_x86_64.manylinux2014_x86_64.whl (106 kB)\n",
            "\u001b[K     |████████████████████████████████| 106 kB 48.9 MB/s \n",
            "\u001b[?25hCollecting fastapi\n",
            "  Downloading fastapi-0.86.0-py3-none-any.whl (55 kB)\n",
            "\u001b[K     |████████████████████████████████| 55 kB 4.3 MB/s \n",
            "\u001b[?25hRequirement already satisfied: pydantic in /usr/local/lib/python3.7/dist-packages (from gradio) (1.10.2)\n",
            "Requirement already satisfied: pyyaml in /usr/local/lib/python3.7/dist-packages (from gradio) (6.0)\n",
            "Requirement already satisfied: numpy in /usr/local/lib/python3.7/dist-packages (from gradio) (1.21.6)\n",
            "Requirement already satisfied: fsspec in /usr/local/lib/python3.7/dist-packages (from gradio) (2022.10.0)\n",
            "Requirement already satisfied: matplotlib in /usr/local/lib/python3.7/dist-packages (from gradio) (3.2.2)\n",
            "Collecting pycryptodome\n",
            "  Downloading pycryptodome-3.15.0-cp35-abi3-manylinux2010_x86_64.whl (2.3 MB)\n",
            "\u001b[K     |████████████████████████████████| 2.3 MB 59.3 MB/s \n",
            "\u001b[?25hCollecting markdown-it-py[linkify,plugins]\n",
            "  Downloading markdown_it_py-2.1.0-py3-none-any.whl (84 kB)\n",
            "\u001b[K     |████████████████████████████████| 84 kB 3.7 MB/s \n",
            "\u001b[?25hCollecting uvicorn\n",
            "  Downloading uvicorn-0.19.0-py3-none-any.whl (56 kB)\n",
            "\u001b[K     |████████████████████████████████| 56 kB 4.8 MB/s \n",
            "\u001b[?25hCollecting h11<0.13,>=0.11\n",
            "  Downloading h11-0.12.0-py3-none-any.whl (54 kB)\n",
            "\u001b[K     |████████████████████████████████| 54 kB 2.7 MB/s \n",
            "\u001b[?25hCollecting ffmpy\n",
            "  Downloading ffmpy-0.3.0.tar.gz (4.8 kB)\n",
            "Collecting paramiko\n",
            "  Downloading paramiko-2.12.0-py2.py3-none-any.whl (213 kB)\n",
            "\u001b[K     |████████████████████████████████| 213 kB 43.1 MB/s \n",
            "\u001b[?25hRequirement already satisfied: requests in /usr/local/lib/python3.7/dist-packages (from gradio) (2.23.0)\n",
            "Collecting httpx\n",
            "  Downloading httpx-0.23.0-py3-none-any.whl (84 kB)\n",
            "\u001b[K     |████████████████████████████████| 84 kB 4.4 MB/s \n",
            "\u001b[?25hCollecting orjson\n",
            "  Downloading orjson-3.8.1-cp37-cp37m-manylinux_2_17_x86_64.manylinux2014_x86_64.whl (272 kB)\n",
            "\u001b[K     |████████████████████████████████| 272 kB 52.9 MB/s \n",
            "\u001b[?25hCollecting pydub\n",
            "  Downloading pydub-0.25.1-py2.py3-none-any.whl (32 kB)\n",
            "Requirement already satisfied: attrs>=17.3.0 in /usr/local/lib/python3.7/dist-packages (from aiohttp->gradio) (22.1.0)\n",
            "Requirement already satisfied: frozenlist>=1.1.1 in /usr/local/lib/python3.7/dist-packages (from aiohttp->gradio) (1.3.3)\n",
            "Requirement already satisfied: charset-normalizer<3.0,>=2.0 in /usr/local/lib/python3.7/dist-packages (from aiohttp->gradio) (2.1.1)\n",
            "Requirement already satisfied: async-timeout<5.0,>=4.0.0a3 in /usr/local/lib/python3.7/dist-packages (from aiohttp->gradio) (4.0.2)\n",
            "Requirement already satisfied: asynctest==0.13.0 in /usr/local/lib/python3.7/dist-packages (from aiohttp->gradio) (0.13.0)\n",
            "Requirement already satisfied: yarl<2.0,>=1.0 in /usr/local/lib/python3.7/dist-packages (from aiohttp->gradio) (1.8.1)\n",
            "Requirement already satisfied: multidict<7.0,>=4.5 in /usr/local/lib/python3.7/dist-packages (from aiohttp->gradio) (6.0.2)\n",
            "Requirement already satisfied: aiosignal>=1.1.2 in /usr/local/lib/python3.7/dist-packages (from aiohttp->gradio) (1.3.1)\n",
            "Requirement already satisfied: typing-extensions>=3.7.4 in /usr/local/lib/python3.7/dist-packages (from aiohttp->gradio) (4.1.1)\n",
            "Requirement already satisfied: idna>=2.0 in /usr/local/lib/python3.7/dist-packages (from yarl<2.0,>=1.0->aiohttp->gradio) (2.10)\n",
            "Collecting starlette==0.20.4\n",
            "  Downloading starlette-0.20.4-py3-none-any.whl (63 kB)\n",
            "\u001b[K     |████████████████████████████████| 63 kB 2.5 MB/s \n",
            "\u001b[?25hCollecting anyio<5,>=3.4.0\n",
            "  Downloading anyio-3.6.2-py3-none-any.whl (80 kB)\n",
            "\u001b[K     |████████████████████████████████| 80 kB 11.3 MB/s \n",
            "\u001b[?25hCollecting sniffio>=1.1\n",
            "  Downloading sniffio-1.3.0-py3-none-any.whl (10 kB)\n",
            "Collecting rfc3986[idna2008]<2,>=1.3\n",
            "  Downloading rfc3986-1.5.0-py2.py3-none-any.whl (31 kB)\n",
            "Requirement already satisfied: certifi in /usr/local/lib/python3.7/dist-packages (from httpx->gradio) (2022.9.24)\n",
            "Collecting httpcore<0.16.0,>=0.15.0\n",
            "  Downloading httpcore-0.15.0-py3-none-any.whl (68 kB)\n",
            "\u001b[K     |████████████████████████████████| 68 kB 6.1 MB/s \n",
            "\u001b[?25hRequirement already satisfied: MarkupSafe>=0.23 in /usr/local/lib/python3.7/dist-packages (from jinja2->gradio) (2.0.1)\n",
            "Collecting mdurl~=0.1\n",
            "  Downloading mdurl-0.1.2-py3-none-any.whl (10.0 kB)\n",
            "Collecting mdit-py-plugins\n",
            "  Downloading mdit_py_plugins-0.3.1-py3-none-any.whl (46 kB)\n",
            "\u001b[K     |████████████████████████████████| 46 kB 4.6 MB/s \n",
            "\u001b[?25hCollecting linkify-it-py~=1.0\n",
            "  Downloading linkify_it_py-1.0.3-py3-none-any.whl (19 kB)\n",
            "Collecting uc-micro-py\n",
            "  Downloading uc_micro_py-1.0.1-py3-none-any.whl (6.2 kB)\n",
            "Requirement already satisfied: cycler>=0.10 in /usr/local/lib/python3.7/dist-packages (from matplotlib->gradio) (0.11.0)\n",
            "Requirement already satisfied: kiwisolver>=1.0.1 in /usr/local/lib/python3.7/dist-packages (from matplotlib->gradio) (1.4.4)\n",
            "Requirement already satisfied: pyparsing!=2.0.4,!=2.1.2,!=2.1.6,>=2.0.1 in /usr/local/lib/python3.7/dist-packages (from matplotlib->gradio) (3.0.9)\n",
            "Requirement already satisfied: python-dateutil>=2.1 in /usr/local/lib/python3.7/dist-packages (from matplotlib->gradio) (2.8.2)\n",
            "Requirement already satisfied: six>=1.5 in /usr/local/lib/python3.7/dist-packages (from python-dateutil>=2.1->matplotlib->gradio) (1.15.0)\n",
            "Requirement already satisfied: pytz>=2017.3 in /usr/local/lib/python3.7/dist-packages (from pandas->gradio) (2022.6)\n",
            "Collecting bcrypt>=3.1.3\n",
            "  Downloading bcrypt-4.0.1-cp36-abi3-manylinux_2_24_x86_64.whl (593 kB)\n",
            "\u001b[K     |████████████████████████████████| 593 kB 51.8 MB/s \n",
            "\u001b[?25hCollecting cryptography>=2.5\n",
            "  Downloading cryptography-38.0.3-cp36-abi3-manylinux_2_24_x86_64.whl (4.1 MB)\n",
            "\u001b[K     |████████████████████████████████| 4.1 MB 40.2 MB/s \n",
            "\u001b[?25hCollecting pynacl>=1.0.1\n",
            "  Downloading PyNaCl-1.5.0-cp36-abi3-manylinux_2_17_x86_64.manylinux2014_x86_64.manylinux_2_24_x86_64.whl (856 kB)\n",
            "\u001b[K     |████████████████████████████████| 856 kB 44.6 MB/s \n",
            "\u001b[?25hRequirement already satisfied: cffi>=1.12 in /usr/local/lib/python3.7/dist-packages (from cryptography>=2.5->paramiko->gradio) (1.15.1)\n",
            "Requirement already satisfied: pycparser in /usr/local/lib/python3.7/dist-packages (from cffi>=1.12->cryptography>=2.5->paramiko->gradio) (2.21)\n",
            "Requirement already satisfied: urllib3!=1.25.0,!=1.25.1,<1.26,>=1.21.1 in /usr/local/lib/python3.7/dist-packages (from requests->gradio) (1.24.3)\n",
            "Requirement already satisfied: chardet<4,>=3.0.2 in /usr/local/lib/python3.7/dist-packages (from requests->gradio) (3.0.4)\n",
            "Requirement already satisfied: click>=7.0 in /usr/local/lib/python3.7/dist-packages (from uvicorn->gradio) (7.1.2)\n",
            "Building wheels for collected packages: ffmpy, python-multipart\n",
            "  Building wheel for ffmpy (setup.py) ... \u001b[?25l\u001b[?25hdone\n",
            "  Created wheel for ffmpy: filename=ffmpy-0.3.0-py3-none-any.whl size=4709 sha256=deca3bc022aceb2766ae41b59f87fa894dc68ca757d2123c83751bb1a373e41b\n",
            "  Stored in directory: /root/.cache/pip/wheels/13/e4/6c/e8059816e86796a597c6e6b0d4c880630f51a1fcfa0befd5e6\n",
            "  Building wheel for python-multipart (setup.py) ... \u001b[?25l\u001b[?25hdone\n",
            "  Created wheel for python-multipart: filename=python_multipart-0.0.5-py3-none-any.whl size=31677 sha256=d0e622ffac74e3b49d4005b9bc4ba7e8e92098e780e2af31c71e49011a0353e0\n",
            "  Stored in directory: /root/.cache/pip/wheels/2c/41/7c/bfd1c180534ffdcc0972f78c5758f89881602175d48a8bcd2c\n",
            "Successfully built ffmpy python-multipart\n",
            "Installing collected packages: sniffio, mdurl, uc-micro-py, rfc3986, markdown-it-py, h11, anyio, starlette, pynacl, mdit-py-plugins, linkify-it-py, httpcore, cryptography, bcrypt, websockets, uvicorn, python-multipart, pydub, pycryptodome, paramiko, orjson, httpx, ffmpy, fastapi, gradio\n",
            "Successfully installed anyio-3.6.2 bcrypt-4.0.1 cryptography-38.0.3 fastapi-0.86.0 ffmpy-0.3.0 gradio-3.9.1 h11-0.12.0 httpcore-0.15.0 httpx-0.23.0 linkify-it-py-1.0.3 markdown-it-py-2.1.0 mdit-py-plugins-0.3.1 mdurl-0.1.2 orjson-3.8.1 paramiko-2.12.0 pycryptodome-3.15.0 pydub-0.25.1 pynacl-1.5.0 python-multipart-0.0.5 rfc3986-1.5.0 sniffio-1.3.0 starlette-0.20.4 uc-micro-py-1.0.1 uvicorn-0.19.0 websockets-10.4\n",
            "Looking in indexes: https://pypi.org/simple, https://us-python.pkg.dev/colab-wheels/public/simple/\n",
            "Collecting fuzzywuzzy\n",
            "  Downloading fuzzywuzzy-0.18.0-py2.py3-none-any.whl (18 kB)\n",
            "Installing collected packages: fuzzywuzzy\n",
            "Successfully installed fuzzywuzzy-0.18.0\n"
          ]
        }
      ]
    },
    {
      "cell_type": "code",
      "source": [
        "import random\n",
        "import gradio as gr\n",
        "import re\n",
        "import argparse\n",
        "import pandas as pd\n",
        "from fuzzywuzzy import fuzz\n",
        "\n",
        "from typing import List"
      ],
      "metadata": {
        "id": "HUH8NQeBEMLp",
        "colab": {
          "base_uri": "https://localhost:8080/"
        },
        "outputId": "68cc876f-fdc8-4006-e514-7cb0537aca4a"
      },
      "execution_count": 3,
      "outputs": [
        {
          "output_type": "stream",
          "name": "stderr",
          "text": [
            "/usr/local/lib/python3.7/dist-packages/fuzzywuzzy/fuzz.py:11: UserWarning: Using slow pure-python SequenceMatcher. Install python-Levenshtein to remove this warning\n",
            "  warnings.warn('Using slow pure-python SequenceMatcher. Install python-Levenshtein to remove this warning')\n"
          ]
        }
      ]
    },
    {
      "cell_type": "code",
      "source": [
        "def regex_for_query_without_quotes(name, suffix = \"ы\"):\n",
        "    if suffix != \"\": suffix += \"?\"\n",
        "    return f\"{name}{suffix}:([\\w,.]+)\"\n",
        "\n",
        "\n",
        "def regex_for_query_with_quotes(name, suffix = \"ы\"):\n",
        "    if suffix != \"\": suffix += \"?\"\n",
        "    return f\"{name}{suffix}:'([\\w,. ]+)'\""
      ],
      "metadata": {
        "id": "eo15BVRtjAZV"
      },
      "execution_count": 4,
      "outputs": []
    },
    {
      "cell_type": "code",
      "source": [
        "class Handler:\n",
        "    def __init__(self, column_name, value_type=str):\n",
        "        self.column_name = column_name\n",
        "        self.value_type = value_type\n",
        "\n",
        "        \n",
        "    def __call__(self, query: str, df: pd.DataFrame):\n",
        "        raise NotImplementedError()\n",
        "\n",
        "\n",
        "class ComplexHandler(Handler):\n",
        "    def __init__(self, field_name, column_name, pred, cast_to_type=str, **kwargs):\n",
        "        super().__init__(column_name, cast_to_type)\n",
        "        pattern = regex_for_query_without_quotes(field_name, **kwargs)\n",
        "        pattern_with_quotes = regex_for_query_with_quotes(field_name, **kwargs)\n",
        "        self.regex = re.compile(pattern)\n",
        "        self.regex_with_quotes = re.compile(pattern_with_quotes)\n",
        "        self.pred = pred\n",
        "\n",
        "\n",
        "    def __call__(self, query: str, df: pd.DataFrame):\n",
        "        search_result = self.regex.findall(query)\n",
        "        search_result_with_quotes = self.regex_with_quotes.findall(query)\n",
        "        if not len(search_result) and not len(search_result_with_quotes): \n",
        "            return df\n",
        "        column = df[self.column_name]\n",
        "        first_result: str = search_result[0] if len(search_result) else search_result_with_quotes[0]\n",
        "        first_result = first_result.split(',')\n",
        "        result = pd.Series([True for _ in range(column.size)], index=column.index)\n",
        "        try:\n",
        "            for value in first_result:\n",
        "                value = self.value_type(value)\n",
        "                result &= self.pred(column, value)\n",
        "        except:\n",
        "            return df\n",
        "        return df[result]"
      ],
      "metadata": {
        "id": "qtrC6ySVjLg_"
      },
      "execution_count": 5,
      "outputs": []
    },
    {
      "cell_type": "code",
      "source": [
        "class Pipeline:\n",
        "    def __init__(self, handlers: List[Handler]):\n",
        "        self.handlers = handlers\n",
        "\n",
        "\n",
        "    def __call__(self, query, df):\n",
        "        for handler in self.handlers:\n",
        "            df = handler(query, df)\n",
        "        return df\n",
        "\n",
        "\n",
        "def get_films(query: str, films: List[str], k: int):\n",
        "    global df\n",
        "    year_handler = ComplexHandler(\"год\", \"Year\", lambda s, r: s == r, int)\n",
        "    director_handler = ComplexHandler(\"режиссер\", \"Director\", lambda s, r: s.str.contains(r))\n",
        "    genre_handler = ComplexHandler(\"жанр\", \"Genres\", lambda s, r: s.str.contains(r))\n",
        "    actor_handler = ComplexHandler(\"актер\", \"Actors\", lambda s, r: s.str.contains(r))\n",
        "    country_handler = ComplexHandler(\"страна\", \"Countries\", lambda s, r: s.str.contains(r))\n",
        "    rating_handler = ComplexHandler(\"рейтинг\", \"Rating\", lambda s, r: s >= r, float)\n",
        "\n",
        "    pipeline = Pipeline([\n",
        "        rating_handler, year_handler, director_handler, \n",
        "        genre_handler, actor_handler, country_handler\n",
        "    ])\n",
        "    res = pipeline(query, df)\n",
        "    res = res.sort_values('Rating', ascending=False)\n",
        "    res = res.iloc[:k].Title.values.tolist()\n",
        "    if len(res) < k:\n",
        "        res.extend(get_similar(query, films, k-len(res))) # second scenario\n",
        "    films.extend(res)\n",
        "    return res"
      ],
      "metadata": {
        "id": "5DliORTojOGw"
      },
      "execution_count": 6,
      "outputs": []
    },
    {
      "cell_type": "code",
      "source": [
        "# def get_films(query: str, films: List[str], k: int):\n",
        "#     final = pd.DataFrame([])\n",
        "#     for i, k in zip(df['all'], df['Title']):\n",
        "#         final = final.append(pd.DataFrame([query, i, fuzz.token_set_ratio(query, i), k]).T)\n",
        "#     final.columns = ['Query', 'Data', 'Similarity', 'Title']\n",
        "#     final = final.sort_values('Similarity', ascending=False)\n",
        "#     res = final.loc[:k].Title.values.tolist()\n",
        "#     films.extend(res)\n",
        "#     return res"
      ],
      "metadata": {
        "id": "14PDaetReJsG"
      },
      "execution_count": 7,
      "outputs": []
    },
    {
      "cell_type": "code",
      "source": [
        "# def get_films(query: str, films: List[str], k: int):\n",
        "#     res = [f'film_{i+1}' for i in range(k)]\n",
        "#     films.extend(res)\n",
        "#     return res\n",
        "\n",
        "def get_similar(query: str, films: List[str], k: int):\n",
        "    res = [f'film_{i+1}_second_case' for i in range(k)]\n",
        "    films.extend(res)\n",
        "    return res"
      ],
      "metadata": {
        "id": "AM27hm4NITgg"
      },
      "execution_count": 8,
      "outputs": []
    },
    {
      "cell_type": "code",
      "source": [
        "df = pd.read_csv('/content/drive/MyDrive/text2rec/top250.csv', index_col='FilmId')\n",
        "# df = df[['Title', 'Director', 'Genres', 'Actors', 'ShortDescription', 'Year']]\n",
        "# df['Actors'] = df['Actors'].apply(lambda x: ', '.join(str(i) for i in x.split(', ')[0:5]))\n",
        "# df['Year'] = df['Year'].apply(lambda x: str(x))\n",
        "# df['ShortDescription'].fillna(' ', inplace=True)\n",
        "# df['ShortDescription'] = df['ShortDescription'].apply(lambda x: str(x))\n",
        "# df['all'] = df['ShortDescription'] + ' ' + df['Director'] + ', ' + df['Actors'] + ', ' + df['Year'] + ', ' + df[\n",
        "#     'Genres']\n",
        "# df['all'] = df['all'].apply(lambda x: x.lower())"
      ],
      "metadata": {
        "id": "NyGLYRXyep6k"
      },
      "execution_count": 9,
      "outputs": []
    },
    {
      "cell_type": "code",
      "source": [
        "def get_recs(query: str, img_paths: List[str], k: int = 10) -> List[str]:\n",
        "    is_query_first_scenario = 1 #random.randint(0, 1)\n",
        "    if is_query_first_scenario:\n",
        "        result = get_films(query, img_paths, k)\n",
        "    else:\n",
        "        result = get_similar(query, img_paths, k)\n",
        "    return result\n",
        "\n",
        "def get_imgs(films):\n",
        "    return [f'/content/drive/MyDrive/text2rec/{name}.jpg' for name in films[-10:]]"
      ],
      "metadata": {
        "id": "n3Ur7_6jEMJq"
      },
      "execution_count": 10,
      "outputs": []
    },
    {
      "cell_type": "code",
      "source": [
        "description = '# Проект Text2Rec\\n \\\n",
        "Сервис предоставляет возможность поиска фильмов по произвольному запросу. \\n \\\n",
        "Поддерживается 2 сценария работы: \\n \\\n",
        "1) Поиск по ключевым параметрам: год, режиссер, жанр, актер, страна, рейтинг. \\n \\\n",
        "Пример запроса: \"жанр:приключения страна:США\" \\n \\\n",
        "2) Поиск по произвольному запросу. \\n \\\n",
        "Пример запроса: \"Фильмы про путешествия во времени\" \\n\\n \\\n",
        "Пожалуйста, оцените релевантность выдачи(Нравится/Не нравится), \\\n",
        "это поможет улучшить работу алгоритма. Не забудьте нажать кнопку \"Отправить ответы\"'"
      ],
      "metadata": {
        "id": "oe09wM1JM9yp"
      },
      "execution_count": 11,
      "outputs": []
    },
    {
      "cell_type": "code",
      "source": [
        "callback = gr.CSVLogger()\n",
        "\n",
        "with gr.Blocks() as demo:\n",
        "    films = gr.State([])\n",
        "    gr.Markdown(description)\n",
        "    query = gr.Textbox(label=\"Запрос\")\n",
        "    search_btn = gr.Button(\"Поиск\")\n",
        "    with gr.Row():\n",
        "        with gr.Column():\n",
        "            img1 = gr.Image(show_label=False)\n",
        "            name1 = gr.Text(show_label=False)\n",
        "            like1 = gr.Radio(show_label=False, choices=['Нравится', 'Не нравится'])\n",
        "        with gr.Column():\n",
        "            img2 = gr.Image(show_label=False)\n",
        "            name2 = gr.Text(show_label=False)\n",
        "            like2 = gr.Radio(show_label=False, choices=['Нравится', 'Не нравится'])\n",
        "        with gr.Column():\n",
        "            img3 = gr.Image(show_label=False)\n",
        "            name3 = gr.Text(show_label=False)\n",
        "            like3 = gr.Radio(show_label=False, choices=['Нравится', 'Не нравится'])\n",
        "        with gr.Column():\n",
        "            img4 = gr.Image(show_label=False)\n",
        "            name4 = gr.Text(show_label=False)\n",
        "            like4 = gr.Radio(show_label=False, choices=['Нравится', 'Не нравится'])\n",
        "    with gr.Row():\n",
        "        with gr.Column():\n",
        "            img5 = gr.Image(show_label=False)\n",
        "            name5 = gr.Text(show_label=False)\n",
        "            like5 = gr.Radio(show_label=False, choices=['Нравится', 'Не нравится'])\n",
        "        with gr.Column():\n",
        "            img6 = gr.Image(show_label=False)\n",
        "            name6 = gr.Text(show_label=False)\n",
        "            like6 = gr.Radio(show_label=False, choices=['Нравится', 'Не нравится'])\n",
        "        with gr.Column():\n",
        "            img7 = gr.Image(show_label=False)\n",
        "            name7 = gr.Text(show_label=False)\n",
        "            like7 = gr.Radio(show_label=False, choices=['Нравится', 'Не нравится'])\n",
        "        with gr.Column():\n",
        "            img8 = gr.Image(show_label=False)\n",
        "            name8 = gr.Text(show_label=False)\n",
        "            like8 = gr.Radio(show_label=False, choices=['Нравится', 'Не нравится'])\n",
        "    with gr.Row():\n",
        "        with gr.Column():\n",
        "            pass\n",
        "        with gr.Column():\n",
        "            img9 = gr.Image(show_label=False)\n",
        "            name9 = gr.Text(show_label=False)\n",
        "            like9 = gr.Radio(show_label=False, choices=['Нравится', 'Не нравится'])\n",
        "        with gr.Column():\n",
        "            img10 = gr.Image(show_label=False)\n",
        "            name10 = gr.Text(show_label=False)\n",
        "            like10 = gr.Radio(show_label=False, choices=['Нравится', 'Не нравится'])\n",
        "        with gr.Column():\n",
        "            pass\n",
        "    send_btn = gr.Button(\"Отправить оценки\")\n",
        "    note = gr.Markdown('Оценки отправлены. Спасибо!', visible=False)\n",
        "    name_list = [name1, name2, name3, name4, name5, name6, name7, name8, name9, name10]\n",
        "    img_list = [img1, img2, img3, img4, img5, img6, img7, img8, img9, img10]\n",
        "    like_list = [like1, like2, like3, like4, like5, like6, like7, like8, like9, like10]\n",
        "    search_btn.click(fn=get_recs, inputs=[query, films], outputs=name_list)\n",
        "    search_btn.click(fn=get_imgs, inputs=films, outputs=img_list)\n",
        "    callback.setup([query, *name_list, *like_list], \"collected_data\")\n",
        "    send_btn.click(lambda *args: callback.flag(args), [query, *name_list, *like_list], None, preprocess=False)\n",
        "    send_btn.click(lambda: gr.update(visible=True), inputs=None, outputs=note)"
      ],
      "metadata": {
        "id": "_iW4kK0EU1ya"
      },
      "execution_count": 12,
      "outputs": []
    },
    {
      "cell_type": "code",
      "source": [
        "# demo.queue()\n",
        "demo.launch(debug=True, share=True)"
      ],
      "metadata": {
        "colab": {
          "base_uri": "https://localhost:8080/",
          "height": 660
        },
        "id": "BC5Tr67XVGad",
        "outputId": "e037235a-88a8-4dea-97a8-44dd4885c17e"
      },
      "execution_count": 13,
      "outputs": [
        {
          "output_type": "stream",
          "name": "stdout",
          "text": [
            "Colab notebook detected. This cell will run indefinitely so that you can see errors and logs. To turn off, set debug=False in launch().\n",
            "Running on public URL: https://50a699eb6e97f8d8.gradio.app\n",
            "\n",
            "This share link expires in 72 hours. For free permanent hosting and GPU upgrades (NEW!), check out Spaces: https://huggingface.co/spaces\n"
          ]
        },
        {
          "output_type": "display_data",
          "data": {
            "text/plain": [
              "<IPython.core.display.HTML object>"
            ],
            "text/html": [
              "<div><iframe src=\"https://50a699eb6e97f8d8.gradio.app\" width=\"100%\" height=\"500\" allow=\"autoplay; camera; microphone; clipboard-read; clipboard-write;\" frameborder=\"0\" allowfullscreen></iframe></div>"
            ]
          },
          "metadata": {}
        },
        {
          "output_type": "stream",
          "name": "stdout",
          "text": [
            "Keyboard interruption in main thread... closing server.\n"
          ]
        },
        {
          "output_type": "execute_result",
          "data": {
            "text/plain": [
              "(<gradio.routes.App at 0x7fe1fa93a290>,\n",
              " 'http://127.0.0.1:7860/',\n",
              " 'https://50a699eb6e97f8d8.gradio.app')"
            ]
          },
          "metadata": {},
          "execution_count": 13
        }
      ]
    },
    {
      "cell_type": "code",
      "source": [
        "demo.close()"
      ],
      "metadata": {
        "colab": {
          "base_uri": "https://localhost:8080/"
        },
        "id": "quIwY5QuMF1_",
        "outputId": "00957ea6-67c4-4ada-e6a4-6dd1194df93b"
      },
      "execution_count": null,
      "outputs": [
        {
          "output_type": "stream",
          "name": "stdout",
          "text": [
            "Closing server running on port: 7860\n"
          ]
        }
      ]
    },
    {
      "cell_type": "code",
      "source": [
        "data = pd.read_csv('/content/collected_data/log.csv')\n",
        "data"
      ],
      "metadata": {
        "colab": {
          "base_uri": "https://localhost:8080/",
          "height": 243
        },
        "id": "GEERmS0SfZi7",
        "outputId": "e8d409b6-aa8c-4d8e-9240-553d049b44dd"
      },
      "execution_count": 14,
      "outputs": [
        {
          "output_type": "execute_result",
          "data": {
            "text/plain": [
              "                        Запрос component 1  \\\n",
              "0  жанр:приключения страна:США  Король Лев   \n",
              "\n",
              "                           component 2 component 3 component 4  \\\n",
              "0  Властелин колец: Возвращение короля  Тайна Коко       Клаус   \n",
              "\n",
              "                        component 5   component 6      component 7  \\\n",
              "0  Властелин колец: Братство Кольца  Интерстеллар  Назад в будущее   \n",
              "\n",
              "                     component 8 component 9  ... component 14 component 15  \\\n",
              "0  Властелин колец: Две крепости   Гладиатор  ...     Нравится          NaN   \n",
              "\n",
              "  component 16  component 17 component 18  component 19 component 20 flag  \\\n",
              "0     Нравится      Нравится          NaN           NaN          NaN  NaN   \n",
              "\n",
              "   username                   timestamp  \n",
              "0       NaN  2022-11-11 11:17:13.552920  \n",
              "\n",
              "[1 rows x 24 columns]"
            ],
            "text/html": [
              "\n",
              "  <div id=\"df-e83cbb0f-358f-4ef5-8a5e-e7039c8e6f92\">\n",
              "    <div class=\"colab-df-container\">\n",
              "      <div>\n",
              "<style scoped>\n",
              "    .dataframe tbody tr th:only-of-type {\n",
              "        vertical-align: middle;\n",
              "    }\n",
              "\n",
              "    .dataframe tbody tr th {\n",
              "        vertical-align: top;\n",
              "    }\n",
              "\n",
              "    .dataframe thead th {\n",
              "        text-align: right;\n",
              "    }\n",
              "</style>\n",
              "<table border=\"1\" class=\"dataframe\">\n",
              "  <thead>\n",
              "    <tr style=\"text-align: right;\">\n",
              "      <th></th>\n",
              "      <th>Запрос</th>\n",
              "      <th>component 1</th>\n",
              "      <th>component 2</th>\n",
              "      <th>component 3</th>\n",
              "      <th>component 4</th>\n",
              "      <th>component 5</th>\n",
              "      <th>component 6</th>\n",
              "      <th>component 7</th>\n",
              "      <th>component 8</th>\n",
              "      <th>component 9</th>\n",
              "      <th>...</th>\n",
              "      <th>component 14</th>\n",
              "      <th>component 15</th>\n",
              "      <th>component 16</th>\n",
              "      <th>component 17</th>\n",
              "      <th>component 18</th>\n",
              "      <th>component 19</th>\n",
              "      <th>component 20</th>\n",
              "      <th>flag</th>\n",
              "      <th>username</th>\n",
              "      <th>timestamp</th>\n",
              "    </tr>\n",
              "  </thead>\n",
              "  <tbody>\n",
              "    <tr>\n",
              "      <th>0</th>\n",
              "      <td>жанр:приключения страна:США</td>\n",
              "      <td>Король Лев</td>\n",
              "      <td>Властелин колец: Возвращение короля</td>\n",
              "      <td>Тайна Коко</td>\n",
              "      <td>Клаус</td>\n",
              "      <td>Властелин колец: Братство Кольца</td>\n",
              "      <td>Интерстеллар</td>\n",
              "      <td>Назад в будущее</td>\n",
              "      <td>Властелин колец: Две крепости</td>\n",
              "      <td>Гладиатор</td>\n",
              "      <td>...</td>\n",
              "      <td>Нравится</td>\n",
              "      <td>NaN</td>\n",
              "      <td>Нравится</td>\n",
              "      <td>Нравится</td>\n",
              "      <td>NaN</td>\n",
              "      <td>NaN</td>\n",
              "      <td>NaN</td>\n",
              "      <td>NaN</td>\n",
              "      <td>NaN</td>\n",
              "      <td>2022-11-11 11:17:13.552920</td>\n",
              "    </tr>\n",
              "  </tbody>\n",
              "</table>\n",
              "<p>1 rows × 24 columns</p>\n",
              "</div>\n",
              "      <button class=\"colab-df-convert\" onclick=\"convertToInteractive('df-e83cbb0f-358f-4ef5-8a5e-e7039c8e6f92')\"\n",
              "              title=\"Convert this dataframe to an interactive table.\"\n",
              "              style=\"display:none;\">\n",
              "        \n",
              "  <svg xmlns=\"http://www.w3.org/2000/svg\" height=\"24px\"viewBox=\"0 0 24 24\"\n",
              "       width=\"24px\">\n",
              "    <path d=\"M0 0h24v24H0V0z\" fill=\"none\"/>\n",
              "    <path d=\"M18.56 5.44l.94 2.06.94-2.06 2.06-.94-2.06-.94-.94-2.06-.94 2.06-2.06.94zm-11 1L8.5 8.5l.94-2.06 2.06-.94-2.06-.94L8.5 2.5l-.94 2.06-2.06.94zm10 10l.94 2.06.94-2.06 2.06-.94-2.06-.94-.94-2.06-.94 2.06-2.06.94z\"/><path d=\"M17.41 7.96l-1.37-1.37c-.4-.4-.92-.59-1.43-.59-.52 0-1.04.2-1.43.59L10.3 9.45l-7.72 7.72c-.78.78-.78 2.05 0 2.83L4 21.41c.39.39.9.59 1.41.59.51 0 1.02-.2 1.41-.59l7.78-7.78 2.81-2.81c.8-.78.8-2.07 0-2.86zM5.41 20L4 18.59l7.72-7.72 1.47 1.35L5.41 20z\"/>\n",
              "  </svg>\n",
              "      </button>\n",
              "      \n",
              "  <style>\n",
              "    .colab-df-container {\n",
              "      display:flex;\n",
              "      flex-wrap:wrap;\n",
              "      gap: 12px;\n",
              "    }\n",
              "\n",
              "    .colab-df-convert {\n",
              "      background-color: #E8F0FE;\n",
              "      border: none;\n",
              "      border-radius: 50%;\n",
              "      cursor: pointer;\n",
              "      display: none;\n",
              "      fill: #1967D2;\n",
              "      height: 32px;\n",
              "      padding: 0 0 0 0;\n",
              "      width: 32px;\n",
              "    }\n",
              "\n",
              "    .colab-df-convert:hover {\n",
              "      background-color: #E2EBFA;\n",
              "      box-shadow: 0px 1px 2px rgba(60, 64, 67, 0.3), 0px 1px 3px 1px rgba(60, 64, 67, 0.15);\n",
              "      fill: #174EA6;\n",
              "    }\n",
              "\n",
              "    [theme=dark] .colab-df-convert {\n",
              "      background-color: #3B4455;\n",
              "      fill: #D2E3FC;\n",
              "    }\n",
              "\n",
              "    [theme=dark] .colab-df-convert:hover {\n",
              "      background-color: #434B5C;\n",
              "      box-shadow: 0px 1px 3px 1px rgba(0, 0, 0, 0.15);\n",
              "      filter: drop-shadow(0px 1px 2px rgba(0, 0, 0, 0.3));\n",
              "      fill: #FFFFFF;\n",
              "    }\n",
              "  </style>\n",
              "\n",
              "      <script>\n",
              "        const buttonEl =\n",
              "          document.querySelector('#df-e83cbb0f-358f-4ef5-8a5e-e7039c8e6f92 button.colab-df-convert');\n",
              "        buttonEl.style.display =\n",
              "          google.colab.kernel.accessAllowed ? 'block' : 'none';\n",
              "\n",
              "        async function convertToInteractive(key) {\n",
              "          const element = document.querySelector('#df-e83cbb0f-358f-4ef5-8a5e-e7039c8e6f92');\n",
              "          const dataTable =\n",
              "            await google.colab.kernel.invokeFunction('convertToInteractive',\n",
              "                                                     [key], {});\n",
              "          if (!dataTable) return;\n",
              "\n",
              "          const docLinkHtml = 'Like what you see? Visit the ' +\n",
              "            '<a target=\"_blank\" href=https://colab.research.google.com/notebooks/data_table.ipynb>data table notebook</a>'\n",
              "            + ' to learn more about interactive tables.';\n",
              "          element.innerHTML = '';\n",
              "          dataTable['output_type'] = 'display_data';\n",
              "          await google.colab.output.renderOutput(dataTable, element);\n",
              "          const docLink = document.createElement('div');\n",
              "          docLink.innerHTML = docLinkHtml;\n",
              "          element.appendChild(docLink);\n",
              "        }\n",
              "      </script>\n",
              "    </div>\n",
              "  </div>\n",
              "  "
            ]
          },
          "metadata": {},
          "execution_count": 14
        }
      ]
    }
  ]
}