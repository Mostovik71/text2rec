{
  "cells": [
    {
      "cell_type": "code",
      "execution_count": null,
      "metadata": {
        "colab": {
          "base_uri": "https://localhost:8080/"
        },
        "id": "KreuaruuHVb6",
        "outputId": "aafa13fa-ccf8-4e5f-fdd4-e4547ec06424"
      },
      "outputs": [],
      "source": [
        "from google.colab import drive\n",
        "drive.mount('/content/drive')"
      ]
    },
    {
      "cell_type": "code",
      "execution_count": null,
      "metadata": {
        "id": "HUH8NQeBEMLp"
      },
      "outputs": [],
      "source": [
        "import random\n",
        "from typing import List\n",
        "import gradio as gr"
      ]
    },
    {
      "cell_type": "code",
      "execution_count": null,
      "metadata": {
        "id": "AM27hm4NITgg"
      },
      "outputs": [],
      "source": [
        "def get_films(query: str, films: List[str], k: int):\n",
        "    res = [f'film_{i+1}' for i in range(k)]\n",
        "    films.extend(res)\n",
        "    return res\n",
        "\n",
        "def get_similar(query: str, films: List[str], k: int):\n",
        "    res = [f'film_{i+1}' for i in range(k)]\n",
        "    films.extend(res)\n",
        "    return res"
      ]
    },
    {
      "cell_type": "code",
      "execution_count": null,
      "metadata": {
        "id": "n3Ur7_6jEMJq"
      },
      "outputs": [],
      "source": [
        "def get_recs(query: str, img_paths: List[str], k: int = 10) -> List[str]:\n",
        "    is_query_first_scenario = random.randint(0, 1)\n",
        "    if is_query_first_scenario:\n",
        "        result = get_films(query, img_paths, k)\n",
        "    else:\n",
        "        result = get_similar(query, img_paths, k)\n",
        "    return result\n",
        "\n",
        "def get_imgs(films):\n",
        "    return [f'/content/drive/MyDrive/text2rec/{name}.jpg' for name in films[-10:]] #Нужно указать ссылку на гугл - диск."
      ]
    },
    {
      "cell_type": "code",
      "execution_count": null,
      "metadata": {
        "id": "_iW4kK0EU1ya"
      },
      "outputs": [],
      "source": [
        "with gr.Blocks() as demo:\n",
        "    films = gr.State([])\n",
        "    query = gr.Textbox(label=\"Query\")\n",
        "    search_btn = gr.Button(\"Search\")\n",
        "    with gr.Row():\n",
        "        with gr.Column():\n",
        "            img1 = gr.Image(show_label=False)\n",
        "            name1 = gr.Text(show_label=False)\n",
        "        with gr.Column():\n",
        "            img2 = gr.Image(show_label=False)\n",
        "            name2 = gr.Text(show_label=False)\n",
        "    with gr.Row():\n",
        "        with gr.Column():\n",
        "            img3 = gr.Image(show_label=False)\n",
        "            name3 = gr.Text(show_label=False)\n",
        "        with gr.Column():\n",
        "            img4 = gr.Image(show_label=False)\n",
        "            name4 = gr.Text(show_label=False)\n",
        "        with gr.Column():\n",
        "            img5 = gr.Image(show_label=False)\n",
        "            name5 = gr.Text(show_label=False)\n",
        "        with gr.Column():\n",
        "            img6 = gr.Image(show_label=False)\n",
        "            name6 = gr.Text(show_label=False)\n",
        "    with gr.Row():\n",
        "        with gr.Column():\n",
        "            img7 = gr.Image(show_label=False)\n",
        "            name7 = gr.Text(show_label=False)\n",
        "        with gr.Column():\n",
        "            img8 = gr.Image(show_label=False)\n",
        "            name8 = gr.Text(show_label=False)\n",
        "        with gr.Column():\n",
        "            img9 = gr.Image(show_label=False)\n",
        "            name9 = gr.Text(show_label=False)\n",
        "        with gr.Column():\n",
        "            img10 = gr.Image(show_label=False)\n",
        "            name10 = gr.Text(show_label=False)\n",
        "    search_btn.click(fn=get_recs, inputs=[query, films], \n",
        "                     outputs=[name1, name2, name3, name4, name5, name6, name7, name8, name9, name10])\n",
        "    search_btn.click(fn=get_imgs, inputs=films,\n",
        "                     outputs=[img1, img2, img3, img4, img5, img6, img7, img8, img9, img10])"
      ]
    },
    {
      "cell_type": "code",
      "execution_count": null,
      "metadata": {
        "colab": {
          "base_uri": "https://localhost:8080/",
          "height": 660
        },
        "id": "BC5Tr67XVGad",
        "outputId": "3dbf4b3a-02a9-43ac-a4cc-4ec9e28778e4"
      },
      "outputs": [],
      "source": [
        "demo.launch(debug=True)"
      ]
    }
  ],
  "metadata": {
    "colab": {
      "collapsed_sections": [],
      "provenance": []
    },
    "kernelspec": {
      "display_name": "Python 3",
      "name": "python3"
    },
    "language_info": {
      "name": "python"
    }
  },
  "nbformat": 4,
  "nbformat_minor": 0
}
